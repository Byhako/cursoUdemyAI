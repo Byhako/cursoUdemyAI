{
 "cells": [
  {
   "cell_type": "code",
   "execution_count": 2,
   "metadata": {},
   "outputs": [],
   "source": [
    "import numpy as np\n",
    "import pandas as pd\n",
    "import matplotlib.pyplot as plt"
   ]
  },
  {
   "cell_type": "markdown",
   "metadata": {},
   "source": [
    "<div class='alert alert-info'>\n",
    "  Calculamos todas las posibles rectas entre los distintos puntos, y sacamos el promedio de sus respectivas pendientes y puntos de corte.  \n",
    "</div>"
   ]
  },
  {
   "cell_type": "code",
   "execution_count": 14,
   "metadata": {},
   "outputs": [
    {
     "data": {
      "text/plain": [
       "[[0, 1], [0, 2], [0, 3], [1, 2], [1, 3], [2, 3]]"
      ]
     },
     "execution_count": 14,
     "metadata": {},
     "output_type": "execute_result"
    }
   ],
   "source": [
    "def convination(n):\n",
    "    con = []\n",
    "    for i in range(0, n - 1):\n",
    "        for j in range(i, n):\n",
    "            if (i != j):\n",
    "                con.append([i, j])\n",
    "    return con\n",
    "\n",
    "convination(4)"
   ]
  },
  {
   "cell_type": "code",
   "execution_count": 15,
   "metadata": {},
   "outputs": [],
   "source": [
    "def lines(x, y, index):\n",
    "    cutPoints = []\n",
    "    slopes = []\n",
    "    for n in index:\n",
    "        x1 = x[n[0]]\n",
    "        x2 = x[n[1]]\n",
    "        y1 = y[n[0]]\n",
    "        y2 = y[n[1]]\n",
    "        # slope\n",
    "        m = (y2 - y1) / (x2 - x1)\n",
    "        # cut point\n",
    "        b = y1 - m*x1\n",
    "        slopes.append(m)\n",
    "        cutPoints.append(b)\n",
    "    \n",
    "    return [slopes, cutPoints]\n",
    "    "
   ]
  },
  {
   "cell_type": "code",
   "execution_count": 58,
   "metadata": {},
   "outputs": [
    {
     "name": "stdout",
     "output_type": "stream",
     "text": [
      "[[0, 1], [0, 2], [0, 3], [1, 2], [1, 3], [2, 3]]\n",
      "[[2.75, 2.5714285714285716, 2.3333333333333335, 2.3333333333333335, 2.0, 1.5], [50.0, 64.28571428571428, 83.33333333333331, 100.0, 140.0, 225.0]]\n"
     ]
    }
   ],
   "source": [
    "y = [270, 380, 450, 480]\n",
    "x = [80, 120, 150, 170]\n",
    "\n",
    "index = convination(len(x))\n",
    "print(index)\n",
    "\n",
    "lisLines = lines(x, y, index)\n",
    "print(lisLines)"
   ]
  },
  {
   "cell_type": "code",
   "execution_count": 67,
   "metadata": {},
   "outputs": [
    {
     "name": "stdout",
     "output_type": "stream",
     "text": [
      "2.248015873015873\n",
      "110.43650793650794\n"
     ]
    }
   ],
   "source": [
    "m = np.mean(lisLines[0])\n",
    "b = np.mean(lisLines[1])\n",
    "\n",
    "X = np.linspace(min(x), max(x), 100)\n",
    "Y = m*X + b\n",
    "print(m)\n",
    "print(b)\n",
    "Z = 2.37*X + 86.96"
   ]
  },
  {
   "cell_type": "code",
   "execution_count": 68,
   "metadata": {},
   "outputs": [
    {
     "data": {
      "image/png": "[encoded data removed]",
      "text/plain": [
       "<Figure size 432x288 with 1 Axes>"
      ]
     },
     "metadata": {
      "needs_background": "light"
     },
     "output_type": "display_data"
    }
   ],
   "source": [
    "\n",
    "plt.plot(x, y, 'o')\n",
    "plt.plot(X, Y, 'k')\n",
    "plt.plot(X, Z, 'b')\n",
    "\n",
    "plt.show()\n",
    "    "
   ]
  },
  {
   "cell_type": "code",
   "execution_count": 69,
   "metadata": {},
   "outputs": [
    {
     "name": "stdout",
     "output_type": "stream",
     "text": [
      "2.369565217391304 86.95652173913044\n"
     ]
    }
   ],
   "source": [
    "num = 0\n",
    "dem = 0\n",
    "xm = np.mean(x)\n",
    "ym = np.mean(y)\n",
    "\n",
    "for i in range(len(x)):\n",
    "    n = ( (x[i] - xm) * (y[i] - ym) )\n",
    "    d = ( (x[i] - xm)**2 )\n",
    "    num += n\n",
    "    dem += d\n",
    "    \n",
    "beta = num / dem\n",
    "alpha = ym - beta*xm\n",
    "\n",
    "print(beta, alpha)"
   ]
  },
  {
   "cell_type": "code",
   "execution_count": 75,
   "metadata": {},
   "outputs": [
    {
     "name": "stdout",
     "output_type": "stream",
     "text": [
      "323.96\n",
      "335.23809523809524\n"
     ]
    }
   ],
   "source": [
    "punto = 100\n",
    "regresion = 86.96 + 2.37*punto\n",
    "ruben = b + m*punto\n",
    "\n",
    "print(regresion)\n",
    "print(ruben)"
   ]
  },
  {
   "cell_type": "markdown",
   "metadata": {},
   "source": [
    "### Como vemos es mejor la regresion lineal jajajajja  :("
   ]
  },
  {
   "cell_type": "markdown",
   "metadata": {},
   "source": [
    "<div class='alert alert-info'>\n",
    "  <h3>Modelos de Regresión lineal</h3>  \n",
    "</div>"
   ]
  },
  {
   "cell_type": "code",
   "execution_count": 77,
   "metadata": {},
   "outputs": [
    {
     "data": {
      "text/html": [
       "<div>\n",
       "<style scoped>\n",
       "    .dataframe tbody tr th:only-of-type {\n",
       "        vertical-align: middle;\n",
       "    }\n",
       "\n",
       "    .dataframe tbody tr th {\n",
       "        vertical-align: top;\n",
       "    }\n",
       "\n",
       "    .dataframe thead th {\n",
       "        text-align: right;\n",
       "    }\n",
       "</style>\n",
       "<table border=\"1\" class=\"dataframe\">\n",
       "  <thead>\n",
       "    <tr style=\"text-align: right;\">\n",
       "      <th></th>\n",
       "      <th>x</th>\n",
       "      <th>y</th>\n",
       "      <th>y_pred</th>\n",
       "    </tr>\n",
       "  </thead>\n",
       "  <tbody>\n",
       "    <tr>\n",
       "      <th>0</th>\n",
       "      <td>1.581235</td>\n",
       "      <td>7.851511</td>\n",
       "      <td>8.004346</td>\n",
       "    </tr>\n",
       "    <tr>\n",
       "      <th>1</th>\n",
       "      <td>0.392419</td>\n",
       "      <td>7.293166</td>\n",
       "      <td>5.745596</td>\n",
       "    </tr>\n",
       "    <tr>\n",
       "      <th>2</th>\n",
       "      <td>-0.325362</td>\n",
       "      <td>4.800447</td>\n",
       "      <td>4.381812</td>\n",
       "    </tr>\n",
       "    <tr>\n",
       "      <th>3</th>\n",
       "      <td>1.993335</td>\n",
       "      <td>10.257432</td>\n",
       "      <td>8.787337</td>\n",
       "    </tr>\n",
       "    <tr>\n",
       "      <th>4</th>\n",
       "      <td>4.999244</td>\n",
       "      <td>14.309524</td>\n",
       "      <td>14.498564</td>\n",
       "    </tr>\n",
       "  </tbody>\n",
       "</table>\n",
       "</div>"
      ],
      "text/plain": [
       "          x          y     y_pred\n",
       "0  1.581235   7.851511   8.004346\n",
       "1  0.392419   7.293166   5.745596\n",
       "2 -0.325362   4.800447   4.381812\n",
       "3  1.993335  10.257432   8.787337\n",
       "4  4.999244  14.309524  14.498564"
      ]
     },
     "execution_count": 77,
     "metadata": {},
     "output_type": "execute_result"
    }
   ],
   "source": [
    "x = 1.5 + 2.5*np.random.randn(100);\n",
    "err = 0.8*np.random.randn(100);\n",
    "y_pred = 5 + 1.9*x;\n",
    "y_act = 5 + 1.9*x + err;\n",
    "\n",
    "x_list = x.tolist()\n",
    "y_pred_list = y_pred.tolist()\n",
    "y_act_list = y_act.tolist()\n",
    "\n",
    "data = pd.DataFrame(\n",
    "    {\n",
    "        \"x\": x_list,\n",
    "        \"y\": y_act_list,\n",
    "        \"y_pred\": y_pred_list\n",
    "    }\n",
    ")\n",
    "\n",
    "data.head()"
   ]
  },
  {
   "cell_type": "code",
   "execution_count": 80,
   "metadata": {},
   "outputs": [
    {
     "data": {
      "image/png": "[encoded data removed]",
      "text/plain": [
       "<Figure size 432x288 with 1 Axes>"
      ]
     },
     "metadata": {
      "needs_background": "light"
     },
     "output_type": "display_data"
    }
   ],
   "source": [
    "plt.plot(x, y_pred, 'k')\n",
    "plt.plot(x, y_act, 'ro')\n",
    "plt.title('Valor actual vs. prediccion')\n",
    "plt.show()"
   ]
  },
  {
   "cell_type": "code",
   "execution_count": null,
   "metadata": {},
   "outputs": [],
   "source": []
  }
 ],
 "metadata": {
  "kernelspec": {
   "display_name": "Python 3",
   "language": "python",
   "name": "python3"
  },
  "language_info": {
   "codemirror_mode": {
    "name": "ipython",
    "version": 3
   },
   "file_extension": ".py",
   "mimetype": "text/x-python",
   "name": "python",
   "nbconvert_exporter": "python",
   "pygments_lexer": "ipython3",
   "version": "3.7.3"
  }
 },
 "nbformat": 4,
 "nbformat_minor": 2
}
