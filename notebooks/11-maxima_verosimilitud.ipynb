{
 "cells": [
  {
   "cell_type": "markdown",
   "metadata": {},
   "source": [
    "<div class='alert alert-info'>\n",
    "    <h1>Método de máxima verosimilitud para la regresión logística</h1>\n",
    "\n",
    "</div>"
   ]
  },
  {
   "cell_type": "code",
   "execution_count": 1,
   "metadata": {},
   "outputs": [],
   "source": [
    "from IPython.display import display, Math"
   ]
  },
  {
   "cell_type": "code",
   "execution_count": 52,
   "metadata": {},
   "outputs": [
    {
     "data": {
      "text/latex": [
       "$\\displaystyle L(\\beta)=\\sum_{i=1}^n P_i^{y_i}(1-p_i)^{y_i}$"
      ],
      "text/plain": [
       "<IPython.core.display.Math object>"
      ]
     },
     "metadata": {},
     "output_type": "display_data"
    }
   ],
   "source": [
    "# Función de entorno\n",
    "display(Math(r'L(\\beta)=\\sum_{i=1}^n P_i^{y_i}(1-p_i)^{y_i}'))\n",
    "def likelihood(y, pi):\n",
    "    import numpy as np\n",
    "    total_sum = 1\n",
    "    sum_in = list(range(1, len(y)+1))\n",
    "    for i in range(len(y)):\n",
    "        sum_in = np.where(y[i]==1, pi[i], 1-pi[i])\n",
    "        total_sum *= sum_in\n",
    "    return total_sum\n",
    "        "
   ]
  },
  {
   "cell_type": "code",
   "execution_count": 47,
   "metadata": {},
   "outputs": [
    {
     "data": {
      "text/latex": [
       "$\\displaystyle P_i = \\frac{1}{1 + e^{\\sum_{j=0}^k -\\beta_j\\cdot x_{ij}}}$"
      ],
      "text/plain": [
       "<IPython.core.display.Math object>"
      ]
     },
     "metadata": {},
     "output_type": "display_data"
    }
   ],
   "source": [
    "# Probabilidades para cada observación\n",
    "display(Math(r'P_i = \\frac{1}{1 + e^{\\sum_{j=0}^k -\\beta_j\\cdot x_{ij}}}'))\n",
    "def logitprobs(x, beta):\n",
    "    import numpy as np\n",
    "    n_row = np.shape(x)[0]\n",
    "    n_col = np.shape(x)[1]\n",
    "    pi = list(range(1, n_row+1))\n",
    "    for i in range(n_row):\n",
    "        expo = 0\n",
    "        for j in range(n_col):\n",
    "            expo += x[i][j] * beta[j]\n",
    "        with np.errstate(divide='ignore', invalid='ignore'):\n",
    "            pi[i] = 1 / (1 + np.exp(-expo))\n",
    "    return pi"
   ]
  },
  {
   "cell_type": "code",
   "execution_count": 29,
   "metadata": {},
   "outputs": [
    {
     "data": {
      "text/latex": [
       "$\\displaystyle W = diag(P_i\\cdot(1 - P_i))_{i-1}^n$"
      ],
      "text/plain": [
       "<IPython.core.display.Math object>"
      ]
     },
     "metadata": {},
     "output_type": "display_data"
    }
   ],
   "source": [
    "# Matriz diagonal W\n",
    "display(Math(r'W = diag(P_i\\cdot(1 - P_i))_{i-1}^n'))\n",
    "def findW(pi):\n",
    "    import numpy as np\n",
    "    n = len(pi)\n",
    "    w = np.zeros((n, n))\n",
    "    for i in range(n):\n",
    "        w[i, i] = float(pi[i]*(1 - pi[i]))\n",
    "    return w"
   ]
  },
  {
   "cell_type": "code",
   "execution_count": 35,
   "metadata": {},
   "outputs": [
    {
     "data": {
      "text/latex": [
       "$\\displaystyle \\beta_{n+1} = \\beta_n - \\frac{f(\\beta_n)}{f´(\\beta_n)}$"
      ],
      "text/plain": [
       "<IPython.core.display.Math object>"
      ]
     },
     "metadata": {},
     "output_type": "display_data"
    },
    {
     "data": {
      "text/latex": [
       "$\\displaystyle f(\\beta) = \\beta(y-P)$"
      ],
      "text/plain": [
       "<IPython.core.display.Math object>"
      ]
     },
     "metadata": {},
     "output_type": "display_data"
    },
    {
     "data": {
      "text/latex": [
       "$\\displaystyle f´(\\beta) = \\beta W \\beta^T$"
      ],
      "text/plain": [
       "<IPython.core.display.Math object>"
      ]
     },
     "metadata": {},
     "output_type": "display_data"
    }
   ],
   "source": [
    "# Función logística\n",
    "display(Math(r'\\beta_{n+1} = \\beta_n - \\frac{f(\\beta_n)}{f´(\\beta_n)}'))\n",
    "display(Math(r'f(\\beta) = \\beta(y-P)'))\n",
    "display(Math(r'f´(\\beta) = \\beta W \\beta^T'))\n",
    "\n",
    "def logistic(x, y, limit):\n",
    "    \"\"\"\n",
    "    Limit_ Limite del cambio de un paso al siguiente\n",
    "    \"\"\"\n",
    "    import numpy as np\n",
    "    n_row = np.shape(x)[0]\n",
    "    bias = np.ones((n_row, 1))\n",
    "    x_new = np.append(x, bias, axis=1)\n",
    "    n_col = np.shape(x_new)[1]\n",
    "    beta = np.zeros((n_col, 1))\n",
    "    iter_i = 10000\n",
    "    while(iter_i > limit):\n",
    "        pi = logitprobs(x_new, beta)\n",
    "        w = findW(pi)\n",
    "        # deben ser vectores columna\n",
    "        num = np.transpose(np.matrix(x_new)) * np.matrix(y - np.transpose(pi)).transpose()\n",
    "        den = np.matrix(np.transpose(x_new) * np.matrix(w) * np.matrix(x_new))\n",
    "        root_dif = np.array(np.linalg.inv(den) * num)\n",
    "        beta += root_dif\n",
    "        iter_i = np.sum(root_dif*root_dif)\n",
    "        ll = likelihood(y, pi)\n",
    "    return beta"
   ]
  },
  {
   "cell_type": "markdown",
   "metadata": {},
   "source": [
    "# Comprobemos"
   ]
  },
  {
   "cell_type": "code",
   "execution_count": 39,
   "metadata": {},
   "outputs": [],
   "source": [
    "import numpy as np"
   ]
  },
  {
   "cell_type": "code",
   "execution_count": 40,
   "metadata": {},
   "outputs": [
    {
     "data": {
      "text/plain": [
       "array([[0., 1.],\n",
       "       [1., 1.],\n",
       "       [2., 1.],\n",
       "       [3., 1.],\n",
       "       [4., 1.],\n",
       "       [5., 1.],\n",
       "       [6., 1.],\n",
       "       [7., 1.],\n",
       "       [8., 1.],\n",
       "       [9., 1.]])"
      ]
     },
     "execution_count": 40,
     "metadata": {},
     "output_type": "execute_result"
    }
   ],
   "source": [
    "x = np.array(range(10)).reshape(10,1)\n",
    "y = [0, 0, 0, 0, 1, 0, 1, 0, 1, 1]\n",
    "bias = np.ones((10, 1))\n",
    "x_new = np.append(x, bias, axis=1)\n",
    "x_new"
   ]
  },
  {
   "cell_type": "code",
   "execution_count": 53,
   "metadata": {},
   "outputs": [],
   "source": [
    "a = logistic(x, y, 0.001)"
   ]
  },
  {
   "cell_type": "code",
   "execution_count": 54,
   "metadata": {},
   "outputs": [
    {
     "data": {
      "text/plain": [
       "array([[ 0.66217766],\n",
       "       [-3.6953843 ]])"
      ]
     },
     "execution_count": 54,
     "metadata": {},
     "output_type": "execute_result"
    }
   ],
   "source": [
    "a"
   ]
  },
  {
   "cell_type": "markdown",
   "metadata": {},
   "source": [
    "### y = -3.69 + x*0.66"
   ]
  },
  {
   "cell_type": "markdown",
   "metadata": {},
   "source": [
    "# Verifiquemos que respultado nos daria python"
   ]
  },
  {
   "cell_type": "code",
   "execution_count": 58,
   "metadata": {},
   "outputs": [],
   "source": [
    "import statsmodels.api as sm"
   ]
  },
  {
   "cell_type": "code",
   "execution_count": 63,
   "metadata": {},
   "outputs": [
    {
     "name": "stdout",
     "output_type": "stream",
     "text": [
      "Optimization terminated successfully.\n",
      "         Current function value: 0.431012\n",
      "         Iterations 6\n",
      "                        Results: Logit\n",
      "===============================================================\n",
      "Model:              Logit            Pseudo R-squared: 0.360   \n",
      "Dependent Variable: y                AIC:              12.6202 \n",
      "Date:               2019-11-15 13:32 BIC:              13.2254 \n",
      "No. Observations:   10               Log-Likelihood:   -4.3101 \n",
      "Df Model:           1                LL-Null:          -6.7301 \n",
      "Df Residuals:       8                LLR p-value:      0.027807\n",
      "Converged:          1.0000           Scale:            1.0000  \n",
      "No. Iterations:     6.0000                                     \n",
      "-----------------------------------------------------------------\n",
      "          Coef.    Std.Err.      z      P>|z|     [0.025   0.975]\n",
      "-----------------------------------------------------------------\n",
      "x1        0.6622     0.4001    1.6551   0.0979   -0.1220   1.4464\n",
      "const    -3.6956     2.2889   -1.6145   0.1064   -8.1818   0.7906\n",
      "===============================================================\n",
      "\n"
     ]
    }
   ],
   "source": [
    "model = sm.Logit(y, x_new);\n",
    "result = model.fit();\n",
    "print(result.summary2())"
   ]
  },
  {
   "cell_type": "code",
   "execution_count": null,
   "metadata": {},
   "outputs": [],
   "source": []
  }
 ],
 "metadata": {
  "kernelspec": {
   "display_name": "Python 3",
   "language": "python",
   "name": "python3"
  },
  "language_info": {
   "codemirror_mode": {
    "name": "ipython",
    "version": 3
   },
   "file_extension": ".py",
   "mimetype": "text/x-python",
   "name": "python",
   "nbconvert_exporter": "python",
   "pygments_lexer": "ipython3",
   "version": "3.7.3"
  }
 },
 "nbformat": 4,
 "nbformat_minor": 2
}
