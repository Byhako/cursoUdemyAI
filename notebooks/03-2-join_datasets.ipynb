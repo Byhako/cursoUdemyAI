{
 "cells": [
  {
   "cell_type": "markdown",
   "id": "91a4d287",
   "metadata": {},
   "source": [
    "### Joins de datasets"
   ]
  },
  {
   "cell_type": "code",
   "execution_count": 3,
   "id": "787c035d",
   "metadata": {},
   "outputs": [],
   "source": [
    "import pandas as pd\n",
    "import numpy as np\n",
    "\n",
    "filepath = '../datasets/athletes/'"
   ]
  },
  {
   "cell_type": "code",
   "execution_count": 4,
   "id": "94656b5e",
   "metadata": {},
   "outputs": [
    {
     "data": {
      "text/html": [
       "<div>\n",
       "<style scoped>\n",
       "    .dataframe tbody tr th:only-of-type {\n",
       "        vertical-align: middle;\n",
       "    }\n",
       "\n",
       "    .dataframe tbody tr th {\n",
       "        vertical-align: top;\n",
       "    }\n",
       "\n",
       "    .dataframe thead th {\n",
       "        text-align: right;\n",
       "    }\n",
       "</style>\n",
       "<table border=\"1\" class=\"dataframe\">\n",
       "  <thead>\n",
       "    <tr style=\"text-align: right;\">\n",
       "      <th></th>\n",
       "      <th>Athlete</th>\n",
       "      <th>Age</th>\n",
       "      <th>Year</th>\n",
       "      <th>Closing Ceremony Date</th>\n",
       "      <th>Gold Medals</th>\n",
       "      <th>Silver Medals</th>\n",
       "      <th>Bronze Medals</th>\n",
       "      <th>Total Medals</th>\n",
       "    </tr>\n",
       "  </thead>\n",
       "  <tbody>\n",
       "    <tr>\n",
       "      <th>1386</th>\n",
       "      <td>Gail Miller</td>\n",
       "      <td>23.0</td>\n",
       "      <td>2000</td>\n",
       "      <td>10/01/2000</td>\n",
       "      <td>1</td>\n",
       "      <td>0</td>\n",
       "      <td>0</td>\n",
       "      <td>1</td>\n",
       "    </tr>\n",
       "    <tr>\n",
       "      <th>7417</th>\n",
       "      <td>Olga Pylyova-Medvedtseva</td>\n",
       "      <td>34.0</td>\n",
       "      <td>2010</td>\n",
       "      <td>02/28/2010</td>\n",
       "      <td>1</td>\n",
       "      <td>0</td>\n",
       "      <td>0</td>\n",
       "      <td>1</td>\n",
       "    </tr>\n",
       "    <tr>\n",
       "      <th>2267</th>\n",
       "      <td>Dan Ketchum</td>\n",
       "      <td>22.0</td>\n",
       "      <td>2004</td>\n",
       "      <td>08/29/2004</td>\n",
       "      <td>1</td>\n",
       "      <td>0</td>\n",
       "      <td>0</td>\n",
       "      <td>1</td>\n",
       "    </tr>\n",
       "  </tbody>\n",
       "</table>\n",
       "</div>"
      ],
      "text/plain": [
       "                       Athlete   Age  Year Closing Ceremony Date  Gold Medals  \\\n",
       "1386               Gail Miller  23.0  2000            10/01/2000            1   \n",
       "7417  Olga Pylyova-Medvedtseva  34.0  2010            02/28/2010            1   \n",
       "2267               Dan Ketchum  22.0  2004            08/29/2004            1   \n",
       "\n",
       "      Silver Medals  Bronze Medals  Total Medals  \n",
       "1386              0              0             1  \n",
       "7417              0              0             1  \n",
       "2267              0              0             1  "
      ]
     },
     "execution_count": 4,
     "metadata": {},
     "output_type": "execute_result"
    }
   ],
   "source": [
    "data = pd.read_csv(filepath + 'Medals.csv', encoding='ISO-8859-1') \n",
    "data.sample(3)"
   ]
  },
  {
   "cell_type": "code",
   "execution_count": 5,
   "id": "506690cc",
   "metadata": {},
   "outputs": [
    {
     "data": {
      "text/plain": [
       "6956"
      ]
     },
     "execution_count": 5,
     "metadata": {},
     "output_type": "execute_result"
    }
   ],
   "source": [
    "# Obtengamos los atletas\n",
    "athlete = data['Athlete'].unique().tolist()\n",
    "len(athlete)"
   ]
  },
  {
   "cell_type": "code",
   "execution_count": 6,
   "id": "b613b371",
   "metadata": {},
   "outputs": [
    {
     "data": {
      "text/html": [
       "<div>\n",
       "<style scoped>\n",
       "    .dataframe tbody tr th:only-of-type {\n",
       "        vertical-align: middle;\n",
       "    }\n",
       "\n",
       "    .dataframe tbody tr th {\n",
       "        vertical-align: top;\n",
       "    }\n",
       "\n",
       "    .dataframe thead th {\n",
       "        text-align: right;\n",
       "    }\n",
       "</style>\n",
       "<table border=\"1\" class=\"dataframe\">\n",
       "  <thead>\n",
       "    <tr style=\"text-align: right;\">\n",
       "      <th></th>\n",
       "      <th>Athlete</th>\n",
       "      <th>Country</th>\n",
       "    </tr>\n",
       "  </thead>\n",
       "  <tbody>\n",
       "    <tr>\n",
       "      <th>4904</th>\n",
       "      <td>Monika Weber-Koszto</td>\n",
       "      <td>Germany</td>\n",
       "    </tr>\n",
       "    <tr>\n",
       "      <th>940</th>\n",
       "      <td>María Isabel Urrutia</td>\n",
       "      <td>Colombia</td>\n",
       "    </tr>\n",
       "    <tr>\n",
       "      <th>3072</th>\n",
       "      <td>Patric Leitner</td>\n",
       "      <td>Germany</td>\n",
       "    </tr>\n",
       "    <tr>\n",
       "      <th>478</th>\n",
       "      <td>Botond Storcz</td>\n",
       "      <td>Hungary</td>\n",
       "    </tr>\n",
       "  </tbody>\n",
       "</table>\n",
       "</div>"
      ],
      "text/plain": [
       "                   Athlete   Country\n",
       "4904   Monika Weber-Koszto   Germany\n",
       "940   María Isabel Urrutia  Colombia\n",
       "3072        Patric Leitner   Germany\n",
       "478          Botond Storcz   Hungary"
      ]
     },
     "execution_count": 6,
     "metadata": {},
     "output_type": "execute_result"
    }
   ],
   "source": [
    "countries = pd.read_csv(filepath + 'Athelete_Country_Map.csv', encoding='ISO-8859-1')\n",
    "countries.sample(4)"
   ]
  },
  {
   "cell_type": "code",
   "execution_count": 7,
   "id": "c8465545",
   "metadata": {},
   "outputs": [
    {
     "data": {
      "text/html": [
       "<div>\n",
       "<style scoped>\n",
       "    .dataframe tbody tr th:only-of-type {\n",
       "        vertical-align: middle;\n",
       "    }\n",
       "\n",
       "    .dataframe tbody tr th {\n",
       "        vertical-align: top;\n",
       "    }\n",
       "\n",
       "    .dataframe thead th {\n",
       "        text-align: right;\n",
       "    }\n",
       "</style>\n",
       "<table border=\"1\" class=\"dataframe\">\n",
       "  <thead>\n",
       "    <tr style=\"text-align: right;\">\n",
       "      <th></th>\n",
       "      <th>Athlete</th>\n",
       "      <th>Sport</th>\n",
       "    </tr>\n",
       "  </thead>\n",
       "  <tbody>\n",
       "    <tr>\n",
       "      <th>4579</th>\n",
       "      <td>David Albelda</td>\n",
       "      <td>Football</td>\n",
       "    </tr>\n",
       "    <tr>\n",
       "      <th>2879</th>\n",
       "      <td>Rowley Douglas</td>\n",
       "      <td>Rowing</td>\n",
       "    </tr>\n",
       "    <tr>\n",
       "      <th>854</th>\n",
       "      <td>Tigran V. Martirosyan</td>\n",
       "      <td>Weightlifting</td>\n",
       "    </tr>\n",
       "  </tbody>\n",
       "</table>\n",
       "</div>"
      ],
      "text/plain": [
       "                    Athlete          Sport\n",
       "4579          David Albelda       Football\n",
       "2879         Rowley Douglas         Rowing\n",
       "854   Tigran V. Martirosyan  Weightlifting"
      ]
     },
     "execution_count": 7,
     "metadata": {},
     "output_type": "execute_result"
    }
   ],
   "source": [
    "data_sports = pd.read_csv(filepath + 'Athelete_Sports_Map.csv', encoding='ISO-8859-1')\n",
    "data_sports.sample(3)"
   ]
  },
  {
   "cell_type": "code",
   "execution_count": 8,
   "id": "92bcbc7e",
   "metadata": {},
   "outputs": [
    {
     "data": {
      "text/plain": [
       "6975"
      ]
     },
     "execution_count": 8,
     "metadata": {},
     "output_type": "execute_result"
    }
   ],
   "source": [
    "len(data_sports)"
   ]
  },
  {
   "cell_type": "code",
   "execution_count": 9,
   "id": "e5b59fee",
   "metadata": {},
   "outputs": [
    {
     "data": {
      "text/html": [
       "<div>\n",
       "<style scoped>\n",
       "    .dataframe tbody tr th:only-of-type {\n",
       "        vertical-align: middle;\n",
       "    }\n",
       "\n",
       "    .dataframe tbody tr th {\n",
       "        vertical-align: top;\n",
       "    }\n",
       "\n",
       "    .dataframe thead th {\n",
       "        text-align: right;\n",
       "    }\n",
       "</style>\n",
       "<table border=\"1\" class=\"dataframe\">\n",
       "  <thead>\n",
       "    <tr style=\"text-align: right;\">\n",
       "      <th></th>\n",
       "      <th>Athlete</th>\n",
       "      <th>Age</th>\n",
       "      <th>Year</th>\n",
       "      <th>Closing Ceremony Date</th>\n",
       "      <th>Gold Medals</th>\n",
       "      <th>Silver Medals</th>\n",
       "      <th>Bronze Medals</th>\n",
       "      <th>Total Medals</th>\n",
       "      <th>Country</th>\n",
       "    </tr>\n",
       "  </thead>\n",
       "  <tbody>\n",
       "    <tr>\n",
       "      <th>1153</th>\n",
       "      <td>Cael Sanderson</td>\n",
       "      <td>25.0</td>\n",
       "      <td>2004</td>\n",
       "      <td>08/29/2004</td>\n",
       "      <td>1</td>\n",
       "      <td>0</td>\n",
       "      <td>0</td>\n",
       "      <td>1</td>\n",
       "      <td>United States</td>\n",
       "    </tr>\n",
       "    <tr>\n",
       "      <th>5585</th>\n",
       "      <td>Nahomi Kawasumi</td>\n",
       "      <td>26.0</td>\n",
       "      <td>2012</td>\n",
       "      <td>08/12/2012</td>\n",
       "      <td>0</td>\n",
       "      <td>1</td>\n",
       "      <td>0</td>\n",
       "      <td>1</td>\n",
       "      <td>Japan</td>\n",
       "    </tr>\n",
       "    <tr>\n",
       "      <th>1209</th>\n",
       "      <td>Roxana Cocos</td>\n",
       "      <td>23.0</td>\n",
       "      <td>2012</td>\n",
       "      <td>08/12/2012</td>\n",
       "      <td>0</td>\n",
       "      <td>1</td>\n",
       "      <td>0</td>\n",
       "      <td>1</td>\n",
       "      <td>Romania</td>\n",
       "    </tr>\n",
       "  </tbody>\n",
       "</table>\n",
       "</div>"
      ],
      "text/plain": [
       "              Athlete   Age  Year Closing Ceremony Date  Gold Medals  \\\n",
       "1153   Cael Sanderson  25.0  2004            08/29/2004            1   \n",
       "5585  Nahomi Kawasumi  26.0  2012            08/12/2012            0   \n",
       "1209     Roxana Cocos  23.0  2012            08/12/2012            0   \n",
       "\n",
       "      Silver Medals  Bronze Medals  Total Medals        Country  \n",
       "1153              0              0             1  United States  \n",
       "5585              1              0             1          Japan  \n",
       "1209              1              0             1        Romania  "
      ]
     },
     "execution_count": 9,
     "metadata": {},
     "output_type": "execute_result"
    }
   ],
   "source": [
    "# inner join\n",
    "data_main_country = pd.merge(\n",
    "    left = data,\n",
    "    right = countries,\n",
    "    left_on = 'Athlete',\n",
    "    right_on = 'Athlete'\n",
    ")\n",
    "\n",
    "data_main_country.sample(3)"
   ]
  },
  {
   "cell_type": "code",
   "execution_count": 10,
   "id": "1a83896e",
   "metadata": {},
   "outputs": [
    {
     "name": "stdout",
     "output_type": "stream",
     "text": [
      "Rows main dataframe 8618\n",
      "Rows country dataframe 6970\n",
      "Rows merged dataframe 8657\n"
     ]
    }
   ],
   "source": [
    "print(f'Rows main dataframe {len(data)}')\n",
    "print(f'Rows country dataframe {len(countries)}')\n",
    "print(f'Rows merged dataframe {len(data_main_country)}')"
   ]
  },
  {
   "cell_type": "markdown",
   "id": "e7227a28",
   "metadata": {},
   "source": [
    "Vemos que ha mas filas que en el principal, esto debido a que algunos atletas son de mas de un país y eso hace que se dupliquen esas filas. Veamos un ejemplo."
   ]
  },
  {
   "cell_type": "code",
   "execution_count": 11,
   "id": "f111d1f3",
   "metadata": {},
   "outputs": [
    {
     "data": {
      "text/html": [
       "<div>\n",
       "<style scoped>\n",
       "    .dataframe tbody tr th:only-of-type {\n",
       "        vertical-align: middle;\n",
       "    }\n",
       "\n",
       "    .dataframe tbody tr th {\n",
       "        vertical-align: top;\n",
       "    }\n",
       "\n",
       "    .dataframe thead th {\n",
       "        text-align: right;\n",
       "    }\n",
       "</style>\n",
       "<table border=\"1\" class=\"dataframe\">\n",
       "  <thead>\n",
       "    <tr style=\"text-align: right;\">\n",
       "      <th></th>\n",
       "      <th>Athlete</th>\n",
       "      <th>Age</th>\n",
       "      <th>Year</th>\n",
       "      <th>Closing Ceremony Date</th>\n",
       "      <th>Gold Medals</th>\n",
       "      <th>Silver Medals</th>\n",
       "      <th>Bronze Medals</th>\n",
       "      <th>Total Medals</th>\n",
       "      <th>Country</th>\n",
       "    </tr>\n",
       "  </thead>\n",
       "  <tbody>\n",
       "    <tr>\n",
       "      <th>1503</th>\n",
       "      <td>Aleksandar Ciric</td>\n",
       "      <td>30.0</td>\n",
       "      <td>2008</td>\n",
       "      <td>08/24/2008</td>\n",
       "      <td>0</td>\n",
       "      <td>0</td>\n",
       "      <td>1</td>\n",
       "      <td>1</td>\n",
       "      <td>Serbia</td>\n",
       "    </tr>\n",
       "    <tr>\n",
       "      <th>1504</th>\n",
       "      <td>Aleksandar Ciric</td>\n",
       "      <td>30.0</td>\n",
       "      <td>2008</td>\n",
       "      <td>08/24/2008</td>\n",
       "      <td>0</td>\n",
       "      <td>0</td>\n",
       "      <td>1</td>\n",
       "      <td>1</td>\n",
       "      <td>Serbia and Montenegro</td>\n",
       "    </tr>\n",
       "    <tr>\n",
       "      <th>1505</th>\n",
       "      <td>Aleksandar Ciric</td>\n",
       "      <td>26.0</td>\n",
       "      <td>2004</td>\n",
       "      <td>08/29/2004</td>\n",
       "      <td>0</td>\n",
       "      <td>1</td>\n",
       "      <td>0</td>\n",
       "      <td>1</td>\n",
       "      <td>Serbia</td>\n",
       "    </tr>\n",
       "    <tr>\n",
       "      <th>1506</th>\n",
       "      <td>Aleksandar Ciric</td>\n",
       "      <td>26.0</td>\n",
       "      <td>2004</td>\n",
       "      <td>08/29/2004</td>\n",
       "      <td>0</td>\n",
       "      <td>1</td>\n",
       "      <td>0</td>\n",
       "      <td>1</td>\n",
       "      <td>Serbia and Montenegro</td>\n",
       "    </tr>\n",
       "    <tr>\n",
       "      <th>1507</th>\n",
       "      <td>Aleksandar Ciric</td>\n",
       "      <td>22.0</td>\n",
       "      <td>2000</td>\n",
       "      <td>10/01/2000</td>\n",
       "      <td>0</td>\n",
       "      <td>0</td>\n",
       "      <td>1</td>\n",
       "      <td>1</td>\n",
       "      <td>Serbia</td>\n",
       "    </tr>\n",
       "    <tr>\n",
       "      <th>1508</th>\n",
       "      <td>Aleksandar Ciric</td>\n",
       "      <td>22.0</td>\n",
       "      <td>2000</td>\n",
       "      <td>10/01/2000</td>\n",
       "      <td>0</td>\n",
       "      <td>0</td>\n",
       "      <td>1</td>\n",
       "      <td>1</td>\n",
       "      <td>Serbia and Montenegro</td>\n",
       "    </tr>\n",
       "  </tbody>\n",
       "</table>\n",
       "</div>"
      ],
      "text/plain": [
       "               Athlete   Age  Year Closing Ceremony Date  Gold Medals  \\\n",
       "1503  Aleksandar Ciric  30.0  2008            08/24/2008            0   \n",
       "1504  Aleksandar Ciric  30.0  2008            08/24/2008            0   \n",
       "1505  Aleksandar Ciric  26.0  2004            08/29/2004            0   \n",
       "1506  Aleksandar Ciric  26.0  2004            08/29/2004            0   \n",
       "1507  Aleksandar Ciric  22.0  2000            10/01/2000            0   \n",
       "1508  Aleksandar Ciric  22.0  2000            10/01/2000            0   \n",
       "\n",
       "      Silver Medals  Bronze Medals  Total Medals                Country  \n",
       "1503              0              1             1                 Serbia  \n",
       "1504              0              1             1  Serbia and Montenegro  \n",
       "1505              1              0             1                 Serbia  \n",
       "1506              1              0             1  Serbia and Montenegro  \n",
       "1507              0              1             1                 Serbia  \n",
       "1508              0              1             1  Serbia and Montenegro  "
      ]
     },
     "execution_count": 11,
     "metadata": {},
     "output_type": "execute_result"
    }
   ],
   "source": [
    "data_main_country[data_main_country['Athlete'] == 'Aleksandar Ciric']"
   ]
  },
  {
   "cell_type": "code",
   "execution_count": 12,
   "id": "d007cb5a",
   "metadata": {},
   "outputs": [
    {
     "data": {
      "text/html": [
       "<div>\n",
       "<style scoped>\n",
       "    .dataframe tbody tr th:only-of-type {\n",
       "        vertical-align: middle;\n",
       "    }\n",
       "\n",
       "    .dataframe tbody tr th {\n",
       "        vertical-align: top;\n",
       "    }\n",
       "\n",
       "    .dataframe thead th {\n",
       "        text-align: right;\n",
       "    }\n",
       "</style>\n",
       "<table border=\"1\" class=\"dataframe\">\n",
       "  <thead>\n",
       "    <tr style=\"text-align: right;\">\n",
       "      <th></th>\n",
       "      <th>Athlete</th>\n",
       "      <th>Age</th>\n",
       "      <th>Year</th>\n",
       "      <th>Closing Ceremony Date</th>\n",
       "      <th>Gold Medals</th>\n",
       "      <th>Silver Medals</th>\n",
       "      <th>Bronze Medals</th>\n",
       "      <th>Total Medals</th>\n",
       "    </tr>\n",
       "  </thead>\n",
       "  <tbody>\n",
       "    <tr>\n",
       "      <th>1208</th>\n",
       "      <td>Aleksandar Ciric</td>\n",
       "      <td>30.0</td>\n",
       "      <td>2008</td>\n",
       "      <td>08/24/2008</td>\n",
       "      <td>0</td>\n",
       "      <td>0</td>\n",
       "      <td>1</td>\n",
       "      <td>1</td>\n",
       "    </tr>\n",
       "    <tr>\n",
       "      <th>1284</th>\n",
       "      <td>Aleksandar Ciric</td>\n",
       "      <td>26.0</td>\n",
       "      <td>2004</td>\n",
       "      <td>08/29/2004</td>\n",
       "      <td>0</td>\n",
       "      <td>1</td>\n",
       "      <td>0</td>\n",
       "      <td>1</td>\n",
       "    </tr>\n",
       "    <tr>\n",
       "      <th>1359</th>\n",
       "      <td>Aleksandar Ciric</td>\n",
       "      <td>22.0</td>\n",
       "      <td>2000</td>\n",
       "      <td>10/01/2000</td>\n",
       "      <td>0</td>\n",
       "      <td>0</td>\n",
       "      <td>1</td>\n",
       "      <td>1</td>\n",
       "    </tr>\n",
       "  </tbody>\n",
       "</table>\n",
       "</div>"
      ],
      "text/plain": [
       "               Athlete   Age  Year Closing Ceremony Date  Gold Medals  \\\n",
       "1208  Aleksandar Ciric  30.0  2008            08/24/2008            0   \n",
       "1284  Aleksandar Ciric  26.0  2004            08/29/2004            0   \n",
       "1359  Aleksandar Ciric  22.0  2000            10/01/2000            0   \n",
       "\n",
       "      Silver Medals  Bronze Medals  Total Medals  \n",
       "1208              0              1             1  \n",
       "1284              1              0             1  \n",
       "1359              0              1             1  "
      ]
     },
     "execution_count": 12,
     "metadata": {},
     "output_type": "execute_result"
    }
   ],
   "source": [
    "data[data['Athlete'] == 'Aleksandar Ciric']"
   ]
  },
  {
   "cell_type": "markdown",
   "id": "3c3174a2",
   "metadata": {},
   "source": [
    "<div class='alert'>Vemos que de tres filas originales ahora tenemos 6, y esto ha hecho que se duplique la cantidad de medallas que realmente obtuvo. El error se genera porque el dataframe tiene en algunos casos una relacion de uno a muchos, y debería ser de uno a uno.</div>"
   ]
  },
  {
   "cell_type": "code",
   "execution_count": 13,
   "id": "cf325e1b",
   "metadata": {},
   "outputs": [
    {
     "data": {
      "text/plain": [
       "8618"
      ]
     },
     "execution_count": 13,
     "metadata": {},
     "output_type": "execute_result"
    }
   ],
   "source": [
    "data_country = countries.drop_duplicates(subset='Athlete')\n",
    "data_main_country = pd.merge(\n",
    "    left = data,\n",
    "    right = data_country,\n",
    "    left_on = 'Athlete',\n",
    "    right_on = 'Athlete'\n",
    ")\n",
    "len(data_main_country)"
   ]
  },
  {
   "cell_type": "code",
   "execution_count": 14,
   "id": "49409d13",
   "metadata": {},
   "outputs": [
    {
     "data": {
      "text/plain": [
       "8618"
      ]
     },
     "execution_count": 14,
     "metadata": {},
     "output_type": "execute_result"
    }
   ],
   "source": [
    "len(data)"
   ]
  },
  {
   "cell_type": "markdown",
   "id": "fc9404ea",
   "metadata": {},
   "source": [
    "Vemos que ahora si tienen el mismo número de filas"
   ]
  },
  {
   "cell_type": "code",
   "execution_count": 15,
   "id": "2cf6cb85",
   "metadata": {},
   "outputs": [
    {
     "data": {
      "text/plain": [
       "8618"
      ]
     },
     "execution_count": 15,
     "metadata": {},
     "output_type": "execute_result"
    }
   ],
   "source": [
    "data_sports_dp = data_sports.drop_duplicates(subset='Athlete')\n",
    "data_final = pd.merge(\n",
    "    left = data_main_country,\n",
    "    right = data_sports_dp,\n",
    "    left_on = 'Athlete',\n",
    "    right_on = 'Athlete'\n",
    ")\n",
    "len(data_final)"
   ]
  },
  {
   "cell_type": "code",
   "execution_count": 16,
   "id": "6ed06c36",
   "metadata": {},
   "outputs": [
    {
     "data": {
      "text/html": [
       "<div>\n",
       "<style scoped>\n",
       "    .dataframe tbody tr th:only-of-type {\n",
       "        vertical-align: middle;\n",
       "    }\n",
       "\n",
       "    .dataframe tbody tr th {\n",
       "        vertical-align: top;\n",
       "    }\n",
       "\n",
       "    .dataframe thead th {\n",
       "        text-align: right;\n",
       "    }\n",
       "</style>\n",
       "<table border=\"1\" class=\"dataframe\">\n",
       "  <thead>\n",
       "    <tr style=\"text-align: right;\">\n",
       "      <th></th>\n",
       "      <th>Athlete</th>\n",
       "      <th>Age</th>\n",
       "      <th>Year</th>\n",
       "      <th>Closing Ceremony Date</th>\n",
       "      <th>Gold Medals</th>\n",
       "      <th>Silver Medals</th>\n",
       "      <th>Bronze Medals</th>\n",
       "      <th>Total Medals</th>\n",
       "      <th>Country</th>\n",
       "      <th>Sport</th>\n",
       "    </tr>\n",
       "  </thead>\n",
       "  <tbody>\n",
       "    <tr>\n",
       "      <th>7005</th>\n",
       "      <td>Michel Enríquez</td>\n",
       "      <td>25.0</td>\n",
       "      <td>2004</td>\n",
       "      <td>08/29/2004</td>\n",
       "      <td>1</td>\n",
       "      <td>0</td>\n",
       "      <td>0</td>\n",
       "      <td>1</td>\n",
       "      <td>Cuba</td>\n",
       "      <td>Baseball</td>\n",
       "    </tr>\n",
       "    <tr>\n",
       "      <th>7027</th>\n",
       "      <td>Kim Min-Jae</td>\n",
       "      <td>35.0</td>\n",
       "      <td>2008</td>\n",
       "      <td>08/24/2008</td>\n",
       "      <td>1</td>\n",
       "      <td>0</td>\n",
       "      <td>0</td>\n",
       "      <td>1</td>\n",
       "      <td>South Korea</td>\n",
       "      <td>Baseball</td>\n",
       "    </tr>\n",
       "    <tr>\n",
       "      <th>7300</th>\n",
       "      <td>Yordenis Ugás</td>\n",
       "      <td>22.0</td>\n",
       "      <td>2008</td>\n",
       "      <td>08/24/2008</td>\n",
       "      <td>0</td>\n",
       "      <td>0</td>\n",
       "      <td>1</td>\n",
       "      <td>1</td>\n",
       "      <td>Cuba</td>\n",
       "      <td>Boxing</td>\n",
       "    </tr>\n",
       "    <tr>\n",
       "      <th>6569</th>\n",
       "      <td>Marion Clignet</td>\n",
       "      <td>36.0</td>\n",
       "      <td>2000</td>\n",
       "      <td>10/01/2000</td>\n",
       "      <td>0</td>\n",
       "      <td>1</td>\n",
       "      <td>0</td>\n",
       "      <td>1</td>\n",
       "      <td>France</td>\n",
       "      <td>Cycling</td>\n",
       "    </tr>\n",
       "    <tr>\n",
       "      <th>4164</th>\n",
       "      <td>Askhat Zhitkeyev</td>\n",
       "      <td>27.0</td>\n",
       "      <td>2008</td>\n",
       "      <td>08/24/2008</td>\n",
       "      <td>0</td>\n",
       "      <td>1</td>\n",
       "      <td>0</td>\n",
       "      <td>1</td>\n",
       "      <td>Kazakhstan</td>\n",
       "      <td>Judo</td>\n",
       "    </tr>\n",
       "  </tbody>\n",
       "</table>\n",
       "</div>"
      ],
      "text/plain": [
       "               Athlete   Age  Year Closing Ceremony Date  Gold Medals  \\\n",
       "7005   Michel Enríquez  25.0  2004            08/29/2004            1   \n",
       "7027       Kim Min-Jae  35.0  2008            08/24/2008            1   \n",
       "7300     Yordenis Ugás  22.0  2008            08/24/2008            0   \n",
       "6569    Marion Clignet  36.0  2000            10/01/2000            0   \n",
       "4164  Askhat Zhitkeyev  27.0  2008            08/24/2008            0   \n",
       "\n",
       "      Silver Medals  Bronze Medals  Total Medals      Country     Sport  \n",
       "7005              0              0             1         Cuba  Baseball  \n",
       "7027              0              0             1  South Korea  Baseball  \n",
       "7300              0              1             1         Cuba    Boxing  \n",
       "6569              1              0             1       France   Cycling  \n",
       "4164              1              0             1   Kazakhstan      Judo  "
      ]
     },
     "execution_count": 16,
     "metadata": {},
     "output_type": "execute_result"
    }
   ],
   "source": [
    "data_final.sample(5)"
   ]
  },
  {
   "cell_type": "markdown",
   "id": "e0f2a3f3",
   "metadata": {},
   "source": [
    "### Otros tipos de joins"
   ]
  },
  {
   "cell_type": "markdown",
   "id": "7dbc182b",
   "metadata": {},
   "source": [
    "#### Inner Join\n",
    "\n",
    "* Devuelve un data frame con las filas que tienen valor tanto en el primer como en el segundo dataframe.\n",
    "* El número de filas será igual al número de filas comunes en ambos.\n",
    "* Es una intersección de conjuntos"
   ]
  },
  {
   "cell_type": "markdown",
   "id": "246d54cb",
   "metadata": {},
   "source": [
    "#### Left Join\n",
    "\n",
    "* Devuelve un dataframe con las filas que tuvieran valor en el dataset de la izquierda sin importar si tienen correspondencia en el de la derecha.\n",
    "\n",
    "* Las filas del dataframe final que no corresponden a ninguna fila del dataframe derecho tendrán NA en las columnas.\n",
    "\n",
    "* El número de filas será igual al número de filas del dataframe izquierdo\n",
    "\n",
    "* Es el dataset izquierdo + la intersección"
   ]
  },
  {
   "cell_type": "markdown",
   "id": "d306ac5b",
   "metadata": {},
   "source": [
    "#### Right Join\n",
    "\n",
    "* Lo inverso a lo anterior "
   ]
  },
  {
   "cell_type": "markdown",
   "id": "26202542",
   "metadata": {},
   "source": [
    "#### Outer Join\n",
    "\n",
    "* Devuelve un dataframe con todas las filas de ambos, reemplazando las ausencias con NA\n",
    "* El número de filas será el máximo de ambos.\n",
    "    + Dataset A 60 filas\n",
    "    + Dataset B 50 filas\n",
    "    + Comparten 30 filas\n",
    "    + A outer join B tendrá 60 + 50 - 30 = 80 filas\n",
    "    \n",
    "    \n",
    "    \n",
    " * Es una unión de conjuntos"
   ]
  },
  {
   "cell_type": "code",
   "execution_count": 18,
   "id": "aecb409f",
   "metadata": {},
   "outputs": [],
   "source": [
    "descartar = np.random.choice(data['Athlete'], size=10, replace=False)"
   ]
  },
  {
   "cell_type": "code",
   "execution_count": 22,
   "id": "73c46fbf",
   "metadata": {},
   "outputs": [],
   "source": [
    " country_dlt = data_country[~data_country['Athlete'].isin(descartar)]"
   ]
  },
  {
   "cell_type": "code",
   "execution_count": 24,
   "id": "2948fb91",
   "metadata": {},
   "outputs": [],
   "source": [
    "sports_dlt = data_sports_dp[~data_sports_dp['Athlete'].isin(descartar)]"
   ]
  },
  {
   "cell_type": "code",
   "execution_count": 25,
   "id": "7d3d401f",
   "metadata": {},
   "outputs": [],
   "source": [
    "data_dlt = data[~data['Athlete'].isin(descartar)]"
   ]
  },
  {
   "cell_type": "code",
   "execution_count": 26,
   "id": "b6a44cb0",
   "metadata": {},
   "outputs": [
    {
     "data": {
      "text/plain": [
       "(8606, 9)"
      ]
     },
     "execution_count": 26,
     "metadata": {},
     "output_type": "execute_result"
    }
   ],
   "source": [
    "merged_inner = pd.merge(\n",
    "    left = data,\n",
    "    right = country_dlt,\n",
    "    left_on = 'Athlete',\n",
    "    right_on = 'Athlete',\n",
    "    how='inner'\n",
    ")\n",
    "\n",
    "merged_inner.shape"
   ]
  },
  {
   "cell_type": "code",
   "execution_count": null,
   "id": "b1ab3cc7",
   "metadata": {},
   "outputs": [],
   "source": []
  }
 ],
 "metadata": {
  "kernelspec": {
   "display_name": "Python 3 (ipykernel)",
   "language": "python",
   "name": "python3"
  },
  "language_info": {
   "codemirror_mode": {
    "name": "ipython",
    "version": 3
   },
   "file_extension": ".py",
   "mimetype": "text/x-python",
   "name": "python",
   "nbconvert_exporter": "python",
   "pygments_lexer": "ipython3",
   "version": "3.9.13"
  }
 },
 "nbformat": 4,
 "nbformat_minor": 5
}
