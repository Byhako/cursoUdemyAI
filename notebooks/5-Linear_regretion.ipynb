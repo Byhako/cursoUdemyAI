{
 "cells": [
  {
   "cell_type": "code",
   "execution_count": 2,
   "metadata": {},
   "outputs": [],
   "source": [
    "import numpy as np\n",
    "import pandas as pd\n",
    "import matplotlib.pyplot as plt"
   ]
  },
  {
   "cell_type": "markdown",
   "metadata": {},
   "source": [
    "<div class='alert alert-info'>\n",
    "  Calculamos todas las posibles rectas entre los distintos puntos, y sacamos el promedio de sus respectivas pendientes y puntos de corte.  \n",
    "</div>"
   ]
  },
  {
   "cell_type": "code",
   "execution_count": 14,
   "metadata": {},
   "outputs": [
    {
     "data": {
      "text/plain": [
       "[[0, 1], [0, 2], [0, 3], [1, 2], [1, 3], [2, 3]]"
      ]
     },
     "execution_count": 14,
     "metadata": {},
     "output_type": "execute_result"
    }
   ],
   "source": [
    "def convination(n):\n",
    "    con = []\n",
    "    for i in range(0, n - 1):\n",
    "        for j in range(i, n):\n",
    "            if (i != j):\n",
    "                con.append([i, j])\n",
    "    return con\n",
    "\n",
    "convination(4)"
   ]
  },
  {
   "cell_type": "code",
   "execution_count": 15,
   "metadata": {},
   "outputs": [],
   "source": [
    "def lines(x, y, index):\n",
    "    cutPoints = []\n",
    "    slopes = []\n",
    "    for n in index:\n",
    "        x1 = x[n[0]]\n",
    "        x2 = x[n[1]]\n",
    "        y1 = y[n[0]]\n",
    "        y2 = y[n[1]]\n",
    "        # slope\n",
    "        m = (y2 - y1) / (x2 - x1)\n",
    "        # cut point\n",
    "        b = y1 - m*x1\n",
    "        slopes.append(m)\n",
    "        cutPoints.append(b)\n",
    "    \n",
    "    return [slopes, cutPoints]\n",
    "    "
   ]
  },
  {
   "cell_type": "code",
   "execution_count": 58,
   "metadata": {},
   "outputs": [
    {
     "name": "stdout",
     "output_type": "stream",
     "text": [
      "[[0, 1], [0, 2], [0, 3], [1, 2], [1, 3], [2, 3]]\n",
      "[[2.75, 2.5714285714285716, 2.3333333333333335, 2.3333333333333335, 2.0, 1.5], [50.0, 64.28571428571428, 83.33333333333331, 100.0, 140.0, 225.0]]\n"
     ]
    }
   ],
   "source": [
    "y = [270, 380, 450, 480]\n",
    "x = [80, 120, 150, 170]\n",
    "\n",
    "index = convination(len(x))\n",
    "print(index)\n",
    "\n",
    "lisLines = lines(x, y, index)\n",
    "print(lisLines)"
   ]
  },
  {
   "cell_type": "code",
   "execution_count": 67,
   "metadata": {},
   "outputs": [
    {
     "name": "stdout",
     "output_type": "stream",
     "text": [
      "2.248015873015873\n",
      "110.43650793650794\n"
     ]
    }
   ],
   "source": [
    "m = np.mean(lisLines[0])\n",
    "b = np.mean(lisLines[1])\n",
    "\n",
    "X = np.linspace(min(x), max(x), 100)\n",
    "Y = m*X + b\n",
    "print(m)\n",
    "print(b)\n",
    "Z = 2.37*X + 86.96"
   ]
  },
  {
   "cell_type": "code",
   "execution_count": 68,
   "metadata": {},
   "outputs": [
    {
     "data": {
      "image/png": "[encoded data removed]",
      "text/plain": [
       "<Figure size 432x288 with 1 Axes>"
      ]
     },
     "metadata": {
      "needs_background": "light"
     },
     "output_type": "display_data"
    }
   ],
   "source": [
    "\n",
    "plt.plot(x, y, 'o')\n",
    "plt.plot(X, Y, 'k')\n",
    "plt.plot(X, Z, 'b')\n",
    "\n",
    "plt.show()\n",
    "    "
   ]
  },
  {
   "cell_type": "code",
   "execution_count": 69,
   "metadata": {},
   "outputs": [
    {
     "name": "stdout",
     "output_type": "stream",
     "text": [
      "2.369565217391304 86.95652173913044\n"
     ]
    }
   ],
   "source": [
    "num = 0\n",
    "dem = 0\n",
    "xm = np.mean(x)\n",
    "ym = np.mean(y)\n",
    "\n",
    "for i in range(len(x)):\n",
    "    n = ( (x[i] - xm) * (y[i] - ym) )\n",
    "    d = ( (x[i] - xm)**2 )\n",
    "    num += n\n",
    "    dem += d\n",
    "    \n",
    "beta = num / dem\n",
    "alpha = ym - beta*xm\n",
    "\n",
    "print(beta, alpha)"
   ]
  },
  {
   "cell_type": "code",
   "execution_count": 75,
   "metadata": {},
   "outputs": [
    {
     "name": "stdout",
     "output_type": "stream",
     "text": [
      "323.96\n",
      "335.23809523809524\n"
     ]
    }
   ],
   "source": [
    "punto = 100\n",
    "regresion = 86.96 + 2.37*punto\n",
    "ruben = b + m*punto\n",
    "\n",
    "print(regresion)\n",
    "print(ruben)"
   ]
  },
  {
   "cell_type": "markdown",
   "metadata": {},
   "source": [
    "### Como vemos es mejor la regresion lineal jajajajja  :("
   ]
  },
  {
   "cell_type": "markdown",
   "metadata": {},
   "source": [
    "<div class='alert alert-info'>\n",
    "  <h3>Modelos de Regresión lineal</h3>  \n",
    "</div>"
   ]
  },
  {
   "cell_type": "code",
   "execution_count": 6,
   "metadata": {},
   "outputs": [
    {
     "data": {
      "text/html": [
       "<div>\n",
       "<style scoped>\n",
       "    .dataframe tbody tr th:only-of-type {\n",
       "        vertical-align: middle;\n",
       "    }\n",
       "\n",
       "    .dataframe tbody tr th {\n",
       "        vertical-align: top;\n",
       "    }\n",
       "\n",
       "    .dataframe thead th {\n",
       "        text-align: right;\n",
       "    }\n",
       "</style>\n",
       "<table border=\"1\" class=\"dataframe\">\n",
       "  <thead>\n",
       "    <tr style=\"text-align: right;\">\n",
       "      <th></th>\n",
       "      <th>x</th>\n",
       "      <th>y</th>\n",
       "      <th>y_pred</th>\n",
       "    </tr>\n",
       "  </thead>\n",
       "  <tbody>\n",
       "    <tr>\n",
       "      <th>0</th>\n",
       "      <td>2.032173</td>\n",
       "      <td>10.033648</td>\n",
       "      <td>8.861129</td>\n",
       "    </tr>\n",
       "    <tr>\n",
       "      <th>1</th>\n",
       "      <td>3.893630</td>\n",
       "      <td>11.205351</td>\n",
       "      <td>12.397898</td>\n",
       "    </tr>\n",
       "    <tr>\n",
       "      <th>2</th>\n",
       "      <td>1.722249</td>\n",
       "      <td>8.832837</td>\n",
       "      <td>8.272273</td>\n",
       "    </tr>\n",
       "    <tr>\n",
       "      <th>3</th>\n",
       "      <td>0.552378</td>\n",
       "      <td>8.159509</td>\n",
       "      <td>6.049519</td>\n",
       "    </tr>\n",
       "    <tr>\n",
       "      <th>4</th>\n",
       "      <td>2.733668</td>\n",
       "      <td>10.546640</td>\n",
       "      <td>10.193968</td>\n",
       "    </tr>\n",
       "  </tbody>\n",
       "</table>\n",
       "</div>"
      ],
      "text/plain": [
       "          x          y     y_pred\n",
       "0  2.032173  10.033648   8.861129\n",
       "1  3.893630  11.205351  12.397898\n",
       "2  1.722249   8.832837   8.272273\n",
       "3  0.552378   8.159509   6.049519\n",
       "4  2.733668  10.546640  10.193968"
      ]
     },
     "execution_count": 6,
     "metadata": {},
     "output_type": "execute_result"
    }
   ],
   "source": [
    "x = 1.5 + 2.5*np.random.randn(100);\n",
    "err = 0.8*np.random.randn(100);\n",
    "y_pred = 5 + 1.9*x;\n",
    "y_act = 5 + 1.9*x + err;\n",
    "\n",
    "x_list = x.tolist()\n",
    "y_pred_list = y_pred.tolist()\n",
    "y_act_list = y_act.tolist()\n",
    "\n",
    "data = pd.DataFrame(\n",
    "    {\n",
    "        \"x\": x_list,\n",
    "        \"y\": y_act_list,\n",
    "        \"y_pred\": y_pred_list\n",
    "    }\n",
    ")\n",
    "\n",
    "data.head()"
   ]
  },
  {
   "cell_type": "code",
   "execution_count": 15,
   "metadata": {},
   "outputs": [
    {
     "data": {
      "image/png": "[encoded data removed]",
      "text/plain": [
       "<Figure size 432x288 with 1 Axes>"
      ]
     },
     "metadata": {
      "needs_background": "light"
     },
     "output_type": "display_data"
    }
   ],
   "source": [
    "y_mean = [np.mean(y_act) for i in range(len(x_list))]\n",
    "plt.plot(x, y_pred, 'b', label='Prediction')\n",
    "plt.plot(x, y_act, 'ro', label='Observed')\n",
    "plt.plot(x, y_mean, 'k.', label='Mean')\n",
    "plt.legend(loc=0)\n",
    "plt.title('Valor actual vs. prediccion')\n",
    "plt.show()"
   ]
  },
  {
   "cell_type": "code",
   "execution_count": 37,
   "metadata": {},
   "outputs": [],
   "source": [
    "# sum square total\n",
    "data['SST'] = (data['y_pred'] - np.mean(y_act))**2\n",
    "# sum square differece\n",
    "data['SSD'] = (data['y_pred'] - data['y'])**2\n",
    "# sum square regretion\n",
    "data['SSR'] = (data['y'] - np.mean(y_act))**2"
   ]
  },
  {
   "cell_type": "code",
   "execution_count": 36,
   "metadata": {},
   "outputs": [
    {
     "data": {
      "text/plain": [
       "0.9681891437421056"
      ]
     },
     "execution_count": 36,
     "metadata": {},
     "output_type": "execute_result"
    }
   ],
   "source": [
    "ssr = sum(data['SSR'])\n",
    "ssd = sum(data['SSD'])\n",
    "sst = sum(data['SST'])\n",
    "\n",
    "# sst = ssr + ssd\n",
    "R2 = ssr/sst  # Cuadrado medio\n",
    "R2"
   ]
  },
  {
   "cell_type": "markdown",
   "metadata": {},
   "source": [
    "### El numero R2 es un indicador de que tan buena es nuestra regresión."
   ]
  },
  {
   "cell_type": "markdown",
   "metadata": {},
   "source": [
    "<div class='alert alert-info'>\n",
    "  <h3>Obteniendo la recta de regresión</h3>\n",
    "   <ul>\n",
    "       <li>y = <b>a</b> + <b>b</b>*x</li>\n",
    "       <li><b>b</b> = sum((xi - xm) * (yi - ym)) / sum((xi - xm)**2)</li>\n",
    "       <li><b>a</b> = ym - b*xm</li>\n",
    "   </ul>\n",
    "</div>"
   ]
  },
  {
   "cell_type": "code",
   "execution_count": 38,
   "metadata": {},
   "outputs": [],
   "source": [
    "def coefRegretion(x, y):\n",
    "    \"\"\"\n",
    "    We obtain the coefficients of the linear regression.\n",
    "    y = a = b*x\n",
    "    \"\"\"\n",
    "    xm = np.mean(x)\n",
    "    ym = np.mean(y)\n",
    "    num = 0\n",
    "    den = 0\n",
    "    for i in range(len(x)):\n",
    "        num += (x[i] - xm) * (y[i] - ym)\n",
    "        den += (x[i] - xm)**2\n",
    "        \n",
    "    b = num / den\n",
    "    a = ym - b*xm\n",
    "    return([a,b])\n",
    "    "
   ]
  },
  {
   "cell_type": "code",
   "execution_count": 40,
   "metadata": {},
   "outputs": [
    {
     "data": {
      "text/plain": [
       "[5.277247146047397, 1.844930819138838]"
      ]
     },
     "execution_count": 40,
     "metadata": {},
     "output_type": "execute_result"
    }
   ],
   "source": [
    "coeff = coefRegretion(data['x'], data['y'])\n",
    "coeff"
   ]
  },
  {
   "cell_type": "code",
   "execution_count": 46,
   "metadata": {},
   "outputs": [],
   "source": [
    "xx = np.linspace(min(data['x']), max(data['x']), 100)\n",
    "yy = coeff[0] + coeff[1]*xx"
   ]
  },
  {
   "cell_type": "code",
   "execution_count": 47,
   "metadata": {},
   "outputs": [
    {
     "data": {
      "image/png": "[encoded data removed]",
      "text/plain": [
       "<Figure size 432x288 with 1 Axes>"
      ]
     },
     "metadata": {
      "needs_background": "light"
     },
     "output_type": "display_data"
    }
   ],
   "source": [
    "plt.plot(x, y_act, 'ro', label='Observed')\n",
    "plt.plot(xx, yy, 'k', label='Regretion')\n",
    "plt.legend(loc=0)\n",
    "plt.title('Observed values vs. regretion')\n",
    "plt.show()"
   ]
  },
  {
   "cell_type": "markdown",
   "metadata": {},
   "source": [
    "<div class='alert alert-warning'>\n",
    "  <h3>El p-valor</h3>\n",
    "  <ul>\n",
    "      <li>H0 : b = 0</li>\n",
    "      <li>H1 : b != 0</li>\n",
    "  </ul>\n",
    "  <p>Si el p-valor resultante es menor que el nivel de significación, rechazamos la hipotesisi nula y aceptamos que existe una relacion lineal enre X y Y</p>\n",
    "</div>"
   ]
  },
  {
   "cell_type": "code",
   "execution_count": null,
   "metadata": {},
   "outputs": [],
   "source": []
  }
 ],
 "metadata": {
  "kernelspec": {
   "display_name": "Python 3",
   "language": "python",
   "name": "python3"
  },
  "language_info": {
   "codemirror_mode": {
    "name": "ipython",
    "version": 3
   },
   "file_extension": ".py",
   "mimetype": "text/x-python",
   "name": "python",
   "nbconvert_exporter": "python",
   "pygments_lexer": "ipython3",
   "version": "3.7.3"
  }
 },
 "nbformat": 4,
 "nbformat_minor": 2
}
