{
 "cells": [
  {
   "cell_type": "markdown",
   "metadata": {},
   "source": [
    "<div class='alert alert-info'>\n",
    "    <h2>Agrupación categórica</h2>\n",
    "</div>"
   ]
  },
  {
   "cell_type": "code",
   "execution_count": 1,
   "metadata": {},
   "outputs": [],
   "source": [
    "import pandas as pd\n",
    "import numpy as np\n",
    "import matplotlib.pyplot as plt\n",
    "from sklearn.model_selection import train_test_split"
   ]
  },
  {
   "cell_type": "code",
   "execution_count": 2,
   "metadata": {},
   "outputs": [],
   "source": [
    "gender = ['Male', 'Female']\n",
    "income = ['Poor', 'Middel', 'Rich']"
   ]
  },
  {
   "cell_type": "code",
   "execution_count": 3,
   "metadata": {},
   "outputs": [],
   "source": [
    "n = 500 # size dataframe\n",
    "\n",
    "gender_data = []\n",
    "income_data = []\n",
    "\n",
    "for i in range(n):\n",
    "    gender_data.append(np.random.choice(gender))\n",
    "    income_data.append(np.random.choice(income))\n",
    "    \n"
   ]
  },
  {
   "cell_type": "code",
   "execution_count": 4,
   "metadata": {},
   "outputs": [],
   "source": [
    "# n = media + desviación * distribución\n",
    "height = (160 + 30*np.random.randn(n)).astype(int)\n",
    "weight = (65 + 25*np.random.randn(n)).astype(int)\n",
    "age = (30 + 12*np.random.randn(n)).astype(int)\n",
    "income = 18000 + 3500*np.random.randn(n)"
   ]
  },
  {
   "cell_type": "code",
   "execution_count": 5,
   "metadata": {},
   "outputs": [
    {
     "data": {
      "text/html": [
       "<div>\n",
       "<style scoped>\n",
       "    .dataframe tbody tr th:only-of-type {\n",
       "        vertical-align: middle;\n",
       "    }\n",
       "\n",
       "    .dataframe tbody tr th {\n",
       "        vertical-align: top;\n",
       "    }\n",
       "\n",
       "    .dataframe thead th {\n",
       "        text-align: right;\n",
       "    }\n",
       "</style>\n",
       "<table border=\"1\" class=\"dataframe\">\n",
       "  <thead>\n",
       "    <tr style=\"text-align: right;\">\n",
       "      <th></th>\n",
       "      <th>Gender</th>\n",
       "      <th>Economic Status</th>\n",
       "      <th>Height</th>\n",
       "      <th>Weight</th>\n",
       "      <th>Age</th>\n",
       "      <th>Income</th>\n",
       "    </tr>\n",
       "  </thead>\n",
       "  <tbody>\n",
       "    <tr>\n",
       "      <th>0</th>\n",
       "      <td>Female</td>\n",
       "      <td>Rich</td>\n",
       "      <td>126</td>\n",
       "      <td>70</td>\n",
       "      <td>32</td>\n",
       "      <td>27195.557694</td>\n",
       "    </tr>\n",
       "    <tr>\n",
       "      <th>1</th>\n",
       "      <td>Male</td>\n",
       "      <td>Rich</td>\n",
       "      <td>128</td>\n",
       "      <td>64</td>\n",
       "      <td>31</td>\n",
       "      <td>14716.845363</td>\n",
       "    </tr>\n",
       "    <tr>\n",
       "      <th>2</th>\n",
       "      <td>Male</td>\n",
       "      <td>Middel</td>\n",
       "      <td>155</td>\n",
       "      <td>65</td>\n",
       "      <td>26</td>\n",
       "      <td>16877.992253</td>\n",
       "    </tr>\n",
       "    <tr>\n",
       "      <th>3</th>\n",
       "      <td>Male</td>\n",
       "      <td>Rich</td>\n",
       "      <td>207</td>\n",
       "      <td>95</td>\n",
       "      <td>16</td>\n",
       "      <td>17641.452131</td>\n",
       "    </tr>\n",
       "    <tr>\n",
       "      <th>4</th>\n",
       "      <td>Male</td>\n",
       "      <td>Rich</td>\n",
       "      <td>150</td>\n",
       "      <td>-4</td>\n",
       "      <td>25</td>\n",
       "      <td>14251.456950</td>\n",
       "    </tr>\n",
       "  </tbody>\n",
       "</table>\n",
       "</div>"
      ],
      "text/plain": [
       "   Gender Economic Status  Height  Weight  Age        Income\n",
       "0  Female            Rich     126      70   32  27195.557694\n",
       "1    Male            Rich     128      64   31  14716.845363\n",
       "2    Male          Middel     155      65   26  16877.992253\n",
       "3    Male            Rich     207      95   16  17641.452131\n",
       "4    Male            Rich     150      -4   25  14251.456950"
      ]
     },
     "execution_count": 5,
     "metadata": {},
     "output_type": "execute_result"
    }
   ],
   "source": [
    "data = pd.DataFrame(\n",
    "    {\n",
    "        'Gender': gender_data,\n",
    "        'Economic Status': income_data,\n",
    "        'Height': height,\n",
    "        'Weight': weight,\n",
    "        'Age': age,\n",
    "        'Income': income\n",
    "    }\n",
    ")\n",
    "\n",
    "data.head()"
   ]
  },
  {
   "cell_type": "code",
   "execution_count": 6,
   "metadata": {},
   "outputs": [
    {
     "data": {
      "text/plain": [
       "{'Female': Int64Index([  0,   5,   8,   9,  11,  12,  13,  16,  18,  19,\n",
       "             ...\n",
       "             472, 473, 474, 475, 481, 487, 488, 491, 496, 497],\n",
       "            dtype='int64', length=249),\n",
       " 'Male': Int64Index([  1,   2,   3,   4,   6,   7,  10,  14,  15,  17,\n",
       "             ...\n",
       "             485, 486, 489, 490, 492, 493, 494, 495, 498, 499],\n",
       "            dtype='int64', length=251)}"
      ]
     },
     "execution_count": 6,
     "metadata": {},
     "output_type": "execute_result"
    }
   ],
   "source": [
    "gruped_gender = data.groupby('Gender')\n",
    "\n",
    "gruped_gender.groups"
   ]
  },
  {
   "cell_type": "code",
   "execution_count": 7,
   "metadata": {},
   "outputs": [
    {
     "name": "stdout",
     "output_type": "stream",
     "text": [
      "Female\n",
      "     Gender Economic Status  Height  Weight  Age        Income\n",
      "0    Female            Rich     126      70   32  27195.557694\n",
      "5    Female          Middel     180      93   24  16381.621269\n",
      "8    Female            Poor     164      56   13   8784.422312\n",
      "9    Female            Rich     163     103   20  18776.337692\n",
      "11   Female            Poor     182      86   23  18835.500330\n",
      "12   Female            Poor     176      56   36  20774.277470\n",
      "13   Female          Middel     177      63   26  17354.802322\n",
      "16   Female          Middel     182      96   31  14743.540362\n",
      "18   Female          Middel     192      28   49  23498.207965\n",
      "19   Female            Poor     129      84   37  16375.019775\n",
      "20   Female            Rich     133      56   13  16186.939195\n",
      "22   Female            Rich     181      30    6  17976.909871\n",
      "26   Female          Middel     127      45   44  21536.226505\n",
      "27   Female          Middel     159      64   42  14745.465634\n",
      "28   Female          Middel     155      42   42  16195.621468\n",
      "29   Female            Poor     173      69   43  20396.120306\n",
      "30   Female          Middel     169      39   13  20761.022960\n",
      "31   Female            Poor     187      80   15  14012.135853\n",
      "32   Female          Middel     149      50   12  23624.998419\n",
      "35   Female            Rich     189      63   22  19358.907653\n",
      "38   Female          Middel     179      45   29  16149.802067\n",
      "41   Female          Middel     188     113   28  18403.578553\n",
      "42   Female            Poor     115      52   13  14626.400360\n",
      "44   Female            Rich     156      55    7  15140.228246\n",
      "45   Female            Poor     132      51   20  16006.296877\n",
      "47   Female            Poor     119      66    7  18538.555269\n",
      "49   Female          Middel     123      62   48   8996.923416\n",
      "51   Female            Poor     121      78   35  21489.182520\n",
      "52   Female            Rich     134      79   35  18998.815851\n",
      "53   Female          Middel     169      80   39  15478.633087\n",
      "..      ...             ...     ...     ...  ...           ...\n",
      "430  Female          Middel     218      44   19  11472.496113\n",
      "432  Female          Middel     160      50   41  13858.513346\n",
      "433  Female            Rich     191     143   -5  13727.927600\n",
      "436  Female          Middel     117      50   33  17577.572270\n",
      "440  Female            Rich     125      75   34  19212.641301\n",
      "442  Female            Rich     173      68   21  21981.124571\n",
      "443  Female            Rich     184      96   25  22195.330012\n",
      "446  Female          Middel     167      55   36  12271.461217\n",
      "447  Female          Middel     112      58   42  13145.301661\n",
      "448  Female          Middel     189      47   28  14599.757637\n",
      "449  Female            Poor     151      46   27  21167.906089\n",
      "451  Female          Middel     204      43  -12   9514.365385\n",
      "454  Female            Rich     174      38   29  21111.417736\n",
      "459  Female          Middel     213      74   19  12113.580592\n",
      "460  Female          Middel     162      78   21  18358.394375\n",
      "461  Female            Rich     161      41   42  17528.067242\n",
      "463  Female            Rich     188      52    9  21418.951323\n",
      "464  Female          Middel     117      55   50  14854.986842\n",
      "468  Female            Poor     127     123   56  15740.376641\n",
      "470  Female            Rich     106      92   43  20496.133539\n",
      "472  Female            Rich     112      20   26  23906.637851\n",
      "473  Female          Middel     158      98   50  17531.593549\n",
      "474  Female          Middel     157      78   22  18238.912662\n",
      "475  Female            Poor      56      75   32  17807.439692\n",
      "481  Female            Poor     146      62   25  20668.439329\n",
      "487  Female            Rich     152      56   28  20398.943320\n",
      "488  Female            Rich     185      95   37  17939.968576\n",
      "491  Female            Poor     170      60   12  16711.711860\n",
      "496  Female            Poor     132       8   27  22267.556465\n",
      "497  Female            Poor     169      63   15  19110.368657\n",
      "\n",
      "[249 rows x 6 columns]\n",
      "Male\n",
      "    Gender Economic Status  Height  Weight  Age        Income\n",
      "1     Male            Rich     128      64   31  14716.845363\n",
      "2     Male          Middel     155      65   26  16877.992253\n",
      "3     Male            Rich     207      95   16  17641.452131\n",
      "4     Male            Rich     150      -4   25  14251.456950\n",
      "6     Male            Poor     179      45    9  25534.462308\n",
      "7     Male            Poor     142     126   35  20042.791434\n",
      "10    Male            Poor     132      48   28  20972.438583\n",
      "14    Male          Middel     138      65   25  16837.680397\n",
      "15    Male            Poor     198      48   44  19951.195016\n",
      "17    Male            Rich     199      26   12  17518.040104\n",
      "21    Male            Rich     116      60    9  20611.205197\n",
      "23    Male            Poor     163      56   23  19800.313658\n",
      "24    Male            Rich     141     112   21  13950.041040\n",
      "25    Male          Middel     202      64   48  15054.079623\n",
      "33    Male            Rich     157      32   30  17333.902035\n",
      "34    Male          Middel     183      51   11  23893.913112\n",
      "36    Male            Poor     126      50   28  15102.428510\n",
      "37    Male            Rich     170      49   21   8518.003071\n",
      "39    Male            Rich     177      60   35  17464.574854\n",
      "40    Male            Rich     145      86   41  18186.805352\n",
      "43    Male            Rich     188     100   16  13728.824937\n",
      "46    Male          Middel     181      77   20  16406.373441\n",
      "48    Male          Middel     131      35   18  16570.027910\n",
      "50    Male            Poor     142      58   35  20817.025002\n",
      "55    Male            Rich     165      81    4  21375.255491\n",
      "57    Male            Rich     167      22   22   8746.278417\n",
      "59    Male            Poor     193      58   37  22581.167157\n",
      "60    Male          Middel     196      45    3  19690.949633\n",
      "63    Male            Rich     119      64    9  16342.359352\n",
      "64    Male            Poor     168      30   38  11857.892313\n",
      "..     ...             ...     ...     ...  ...           ...\n",
      "452   Male            Rich     132      43   24  13860.247154\n",
      "453   Male          Middel     196      76   37  22032.516160\n",
      "455   Male            Poor     157      72   29  16891.046949\n",
      "456   Male            Poor     123      39   52  15444.703672\n",
      "457   Male          Middel     191      58   30  20173.890477\n",
      "458   Male            Poor     103      72   39  19361.646097\n",
      "462   Male          Middel     155      42   37  16888.102231\n",
      "465   Male            Rich     148      61   10  16378.912359\n",
      "466   Male          Middel     134      55   32  15104.112053\n",
      "467   Male          Middel     164      70   34  12570.011933\n",
      "469   Male            Rich     178      20   33  15377.203125\n",
      "471   Male            Rich     150      72   37  19033.340096\n",
      "476   Male            Poor     163      87   30  20504.134438\n",
      "477   Male            Rich     165      60   29  18912.406011\n",
      "478   Male          Middel     122      54   24  12431.717324\n",
      "479   Male          Middel     152      82   31  19488.155363\n",
      "480   Male            Rich     183      19   51  17020.994719\n",
      "482   Male            Poor     156      65   43  19940.798873\n",
      "483   Male            Poor     155      41   30  17011.743016\n",
      "484   Male            Poor     171     105   30  19847.200966\n",
      "485   Male            Poor     185      84   38  23528.498958\n",
      "486   Male            Rich     191      28   39  15840.894610\n",
      "489   Male            Rich     196     115   13  16728.114167\n",
      "490   Male          Middel     174      26   36  10025.835403\n",
      "492   Male            Poor     181     119   50  19395.625480\n",
      "493   Male            Rich     134      84   43  17364.676747\n",
      "494   Male          Middel     134      74   29  13628.251950\n",
      "495   Male          Middel     173      47   41  22969.573703\n",
      "498   Male            Rich     107      65   42  19618.430654\n",
      "499   Male            Poor     183      65   13  16399.444046\n",
      "\n",
      "[251 rows x 6 columns]\n"
     ]
    }
   ],
   "source": [
    "for names, groups in gruped_gender:\n",
    "    print(names)\n",
    "    print(groups)"
   ]
  },
  {
   "cell_type": "code",
   "execution_count": 8,
   "metadata": {},
   "outputs": [
    {
     "data": {
      "text/html": [
       "<div>\n",
       "<style scoped>\n",
       "    .dataframe tbody tr th:only-of-type {\n",
       "        vertical-align: middle;\n",
       "    }\n",
       "\n",
       "    .dataframe tbody tr th {\n",
       "        vertical-align: top;\n",
       "    }\n",
       "\n",
       "    .dataframe thead th {\n",
       "        text-align: right;\n",
       "    }\n",
       "</style>\n",
       "<table border=\"1\" class=\"dataframe\">\n",
       "  <thead>\n",
       "    <tr style=\"text-align: right;\">\n",
       "      <th></th>\n",
       "      <th>Gender</th>\n",
       "      <th>Economic Status</th>\n",
       "      <th>Height</th>\n",
       "      <th>Weight</th>\n",
       "      <th>Age</th>\n",
       "      <th>Income</th>\n",
       "    </tr>\n",
       "  </thead>\n",
       "  <tbody>\n",
       "    <tr>\n",
       "      <th>0</th>\n",
       "      <td>Female</td>\n",
       "      <td>Rich</td>\n",
       "      <td>126</td>\n",
       "      <td>70</td>\n",
       "      <td>32</td>\n",
       "      <td>27195.557694</td>\n",
       "    </tr>\n",
       "    <tr>\n",
       "      <th>5</th>\n",
       "      <td>Female</td>\n",
       "      <td>Middel</td>\n",
       "      <td>180</td>\n",
       "      <td>93</td>\n",
       "      <td>24</td>\n",
       "      <td>16381.621269</td>\n",
       "    </tr>\n",
       "    <tr>\n",
       "      <th>8</th>\n",
       "      <td>Female</td>\n",
       "      <td>Poor</td>\n",
       "      <td>164</td>\n",
       "      <td>56</td>\n",
       "      <td>13</td>\n",
       "      <td>8784.422312</td>\n",
       "    </tr>\n",
       "    <tr>\n",
       "      <th>9</th>\n",
       "      <td>Female</td>\n",
       "      <td>Rich</td>\n",
       "      <td>163</td>\n",
       "      <td>103</td>\n",
       "      <td>20</td>\n",
       "      <td>18776.337692</td>\n",
       "    </tr>\n",
       "    <tr>\n",
       "      <th>11</th>\n",
       "      <td>Female</td>\n",
       "      <td>Poor</td>\n",
       "      <td>182</td>\n",
       "      <td>86</td>\n",
       "      <td>23</td>\n",
       "      <td>18835.500330</td>\n",
       "    </tr>\n",
       "  </tbody>\n",
       "</table>\n",
       "</div>"
      ],
      "text/plain": [
       "    Gender Economic Status  Height  Weight  Age        Income\n",
       "0   Female            Rich     126      70   32  27195.557694\n",
       "5   Female          Middel     180      93   24  16381.621269\n",
       "8   Female            Poor     164      56   13   8784.422312\n",
       "9   Female            Rich     163     103   20  18776.337692\n",
       "11  Female            Poor     182      86   23  18835.500330"
      ]
     },
     "execution_count": 8,
     "metadata": {},
     "output_type": "execute_result"
    }
   ],
   "source": [
    "gruped_gender.get_group('Female').head()"
   ]
  },
  {
   "cell_type": "markdown",
   "metadata": {},
   "source": [
    "## Doble agrupación"
   ]
  },
  {
   "cell_type": "code",
   "execution_count": 9,
   "metadata": {},
   "outputs": [
    {
     "name": "stdout",
     "output_type": "stream",
     "text": [
      "('Female', 'Middel')\n",
      "('Female', 'Poor')\n",
      "('Female', 'Rich')\n",
      "('Male', 'Middel')\n",
      "('Male', 'Poor')\n",
      "('Male', 'Rich')\n"
     ]
    }
   ],
   "source": [
    "double = data.groupby(['Gender', 'Economic Status'])\n",
    "for names, groups in double:\n",
    "    print(names)"
   ]
  },
  {
   "cell_type": "markdown",
   "metadata": {},
   "source": [
    "<div class='alert alert-success'>\n",
    "    <h3>Operaciones sobre datos agrupados.</h3>\n",
    "</div>"
   ]
  },
  {
   "cell_type": "code",
   "execution_count": 10,
   "metadata": {},
   "outputs": [
    {
     "data": {
      "text/html": [
       "<div>\n",
       "<style scoped>\n",
       "    .dataframe tbody tr th:only-of-type {\n",
       "        vertical-align: middle;\n",
       "    }\n",
       "\n",
       "    .dataframe tbody tr th {\n",
       "        vertical-align: top;\n",
       "    }\n",
       "\n",
       "    .dataframe thead th {\n",
       "        text-align: right;\n",
       "    }\n",
       "</style>\n",
       "<table border=\"1\" class=\"dataframe\">\n",
       "  <thead>\n",
       "    <tr style=\"text-align: right;\">\n",
       "      <th></th>\n",
       "      <th></th>\n",
       "      <th>Height</th>\n",
       "      <th>Weight</th>\n",
       "      <th>Age</th>\n",
       "      <th>Income</th>\n",
       "    </tr>\n",
       "    <tr>\n",
       "      <th>Gender</th>\n",
       "      <th>Economic Status</th>\n",
       "      <th></th>\n",
       "      <th></th>\n",
       "      <th></th>\n",
       "      <th></th>\n",
       "    </tr>\n",
       "  </thead>\n",
       "  <tbody>\n",
       "    <tr>\n",
       "      <th rowspan=\"3\" valign=\"top\">Female</th>\n",
       "      <th>Middel</th>\n",
       "      <td>14136</td>\n",
       "      <td>5632</td>\n",
       "      <td>2631</td>\n",
       "      <td>1.484816e+06</td>\n",
       "    </tr>\n",
       "    <tr>\n",
       "      <th>Poor</th>\n",
       "      <td>11758</td>\n",
       "      <td>4821</td>\n",
       "      <td>2173</td>\n",
       "      <td>1.321527e+06</td>\n",
       "    </tr>\n",
       "    <tr>\n",
       "      <th>Rich</th>\n",
       "      <td>14146</td>\n",
       "      <td>5605</td>\n",
       "      <td>2554</td>\n",
       "      <td>1.609686e+06</td>\n",
       "    </tr>\n",
       "    <tr>\n",
       "      <th rowspan=\"3\" valign=\"top\">Male</th>\n",
       "      <th>Middel</th>\n",
       "      <td>10906</td>\n",
       "      <td>4268</td>\n",
       "      <td>1962</td>\n",
       "      <td>1.225098e+06</td>\n",
       "    </tr>\n",
       "    <tr>\n",
       "      <th>Poor</th>\n",
       "      <td>15213</td>\n",
       "      <td>5987</td>\n",
       "      <td>2833</td>\n",
       "      <td>1.744346e+06</td>\n",
       "    </tr>\n",
       "    <tr>\n",
       "      <th>Rich</th>\n",
       "      <td>14401</td>\n",
       "      <td>5810</td>\n",
       "      <td>2643</td>\n",
       "      <td>1.578454e+06</td>\n",
       "    </tr>\n",
       "  </tbody>\n",
       "</table>\n",
       "</div>"
      ],
      "text/plain": [
       "                        Height  Weight   Age        Income\n",
       "Gender Economic Status                                    \n",
       "Female Middel            14136    5632  2631  1.484816e+06\n",
       "       Poor              11758    4821  2173  1.321527e+06\n",
       "       Rich              14146    5605  2554  1.609686e+06\n",
       "Male   Middel            10906    4268  1962  1.225098e+06\n",
       "       Poor              15213    5987  2833  1.744346e+06\n",
       "       Rich              14401    5810  2643  1.578454e+06"
      ]
     },
     "execution_count": 10,
     "metadata": {},
     "output_type": "execute_result"
    }
   ],
   "source": [
    "double.sum()"
   ]
  },
  {
   "cell_type": "code",
   "execution_count": 11,
   "metadata": {},
   "outputs": [
    {
     "data": {
      "text/html": [
       "<div>\n",
       "<style scoped>\n",
       "    .dataframe tbody tr th:only-of-type {\n",
       "        vertical-align: middle;\n",
       "    }\n",
       "\n",
       "    .dataframe tbody tr th {\n",
       "        vertical-align: top;\n",
       "    }\n",
       "\n",
       "    .dataframe thead th {\n",
       "        text-align: right;\n",
       "    }\n",
       "</style>\n",
       "<table border=\"1\" class=\"dataframe\">\n",
       "  <thead>\n",
       "    <tr style=\"text-align: right;\">\n",
       "      <th></th>\n",
       "      <th></th>\n",
       "      <th>Height</th>\n",
       "      <th>Weight</th>\n",
       "      <th>Age</th>\n",
       "      <th>Income</th>\n",
       "    </tr>\n",
       "    <tr>\n",
       "      <th>Gender</th>\n",
       "      <th>Economic Status</th>\n",
       "      <th></th>\n",
       "      <th></th>\n",
       "      <th></th>\n",
       "      <th></th>\n",
       "    </tr>\n",
       "  </thead>\n",
       "  <tbody>\n",
       "    <tr>\n",
       "      <th rowspan=\"3\" valign=\"top\">Female</th>\n",
       "      <th>Middel</th>\n",
       "      <td>162.482759</td>\n",
       "      <td>64.735632</td>\n",
       "      <td>30.241379</td>\n",
       "      <td>17066.847504</td>\n",
       "    </tr>\n",
       "    <tr>\n",
       "      <th>Poor</th>\n",
       "      <td>156.773333</td>\n",
       "      <td>64.280000</td>\n",
       "      <td>28.973333</td>\n",
       "      <td>17620.363489</td>\n",
       "    </tr>\n",
       "    <tr>\n",
       "      <th>Rich</th>\n",
       "      <td>162.597701</td>\n",
       "      <td>64.425287</td>\n",
       "      <td>29.356322</td>\n",
       "      <td>18502.135986</td>\n",
       "    </tr>\n",
       "    <tr>\n",
       "      <th rowspan=\"3\" valign=\"top\">Male</th>\n",
       "      <th>Middel</th>\n",
       "      <td>162.776119</td>\n",
       "      <td>63.701493</td>\n",
       "      <td>29.283582</td>\n",
       "      <td>18285.045806</td>\n",
       "    </tr>\n",
       "    <tr>\n",
       "      <th>Poor</th>\n",
       "      <td>163.580645</td>\n",
       "      <td>64.376344</td>\n",
       "      <td>30.462366</td>\n",
       "      <td>18756.410591</td>\n",
       "    </tr>\n",
       "    <tr>\n",
       "      <th>Rich</th>\n",
       "      <td>158.252747</td>\n",
       "      <td>63.846154</td>\n",
       "      <td>29.043956</td>\n",
       "      <td>17345.647756</td>\n",
       "    </tr>\n",
       "  </tbody>\n",
       "</table>\n",
       "</div>"
      ],
      "text/plain": [
       "                            Height     Weight        Age        Income\n",
       "Gender Economic Status                                                \n",
       "Female Middel           162.482759  64.735632  30.241379  17066.847504\n",
       "       Poor             156.773333  64.280000  28.973333  17620.363489\n",
       "       Rich             162.597701  64.425287  29.356322  18502.135986\n",
       "Male   Middel           162.776119  63.701493  29.283582  18285.045806\n",
       "       Poor             163.580645  64.376344  30.462366  18756.410591\n",
       "       Rich             158.252747  63.846154  29.043956  17345.647756"
      ]
     },
     "execution_count": 11,
     "metadata": {},
     "output_type": "execute_result"
    }
   ],
   "source": [
    "double.mean()"
   ]
  },
  {
   "cell_type": "code",
   "execution_count": 12,
   "metadata": {},
   "outputs": [
    {
     "data": {
      "text/plain": [
       "Gender  Economic Status\n",
       "Female  Middel             87\n",
       "        Poor               75\n",
       "        Rich               87\n",
       "Male    Middel             67\n",
       "        Poor               93\n",
       "        Rich               91\n",
       "dtype: int64"
      ]
     },
     "execution_count": 12,
     "metadata": {},
     "output_type": "execute_result"
    }
   ],
   "source": [
    "double.size()"
   ]
  },
  {
   "cell_type": "code",
   "execution_count": 13,
   "metadata": {},
   "outputs": [
    {
     "data": {
      "text/html": [
       "<div>\n",
       "<style scoped>\n",
       "    .dataframe tbody tr th:only-of-type {\n",
       "        vertical-align: middle;\n",
       "    }\n",
       "\n",
       "    .dataframe tbody tr th {\n",
       "        vertical-align: top;\n",
       "    }\n",
       "\n",
       "    .dataframe thead tr th {\n",
       "        text-align: left;\n",
       "    }\n",
       "\n",
       "    .dataframe thead tr:last-of-type th {\n",
       "        text-align: right;\n",
       "    }\n",
       "</style>\n",
       "<table border=\"1\" class=\"dataframe\">\n",
       "  <thead>\n",
       "    <tr>\n",
       "      <th></th>\n",
       "      <th></th>\n",
       "      <th colspan=\"8\" halign=\"left\">Height</th>\n",
       "      <th colspan=\"2\" halign=\"left\">Weight</th>\n",
       "      <th>...</th>\n",
       "      <th colspan=\"2\" halign=\"left\">Age</th>\n",
       "      <th colspan=\"8\" halign=\"left\">Income</th>\n",
       "    </tr>\n",
       "    <tr>\n",
       "      <th></th>\n",
       "      <th></th>\n",
       "      <th>count</th>\n",
       "      <th>mean</th>\n",
       "      <th>std</th>\n",
       "      <th>min</th>\n",
       "      <th>25%</th>\n",
       "      <th>50%</th>\n",
       "      <th>75%</th>\n",
       "      <th>max</th>\n",
       "      <th>count</th>\n",
       "      <th>mean</th>\n",
       "      <th>...</th>\n",
       "      <th>75%</th>\n",
       "      <th>max</th>\n",
       "      <th>count</th>\n",
       "      <th>mean</th>\n",
       "      <th>std</th>\n",
       "      <th>min</th>\n",
       "      <th>25%</th>\n",
       "      <th>50%</th>\n",
       "      <th>75%</th>\n",
       "      <th>max</th>\n",
       "    </tr>\n",
       "    <tr>\n",
       "      <th>Gender</th>\n",
       "      <th>Economic Status</th>\n",
       "      <th></th>\n",
       "      <th></th>\n",
       "      <th></th>\n",
       "      <th></th>\n",
       "      <th></th>\n",
       "      <th></th>\n",
       "      <th></th>\n",
       "      <th></th>\n",
       "      <th></th>\n",
       "      <th></th>\n",
       "      <th></th>\n",
       "      <th></th>\n",
       "      <th></th>\n",
       "      <th></th>\n",
       "      <th></th>\n",
       "      <th></th>\n",
       "      <th></th>\n",
       "      <th></th>\n",
       "      <th></th>\n",
       "      <th></th>\n",
       "      <th></th>\n",
       "    </tr>\n",
       "  </thead>\n",
       "  <tbody>\n",
       "    <tr>\n",
       "      <th rowspan=\"3\" valign=\"top\">Female</th>\n",
       "      <th>Middel</th>\n",
       "      <td>87.0</td>\n",
       "      <td>162.482759</td>\n",
       "      <td>27.372904</td>\n",
       "      <td>83.0</td>\n",
       "      <td>145.0</td>\n",
       "      <td>162.0</td>\n",
       "      <td>180.5</td>\n",
       "      <td>225.0</td>\n",
       "      <td>87.0</td>\n",
       "      <td>64.735632</td>\n",
       "      <td>...</td>\n",
       "      <td>38.5</td>\n",
       "      <td>73.0</td>\n",
       "      <td>87.0</td>\n",
       "      <td>17066.847504</td>\n",
       "      <td>3860.469921</td>\n",
       "      <td>5282.813678</td>\n",
       "      <td>14744.502998</td>\n",
       "      <td>16777.281237</td>\n",
       "      <td>19804.828547</td>\n",
       "      <td>25256.834515</td>\n",
       "    </tr>\n",
       "    <tr>\n",
       "      <th>Poor</th>\n",
       "      <td>75.0</td>\n",
       "      <td>156.773333</td>\n",
       "      <td>30.445598</td>\n",
       "      <td>56.0</td>\n",
       "      <td>135.5</td>\n",
       "      <td>154.0</td>\n",
       "      <td>172.5</td>\n",
       "      <td>222.0</td>\n",
       "      <td>75.0</td>\n",
       "      <td>64.280000</td>\n",
       "      <td>...</td>\n",
       "      <td>37.5</td>\n",
       "      <td>62.0</td>\n",
       "      <td>75.0</td>\n",
       "      <td>17620.363489</td>\n",
       "      <td>3914.423438</td>\n",
       "      <td>8784.422312</td>\n",
       "      <td>14807.414758</td>\n",
       "      <td>17728.768190</td>\n",
       "      <td>20709.107405</td>\n",
       "      <td>27151.149183</td>\n",
       "    </tr>\n",
       "    <tr>\n",
       "      <th>Rich</th>\n",
       "      <td>87.0</td>\n",
       "      <td>162.597701</td>\n",
       "      <td>27.934500</td>\n",
       "      <td>90.0</td>\n",
       "      <td>147.5</td>\n",
       "      <td>162.0</td>\n",
       "      <td>181.5</td>\n",
       "      <td>239.0</td>\n",
       "      <td>87.0</td>\n",
       "      <td>64.425287</td>\n",
       "      <td>...</td>\n",
       "      <td>39.5</td>\n",
       "      <td>55.0</td>\n",
       "      <td>87.0</td>\n",
       "      <td>18502.135986</td>\n",
       "      <td>3705.276828</td>\n",
       "      <td>10102.454884</td>\n",
       "      <td>16195.396773</td>\n",
       "      <td>18094.704279</td>\n",
       "      <td>20979.723195</td>\n",
       "      <td>27195.557694</td>\n",
       "    </tr>\n",
       "    <tr>\n",
       "      <th rowspan=\"3\" valign=\"top\">Male</th>\n",
       "      <th>Middel</th>\n",
       "      <td>67.0</td>\n",
       "      <td>162.776119</td>\n",
       "      <td>28.146705</td>\n",
       "      <td>108.0</td>\n",
       "      <td>141.5</td>\n",
       "      <td>164.0</td>\n",
       "      <td>182.0</td>\n",
       "      <td>233.0</td>\n",
       "      <td>67.0</td>\n",
       "      <td>63.701493</td>\n",
       "      <td>...</td>\n",
       "      <td>37.0</td>\n",
       "      <td>56.0</td>\n",
       "      <td>67.0</td>\n",
       "      <td>18285.045806</td>\n",
       "      <td>3637.560784</td>\n",
       "      <td>10025.835403</td>\n",
       "      <td>16003.581321</td>\n",
       "      <td>17491.833206</td>\n",
       "      <td>20744.220324</td>\n",
       "      <td>26723.954342</td>\n",
       "    </tr>\n",
       "    <tr>\n",
       "      <th>Poor</th>\n",
       "      <td>93.0</td>\n",
       "      <td>163.580645</td>\n",
       "      <td>30.923230</td>\n",
       "      <td>91.0</td>\n",
       "      <td>142.0</td>\n",
       "      <td>166.0</td>\n",
       "      <td>183.0</td>\n",
       "      <td>247.0</td>\n",
       "      <td>93.0</td>\n",
       "      <td>64.376344</td>\n",
       "      <td>...</td>\n",
       "      <td>38.0</td>\n",
       "      <td>58.0</td>\n",
       "      <td>93.0</td>\n",
       "      <td>18756.410591</td>\n",
       "      <td>3247.276701</td>\n",
       "      <td>11112.941861</td>\n",
       "      <td>16827.094529</td>\n",
       "      <td>18815.360595</td>\n",
       "      <td>20972.438583</td>\n",
       "      <td>27411.766268</td>\n",
       "    </tr>\n",
       "    <tr>\n",
       "      <th>Rich</th>\n",
       "      <td>91.0</td>\n",
       "      <td>158.252747</td>\n",
       "      <td>28.816891</td>\n",
       "      <td>70.0</td>\n",
       "      <td>141.5</td>\n",
       "      <td>159.0</td>\n",
       "      <td>176.5</td>\n",
       "      <td>223.0</td>\n",
       "      <td>91.0</td>\n",
       "      <td>63.846154</td>\n",
       "      <td>...</td>\n",
       "      <td>38.0</td>\n",
       "      <td>66.0</td>\n",
       "      <td>91.0</td>\n",
       "      <td>17345.647756</td>\n",
       "      <td>3333.894953</td>\n",
       "      <td>8518.003071</td>\n",
       "      <td>15286.657494</td>\n",
       "      <td>17364.676747</td>\n",
       "      <td>19707.931397</td>\n",
       "      <td>25478.799493</td>\n",
       "    </tr>\n",
       "  </tbody>\n",
       "</table>\n",
       "<p>6 rows × 32 columns</p>\n",
       "</div>"
      ],
      "text/plain": [
       "                       Height                                              \\\n",
       "                        count        mean        std    min    25%    50%   \n",
       "Gender Economic Status                                                      \n",
       "Female Middel            87.0  162.482759  27.372904   83.0  145.0  162.0   \n",
       "       Poor              75.0  156.773333  30.445598   56.0  135.5  154.0   \n",
       "       Rich              87.0  162.597701  27.934500   90.0  147.5  162.0   \n",
       "Male   Middel            67.0  162.776119  28.146705  108.0  141.5  164.0   \n",
       "       Poor              93.0  163.580645  30.923230   91.0  142.0  166.0   \n",
       "       Rich              91.0  158.252747  28.816891   70.0  141.5  159.0   \n",
       "\n",
       "                                     Weight             ...   Age        \\\n",
       "                          75%    max  count       mean  ...   75%   max   \n",
       "Gender Economic Status                                  ...               \n",
       "Female Middel           180.5  225.0   87.0  64.735632  ...  38.5  73.0   \n",
       "       Poor             172.5  222.0   75.0  64.280000  ...  37.5  62.0   \n",
       "       Rich             181.5  239.0   87.0  64.425287  ...  39.5  55.0   \n",
       "Male   Middel           182.0  233.0   67.0  63.701493  ...  37.0  56.0   \n",
       "       Poor             183.0  247.0   93.0  64.376344  ...  38.0  58.0   \n",
       "       Rich             176.5  223.0   91.0  63.846154  ...  38.0  66.0   \n",
       "\n",
       "                       Income                                           \\\n",
       "                        count          mean          std           min   \n",
       "Gender Economic Status                                                   \n",
       "Female Middel            87.0  17066.847504  3860.469921   5282.813678   \n",
       "       Poor              75.0  17620.363489  3914.423438   8784.422312   \n",
       "       Rich              87.0  18502.135986  3705.276828  10102.454884   \n",
       "Male   Middel            67.0  18285.045806  3637.560784  10025.835403   \n",
       "       Poor              93.0  18756.410591  3247.276701  11112.941861   \n",
       "       Rich              91.0  17345.647756  3333.894953   8518.003071   \n",
       "\n",
       "                                                                                \n",
       "                                 25%           50%           75%           max  \n",
       "Gender Economic Status                                                          \n",
       "Female Middel           14744.502998  16777.281237  19804.828547  25256.834515  \n",
       "       Poor             14807.414758  17728.768190  20709.107405  27151.149183  \n",
       "       Rich             16195.396773  18094.704279  20979.723195  27195.557694  \n",
       "Male   Middel           16003.581321  17491.833206  20744.220324  26723.954342  \n",
       "       Poor             16827.094529  18815.360595  20972.438583  27411.766268  \n",
       "       Rich             15286.657494  17364.676747  19707.931397  25478.799493  \n",
       "\n",
       "[6 rows x 32 columns]"
      ]
     },
     "execution_count": 13,
     "metadata": {},
     "output_type": "execute_result"
    }
   ],
   "source": [
    "double.describe()"
   ]
  },
  {
   "cell_type": "code",
   "execution_count": 14,
   "metadata": {},
   "outputs": [
    {
     "data": {
      "text/html": [
       "<div>\n",
       "<style scoped>\n",
       "    .dataframe tbody tr th:only-of-type {\n",
       "        vertical-align: middle;\n",
       "    }\n",
       "\n",
       "    .dataframe tbody tr th {\n",
       "        vertical-align: top;\n",
       "    }\n",
       "\n",
       "    .dataframe thead th {\n",
       "        text-align: right;\n",
       "    }\n",
       "</style>\n",
       "<table border=\"1\" class=\"dataframe\">\n",
       "  <thead>\n",
       "    <tr style=\"text-align: right;\">\n",
       "      <th></th>\n",
       "      <th></th>\n",
       "      <th>count</th>\n",
       "      <th>mean</th>\n",
       "      <th>std</th>\n",
       "      <th>min</th>\n",
       "      <th>25%</th>\n",
       "      <th>50%</th>\n",
       "      <th>75%</th>\n",
       "      <th>max</th>\n",
       "    </tr>\n",
       "    <tr>\n",
       "      <th>Gender</th>\n",
       "      <th>Economic Status</th>\n",
       "      <th></th>\n",
       "      <th></th>\n",
       "      <th></th>\n",
       "      <th></th>\n",
       "      <th></th>\n",
       "      <th></th>\n",
       "      <th></th>\n",
       "      <th></th>\n",
       "    </tr>\n",
       "  </thead>\n",
       "  <tbody>\n",
       "    <tr>\n",
       "      <th rowspan=\"3\" valign=\"top\">Female</th>\n",
       "      <th>Middel</th>\n",
       "      <td>87.0</td>\n",
       "      <td>17066.847504</td>\n",
       "      <td>3860.469921</td>\n",
       "      <td>5282.813678</td>\n",
       "      <td>14744.502998</td>\n",
       "      <td>16777.281237</td>\n",
       "      <td>19804.828547</td>\n",
       "      <td>25256.834515</td>\n",
       "    </tr>\n",
       "    <tr>\n",
       "      <th>Poor</th>\n",
       "      <td>75.0</td>\n",
       "      <td>17620.363489</td>\n",
       "      <td>3914.423438</td>\n",
       "      <td>8784.422312</td>\n",
       "      <td>14807.414758</td>\n",
       "      <td>17728.768190</td>\n",
       "      <td>20709.107405</td>\n",
       "      <td>27151.149183</td>\n",
       "    </tr>\n",
       "    <tr>\n",
       "      <th>Rich</th>\n",
       "      <td>87.0</td>\n",
       "      <td>18502.135986</td>\n",
       "      <td>3705.276828</td>\n",
       "      <td>10102.454884</td>\n",
       "      <td>16195.396773</td>\n",
       "      <td>18094.704279</td>\n",
       "      <td>20979.723195</td>\n",
       "      <td>27195.557694</td>\n",
       "    </tr>\n",
       "    <tr>\n",
       "      <th rowspan=\"3\" valign=\"top\">Male</th>\n",
       "      <th>Middel</th>\n",
       "      <td>67.0</td>\n",
       "      <td>18285.045806</td>\n",
       "      <td>3637.560784</td>\n",
       "      <td>10025.835403</td>\n",
       "      <td>16003.581321</td>\n",
       "      <td>17491.833206</td>\n",
       "      <td>20744.220324</td>\n",
       "      <td>26723.954342</td>\n",
       "    </tr>\n",
       "    <tr>\n",
       "      <th>Poor</th>\n",
       "      <td>93.0</td>\n",
       "      <td>18756.410591</td>\n",
       "      <td>3247.276701</td>\n",
       "      <td>11112.941861</td>\n",
       "      <td>16827.094529</td>\n",
       "      <td>18815.360595</td>\n",
       "      <td>20972.438583</td>\n",
       "      <td>27411.766268</td>\n",
       "    </tr>\n",
       "    <tr>\n",
       "      <th>Rich</th>\n",
       "      <td>91.0</td>\n",
       "      <td>17345.647756</td>\n",
       "      <td>3333.894953</td>\n",
       "      <td>8518.003071</td>\n",
       "      <td>15286.657494</td>\n",
       "      <td>17364.676747</td>\n",
       "      <td>19707.931397</td>\n",
       "      <td>25478.799493</td>\n",
       "    </tr>\n",
       "  </tbody>\n",
       "</table>\n",
       "</div>"
      ],
      "text/plain": [
       "                        count          mean          std           min  \\\n",
       "Gender Economic Status                                                   \n",
       "Female Middel            87.0  17066.847504  3860.469921   5282.813678   \n",
       "       Poor              75.0  17620.363489  3914.423438   8784.422312   \n",
       "       Rich              87.0  18502.135986  3705.276828  10102.454884   \n",
       "Male   Middel            67.0  18285.045806  3637.560784  10025.835403   \n",
       "       Poor              93.0  18756.410591  3247.276701  11112.941861   \n",
       "       Rich              91.0  17345.647756  3333.894953   8518.003071   \n",
       "\n",
       "                                 25%           50%           75%           max  \n",
       "Gender Economic Status                                                          \n",
       "Female Middel           14744.502998  16777.281237  19804.828547  25256.834515  \n",
       "       Poor             14807.414758  17728.768190  20709.107405  27151.149183  \n",
       "       Rich             16195.396773  18094.704279  20979.723195  27195.557694  \n",
       "Male   Middel           16003.581321  17491.833206  20744.220324  26723.954342  \n",
       "       Poor             16827.094529  18815.360595  20972.438583  27411.766268  \n",
       "       Rich             15286.657494  17364.676747  19707.931397  25478.799493  "
      ]
     },
     "execution_count": 14,
     "metadata": {},
     "output_type": "execute_result"
    }
   ],
   "source": [
    "gruped_income = double['Income']\n",
    "gruped_income.describe()"
   ]
  },
  {
   "cell_type": "code",
   "execution_count": 15,
   "metadata": {},
   "outputs": [
    {
     "data": {
      "text/html": [
       "<div>\n",
       "<style scoped>\n",
       "    .dataframe tbody tr th:only-of-type {\n",
       "        vertical-align: middle;\n",
       "    }\n",
       "\n",
       "    .dataframe tbody tr th {\n",
       "        vertical-align: top;\n",
       "    }\n",
       "\n",
       "    .dataframe thead th {\n",
       "        text-align: right;\n",
       "    }\n",
       "</style>\n",
       "<table border=\"1\" class=\"dataframe\">\n",
       "  <thead>\n",
       "    <tr style=\"text-align: right;\">\n",
       "      <th></th>\n",
       "      <th></th>\n",
       "      <th>Income</th>\n",
       "      <th>Age</th>\n",
       "      <th>Height</th>\n",
       "    </tr>\n",
       "    <tr>\n",
       "      <th>Gender</th>\n",
       "      <th>Economic Status</th>\n",
       "      <th></th>\n",
       "      <th></th>\n",
       "      <th></th>\n",
       "    </tr>\n",
       "  </thead>\n",
       "  <tbody>\n",
       "    <tr>\n",
       "      <th rowspan=\"3\" valign=\"top\">Female</th>\n",
       "      <th>Middel</th>\n",
       "      <td>1.484816e+06</td>\n",
       "      <td>30.241379</td>\n",
       "      <td>27.372904</td>\n",
       "    </tr>\n",
       "    <tr>\n",
       "      <th>Poor</th>\n",
       "      <td>1.321527e+06</td>\n",
       "      <td>28.973333</td>\n",
       "      <td>30.445598</td>\n",
       "    </tr>\n",
       "    <tr>\n",
       "      <th>Rich</th>\n",
       "      <td>1.609686e+06</td>\n",
       "      <td>29.356322</td>\n",
       "      <td>27.934500</td>\n",
       "    </tr>\n",
       "    <tr>\n",
       "      <th rowspan=\"3\" valign=\"top\">Male</th>\n",
       "      <th>Middel</th>\n",
       "      <td>1.225098e+06</td>\n",
       "      <td>29.283582</td>\n",
       "      <td>28.146705</td>\n",
       "    </tr>\n",
       "    <tr>\n",
       "      <th>Poor</th>\n",
       "      <td>1.744346e+06</td>\n",
       "      <td>30.462366</td>\n",
       "      <td>30.923230</td>\n",
       "    </tr>\n",
       "    <tr>\n",
       "      <th>Rich</th>\n",
       "      <td>1.578454e+06</td>\n",
       "      <td>29.043956</td>\n",
       "      <td>28.816891</td>\n",
       "    </tr>\n",
       "  </tbody>\n",
       "</table>\n",
       "</div>"
      ],
      "text/plain": [
       "                              Income        Age     Height\n",
       "Gender Economic Status                                    \n",
       "Female Middel           1.484816e+06  30.241379  27.372904\n",
       "       Poor             1.321527e+06  28.973333  30.445598\n",
       "       Rich             1.609686e+06  29.356322  27.934500\n",
       "Male   Middel           1.225098e+06  29.283582  28.146705\n",
       "       Poor             1.744346e+06  30.462366  30.923230\n",
       "       Rich             1.578454e+06  29.043956  28.816891"
      ]
     },
     "execution_count": 15,
     "metadata": {},
     "output_type": "execute_result"
    }
   ],
   "source": [
    "double.aggregate(\n",
    "    {\n",
    "        'Income': np.sum,\n",
    "        'Age': np.mean,\n",
    "        'Height': np.std\n",
    "    }\n",
    ")"
   ]
  },
  {
   "cell_type": "code",
   "execution_count": 16,
   "metadata": {},
   "outputs": [
    {
     "data": {
      "text/html": [
       "<div>\n",
       "<style scoped>\n",
       "    .dataframe tbody tr th:only-of-type {\n",
       "        vertical-align: middle;\n",
       "    }\n",
       "\n",
       "    .dataframe tbody tr th {\n",
       "        vertical-align: top;\n",
       "    }\n",
       "\n",
       "    .dataframe thead th {\n",
       "        text-align: right;\n",
       "    }\n",
       "</style>\n",
       "<table border=\"1\" class=\"dataframe\">\n",
       "  <thead>\n",
       "    <tr style=\"text-align: right;\">\n",
       "      <th></th>\n",
       "      <th></th>\n",
       "      <th>Age</th>\n",
       "      <th>Height</th>\n",
       "    </tr>\n",
       "    <tr>\n",
       "      <th>Gender</th>\n",
       "      <th>Economic Status</th>\n",
       "      <th></th>\n",
       "      <th></th>\n",
       "    </tr>\n",
       "  </thead>\n",
       "  <tbody>\n",
       "    <tr>\n",
       "      <th rowspan=\"3\" valign=\"top\">Female</th>\n",
       "      <th>Middel</th>\n",
       "      <td>30.241379</td>\n",
       "      <td>5.970309</td>\n",
       "    </tr>\n",
       "    <tr>\n",
       "      <th>Poor</th>\n",
       "      <td>28.973333</td>\n",
       "      <td>5.183970</td>\n",
       "    </tr>\n",
       "    <tr>\n",
       "      <th>Rich</th>\n",
       "      <td>29.356322</td>\n",
       "      <td>5.854420</td>\n",
       "    </tr>\n",
       "    <tr>\n",
       "      <th rowspan=\"3\" valign=\"top\">Male</th>\n",
       "      <th>Middel</th>\n",
       "      <td>29.283582</td>\n",
       "      <td>5.826779</td>\n",
       "    </tr>\n",
       "    <tr>\n",
       "      <th>Poor</th>\n",
       "      <td>30.462366</td>\n",
       "      <td>5.318567</td>\n",
       "    </tr>\n",
       "    <tr>\n",
       "      <th>Rich</th>\n",
       "      <td>29.043956</td>\n",
       "      <td>5.522091</td>\n",
       "    </tr>\n",
       "  </tbody>\n",
       "</table>\n",
       "</div>"
      ],
      "text/plain": [
       "                              Age    Height\n",
       "Gender Economic Status                     \n",
       "Female Middel           30.241379  5.970309\n",
       "       Poor             28.973333  5.183970\n",
       "       Rich             29.356322  5.854420\n",
       "Male   Middel           29.283582  5.826779\n",
       "       Poor             30.462366  5.318567\n",
       "       Rich             29.043956  5.522091"
      ]
     },
     "execution_count": 16,
     "metadata": {},
     "output_type": "execute_result"
    }
   ],
   "source": [
    "double.aggregate(\n",
    "    {\n",
    "        'Age': np.mean,\n",
    "        'Height': lambda h: np.mean(h) / np.std(h)\n",
    "    }\n",
    ")"
   ]
  },
  {
   "cell_type": "code",
   "execution_count": 17,
   "metadata": {},
   "outputs": [
    {
     "data": {
      "text/html": [
       "<div>\n",
       "<style scoped>\n",
       "    .dataframe tbody tr th:only-of-type {\n",
       "        vertical-align: middle;\n",
       "    }\n",
       "\n",
       "    .dataframe tbody tr th {\n",
       "        vertical-align: top;\n",
       "    }\n",
       "\n",
       "    .dataframe thead tr th {\n",
       "        text-align: left;\n",
       "    }\n",
       "\n",
       "    .dataframe thead tr:last-of-type th {\n",
       "        text-align: right;\n",
       "    }\n",
       "</style>\n",
       "<table border=\"1\" class=\"dataframe\">\n",
       "  <thead>\n",
       "    <tr>\n",
       "      <th></th>\n",
       "      <th></th>\n",
       "      <th colspan=\"2\" halign=\"left\">Height</th>\n",
       "      <th colspan=\"2\" halign=\"left\">Weight</th>\n",
       "      <th colspan=\"2\" halign=\"left\">Age</th>\n",
       "      <th colspan=\"2\" halign=\"left\">Income</th>\n",
       "    </tr>\n",
       "    <tr>\n",
       "      <th></th>\n",
       "      <th></th>\n",
       "      <th>sum</th>\n",
       "      <th>mean</th>\n",
       "      <th>sum</th>\n",
       "      <th>mean</th>\n",
       "      <th>sum</th>\n",
       "      <th>mean</th>\n",
       "      <th>sum</th>\n",
       "      <th>mean</th>\n",
       "    </tr>\n",
       "    <tr>\n",
       "      <th>Gender</th>\n",
       "      <th>Economic Status</th>\n",
       "      <th></th>\n",
       "      <th></th>\n",
       "      <th></th>\n",
       "      <th></th>\n",
       "      <th></th>\n",
       "      <th></th>\n",
       "      <th></th>\n",
       "      <th></th>\n",
       "    </tr>\n",
       "  </thead>\n",
       "  <tbody>\n",
       "    <tr>\n",
       "      <th rowspan=\"3\" valign=\"top\">Female</th>\n",
       "      <th>Middel</th>\n",
       "      <td>14136</td>\n",
       "      <td>162.482759</td>\n",
       "      <td>5632</td>\n",
       "      <td>64.735632</td>\n",
       "      <td>2631</td>\n",
       "      <td>30.241379</td>\n",
       "      <td>1.484816e+06</td>\n",
       "      <td>17066.847504</td>\n",
       "    </tr>\n",
       "    <tr>\n",
       "      <th>Poor</th>\n",
       "      <td>11758</td>\n",
       "      <td>156.773333</td>\n",
       "      <td>4821</td>\n",
       "      <td>64.280000</td>\n",
       "      <td>2173</td>\n",
       "      <td>28.973333</td>\n",
       "      <td>1.321527e+06</td>\n",
       "      <td>17620.363489</td>\n",
       "    </tr>\n",
       "    <tr>\n",
       "      <th>Rich</th>\n",
       "      <td>14146</td>\n",
       "      <td>162.597701</td>\n",
       "      <td>5605</td>\n",
       "      <td>64.425287</td>\n",
       "      <td>2554</td>\n",
       "      <td>29.356322</td>\n",
       "      <td>1.609686e+06</td>\n",
       "      <td>18502.135986</td>\n",
       "    </tr>\n",
       "    <tr>\n",
       "      <th rowspan=\"3\" valign=\"top\">Male</th>\n",
       "      <th>Middel</th>\n",
       "      <td>10906</td>\n",
       "      <td>162.776119</td>\n",
       "      <td>4268</td>\n",
       "      <td>63.701493</td>\n",
       "      <td>1962</td>\n",
       "      <td>29.283582</td>\n",
       "      <td>1.225098e+06</td>\n",
       "      <td>18285.045806</td>\n",
       "    </tr>\n",
       "    <tr>\n",
       "      <th>Poor</th>\n",
       "      <td>15213</td>\n",
       "      <td>163.580645</td>\n",
       "      <td>5987</td>\n",
       "      <td>64.376344</td>\n",
       "      <td>2833</td>\n",
       "      <td>30.462366</td>\n",
       "      <td>1.744346e+06</td>\n",
       "      <td>18756.410591</td>\n",
       "    </tr>\n",
       "    <tr>\n",
       "      <th>Rich</th>\n",
       "      <td>14401</td>\n",
       "      <td>158.252747</td>\n",
       "      <td>5810</td>\n",
       "      <td>63.846154</td>\n",
       "      <td>2643</td>\n",
       "      <td>29.043956</td>\n",
       "      <td>1.578454e+06</td>\n",
       "      <td>17345.647756</td>\n",
       "    </tr>\n",
       "  </tbody>\n",
       "</table>\n",
       "</div>"
      ],
      "text/plain": [
       "                       Height             Weight              Age             \\\n",
       "                          sum        mean    sum       mean   sum       mean   \n",
       "Gender Economic Status                                                         \n",
       "Female Middel           14136  162.482759   5632  64.735632  2631  30.241379   \n",
       "       Poor             11758  156.773333   4821  64.280000  2173  28.973333   \n",
       "       Rich             14146  162.597701   5605  64.425287  2554  29.356322   \n",
       "Male   Middel           10906  162.776119   4268  63.701493  1962  29.283582   \n",
       "       Poor             15213  163.580645   5987  64.376344  2833  30.462366   \n",
       "       Rich             14401  158.252747   5810  63.846154  2643  29.043956   \n",
       "\n",
       "                              Income                \n",
       "                                 sum          mean  \n",
       "Gender Economic Status                              \n",
       "Female Middel           1.484816e+06  17066.847504  \n",
       "       Poor             1.321527e+06  17620.363489  \n",
       "       Rich             1.609686e+06  18502.135986  \n",
       "Male   Middel           1.225098e+06  18285.045806  \n",
       "       Poor             1.744346e+06  18756.410591  \n",
       "       Rich             1.578454e+06  17345.647756  "
      ]
     },
     "execution_count": 17,
     "metadata": {},
     "output_type": "execute_result"
    }
   ],
   "source": [
    "double.aggregate([np.sum, np.mean])"
   ]
  },
  {
   "cell_type": "markdown",
   "metadata": {},
   "source": [
    "<div class='alert alert-success'>\n",
    "    <h3>Filtrado de Datos.</h3>\n",
    "</div>"
   ]
  },
  {
   "cell_type": "code",
   "execution_count": 18,
   "metadata": {},
   "outputs": [],
   "source": [
    "\n",
    "double['Age'].filter(lambda x: x.sum() > 2400);"
   ]
  },
  {
   "cell_type": "code",
   "execution_count": 19,
   "metadata": {},
   "outputs": [
    {
     "data": {
      "text/html": [
       "<div>\n",
       "<style scoped>\n",
       "    .dataframe tbody tr th:only-of-type {\n",
       "        vertical-align: middle;\n",
       "    }\n",
       "\n",
       "    .dataframe tbody tr th {\n",
       "        vertical-align: top;\n",
       "    }\n",
       "\n",
       "    .dataframe thead th {\n",
       "        text-align: right;\n",
       "    }\n",
       "</style>\n",
       "<table border=\"1\" class=\"dataframe\">\n",
       "  <thead>\n",
       "    <tr style=\"text-align: right;\">\n",
       "      <th></th>\n",
       "      <th>Height</th>\n",
       "      <th>Weight</th>\n",
       "      <th>Age</th>\n",
       "      <th>Income</th>\n",
       "    </tr>\n",
       "  </thead>\n",
       "  <tbody>\n",
       "    <tr>\n",
       "      <th>0</th>\n",
       "      <td>5.854420</td>\n",
       "      <td>2.317660</td>\n",
       "      <td>2.275504</td>\n",
       "      <td>5.022404</td>\n",
       "    </tr>\n",
       "    <tr>\n",
       "      <th>1</th>\n",
       "      <td>5.522091</td>\n",
       "      <td>2.839361</td>\n",
       "      <td>2.325720</td>\n",
       "      <td>5.231642</td>\n",
       "    </tr>\n",
       "    <tr>\n",
       "      <th>2</th>\n",
       "      <td>5.826779</td>\n",
       "      <td>2.597695</td>\n",
       "      <td>2.505332</td>\n",
       "      <td>5.064671</td>\n",
       "    </tr>\n",
       "    <tr>\n",
       "      <th>3</th>\n",
       "      <td>5.522091</td>\n",
       "      <td>2.839361</td>\n",
       "      <td>2.325720</td>\n",
       "      <td>5.231642</td>\n",
       "    </tr>\n",
       "    <tr>\n",
       "      <th>4</th>\n",
       "      <td>5.522091</td>\n",
       "      <td>2.839361</td>\n",
       "      <td>2.325720</td>\n",
       "      <td>5.231642</td>\n",
       "    </tr>\n",
       "  </tbody>\n",
       "</table>\n",
       "</div>"
      ],
      "text/plain": [
       "     Height    Weight       Age    Income\n",
       "0  5.854420  2.317660  2.275504  5.022404\n",
       "1  5.522091  2.839361  2.325720  5.231642\n",
       "2  5.826779  2.597695  2.505332  5.064671\n",
       "3  5.522091  2.839361  2.325720  5.231642\n",
       "4  5.522091  2.839361  2.325720  5.231642"
      ]
     },
     "execution_count": 19,
     "metadata": {},
     "output_type": "execute_result"
    }
   ],
   "source": [
    "# Transformación\n",
    "zscore = lambda h: np.mean(h) / np.std(h)\n",
    "double.transform(zscore).head()"
   ]
  },
  {
   "cell_type": "markdown",
   "metadata": {},
   "source": [
    "<div class='alert alert-success'>\n",
    "    <h3>Conjunto de entrenamiento y testing.</h3>\n",
    "</div>"
   ]
  },
  {
   "cell_type": "code",
   "execution_count": 20,
   "metadata": {},
   "outputs": [
    {
     "data": {
      "text/plain": [
       "3333"
      ]
     },
     "execution_count": 20,
     "metadata": {},
     "output_type": "execute_result"
    }
   ],
   "source": [
    "data = pd.read_csv('../datasets/customer-churn-model/Customer Churn Model.txt')\n",
    "len(data)"
   ]
  },
  {
   "cell_type": "markdown",
   "metadata": {},
   "source": [
    "## Dividir con distribución normal"
   ]
  },
  {
   "cell_type": "code",
   "execution_count": 21,
   "metadata": {},
   "outputs": [
    {
     "data": {
      "text/plain": [
       "array([ True,  True, False, ...,  True,  True,  True])"
      ]
     },
     "execution_count": 21,
     "metadata": {},
     "output_type": "execute_result"
    }
   ],
   "source": [
    "a = np.random.randn(3333)\n",
    "check = (a<0.8)\n",
    "check"
   ]
  },
  {
   "cell_type": "code",
   "execution_count": 22,
   "metadata": {},
   "outputs": [
    {
     "data": {
      "text/plain": [
       "(array([ 686.,    0.,    0.,    0.,    0.,    0.,    0.,    0.,    0.,\n",
       "        2647.]),\n",
       " array([0. , 0.1, 0.2, 0.3, 0.4, 0.5, 0.6, 0.7, 0.8, 0.9, 1. ]),\n",
       " <a list of 10 Patch objects>)"
      ]
     },
     "execution_count": 22,
     "metadata": {},
     "output_type": "execute_result"
    },
    {
     "data": {
      "image/png": "[encoded data removed]",
      "text/plain": [
       "<Figure size 432x288 with 1 Axes>"
      ]
     },
     "metadata": {
      "needs_background": "light"
     },
     "output_type": "display_data"
    }
   ],
   "source": [
    "plt.hist(check.astype(int))"
   ]
  },
  {
   "cell_type": "markdown",
   "metadata": {},
   "source": [
    "Vemos que aproximadamente el 80% esta en True y el resto en False"
   ]
  },
  {
   "cell_type": "code",
   "execution_count": 23,
   "metadata": {},
   "outputs": [],
   "source": [
    "training = data[check]\n",
    "testing = data[~check]"
   ]
  },
  {
   "cell_type": "code",
   "execution_count": 24,
   "metadata": {},
   "outputs": [
    {
     "name": "stdout",
     "output_type": "stream",
     "text": [
      "2647\n",
      "686\n",
      "0.20582058205820583\n"
     ]
    }
   ],
   "source": [
    "print(len(training))\n",
    "print(len(testing))\n",
    "print(len(testing)/3333)"
   ]
  },
  {
   "cell_type": "markdown",
   "metadata": {},
   "source": [
    "## Usando sklearn"
   ]
  },
  {
   "cell_type": "code",
   "execution_count": 25,
   "metadata": {},
   "outputs": [],
   "source": [
    "# Validación cruzada\n",
    "\n",
    "train, test = train_test_split(data, test_size = 0.2)"
   ]
  },
  {
   "cell_type": "code",
   "execution_count": 26,
   "metadata": {},
   "outputs": [
    {
     "data": {
      "text/plain": [
       "2666"
      ]
     },
     "execution_count": 26,
     "metadata": {},
     "output_type": "execute_result"
    }
   ],
   "source": [
    "len(train)"
   ]
  },
  {
   "cell_type": "markdown",
   "metadata": {},
   "source": [
    "## Usando función shuffle"
   ]
  },
  {
   "cell_type": "code",
   "execution_count": 27,
   "metadata": {},
   "outputs": [],
   "source": [
    "from sklearn.utils import shuffle\n",
    "data = shuffle(data);"
   ]
  },
  {
   "cell_type": "code",
   "execution_count": 28,
   "metadata": {},
   "outputs": [],
   "source": [
    "train_data = data[:int(0.75*len(data))]\n",
    "test_data = data[int(0.75*len(data))+1:]"
   ]
  },
  {
   "cell_type": "markdown",
   "metadata": {},
   "source": [
    "<div class='alert alert-success'>\n",
    "    <h3>Concatenar dataSets</h3>\n",
    "</div>"
   ]
  },
  {
   "cell_type": "code",
   "execution_count": 29,
   "metadata": {},
   "outputs": [],
   "source": [
    "red_wine = pd.read_csv('../datasets/wine/winequality-red.csv', sep=';')\n",
    "white_wine = pd.read_csv('../datasets/wine/winequality-white.csv', sep=';')"
   ]
  },
  {
   "cell_type": "code",
   "execution_count": 30,
   "metadata": {},
   "outputs": [
    {
     "name": "stdout",
     "output_type": "stream",
     "text": [
      "Wine red (1599, 12)\n",
      "Wine white (4898, 12)\n"
     ]
    }
   ],
   "source": [
    " print('Wine red', red_wine.shape)\n",
    " print('Wine white', white_wine.shape)"
   ]
  },
  {
   "cell_type": "code",
   "execution_count": 31,
   "metadata": {},
   "outputs": [
    {
     "name": "stdout",
     "output_type": "stream",
     "text": [
      "(6497, 12)\n"
     ]
    },
    {
     "data": {
      "text/html": [
       "<div>\n",
       "<style scoped>\n",
       "    .dataframe tbody tr th:only-of-type {\n",
       "        vertical-align: middle;\n",
       "    }\n",
       "\n",
       "    .dataframe tbody tr th {\n",
       "        vertical-align: top;\n",
       "    }\n",
       "\n",
       "    .dataframe thead th {\n",
       "        text-align: right;\n",
       "    }\n",
       "</style>\n",
       "<table border=\"1\" class=\"dataframe\">\n",
       "  <thead>\n",
       "    <tr style=\"text-align: right;\">\n",
       "      <th></th>\n",
       "      <th>fixed acidity</th>\n",
       "      <th>volatile acidity</th>\n",
       "      <th>citric acid</th>\n",
       "      <th>residual sugar</th>\n",
       "      <th>chlorides</th>\n",
       "      <th>free sulfur dioxide</th>\n",
       "      <th>total sulfur dioxide</th>\n",
       "      <th>density</th>\n",
       "      <th>pH</th>\n",
       "      <th>sulphates</th>\n",
       "      <th>alcohol</th>\n",
       "      <th>quality</th>\n",
       "    </tr>\n",
       "  </thead>\n",
       "  <tbody>\n",
       "    <tr>\n",
       "      <th>1598</th>\n",
       "      <td>6.0</td>\n",
       "      <td>0.31</td>\n",
       "      <td>0.47</td>\n",
       "      <td>3.6</td>\n",
       "      <td>0.067</td>\n",
       "      <td>18.0</td>\n",
       "      <td>42.0</td>\n",
       "      <td>0.99549</td>\n",
       "      <td>3.39</td>\n",
       "      <td>0.66</td>\n",
       "      <td>11.0</td>\n",
       "      <td>6</td>\n",
       "    </tr>\n",
       "    <tr>\n",
       "      <th>0</th>\n",
       "      <td>7.0</td>\n",
       "      <td>0.27</td>\n",
       "      <td>0.36</td>\n",
       "      <td>20.7</td>\n",
       "      <td>0.045</td>\n",
       "      <td>45.0</td>\n",
       "      <td>170.0</td>\n",
       "      <td>1.00100</td>\n",
       "      <td>3.00</td>\n",
       "      <td>0.45</td>\n",
       "      <td>8.8</td>\n",
       "      <td>6</td>\n",
       "    </tr>\n",
       "    <tr>\n",
       "      <th>1</th>\n",
       "      <td>6.3</td>\n",
       "      <td>0.30</td>\n",
       "      <td>0.34</td>\n",
       "      <td>1.6</td>\n",
       "      <td>0.049</td>\n",
       "      <td>14.0</td>\n",
       "      <td>132.0</td>\n",
       "      <td>0.99400</td>\n",
       "      <td>3.30</td>\n",
       "      <td>0.49</td>\n",
       "      <td>9.5</td>\n",
       "      <td>6</td>\n",
       "    </tr>\n",
       "  </tbody>\n",
       "</table>\n",
       "</div>"
      ],
      "text/plain": [
       "      fixed acidity  volatile acidity  citric acid  residual sugar  chlorides  \\\n",
       "1598            6.0              0.31         0.47             3.6      0.067   \n",
       "0               7.0              0.27         0.36            20.7      0.045   \n",
       "1               6.3              0.30         0.34             1.6      0.049   \n",
       "\n",
       "      free sulfur dioxide  total sulfur dioxide  density    pH  sulphates  \\\n",
       "1598                 18.0                  42.0  0.99549  3.39       0.66   \n",
       "0                    45.0                 170.0  1.00100  3.00       0.45   \n",
       "1                    14.0                 132.0  0.99400  3.30       0.49   \n",
       "\n",
       "      alcohol  quality  \n",
       "1598     11.0        6  \n",
       "0         8.8        6  \n",
       "1         9.5        6  "
      ]
     },
     "execution_count": 31,
     "metadata": {},
     "output_type": "execute_result"
    }
   ],
   "source": [
    "# Concatenamos por filas para que quede uno debajo del otro ( APILAMIENTO )\n",
    "wine_data = pd.concat([red_wine, white_wine], axis=0)\n",
    "print(wine_data.shape)\n",
    "wine_data[1598: 1601]"
   ]
  },
  {
   "cell_type": "code",
   "execution_count": 32,
   "metadata": {},
   "outputs": [
    {
     "data": {
      "text/plain": [
       "(30, 12)"
      ]
     },
     "execution_count": 32,
     "metadata": {},
     "output_type": "execute_result"
    }
   ],
   "source": [
    "data1 = wine_data.head(10)\n",
    "data2 = wine_data[300: 310]\n",
    "data3 = wine_data.tail(10)\n",
    "\n",
    "wine_scramble = pd.concat([data1, data2, data3])\n",
    "wine_scramble.shape"
   ]
  },
  {
   "cell_type": "markdown",
   "metadata": {},
   "source": [
    "<div class='alert alert-success'>\n",
    "    <h3>Carga de datos Distribuidos</h3>\n",
    "</div>"
   ]
  },
  {
   "cell_type": "markdown",
   "metadata": {},
   "source": [
    "* Importamos el primer fichero.\n",
    "* Hacer bucle para recorrer todos los ficheros.\n",
    "    * Cada uno se agrega al final del primer fichero.\n",
    "    "
   ]
  },
  {
   "cell_type": "code",
   "execution_count": 33,
   "metadata": {},
   "outputs": [],
   "source": [
    "filepath = '../datasets/distributed-data/'\n",
    "\n",
    "aire = pd.read_csv('../datasets/distributed-data/001.csv')\n",
    "# Elimino filas que no tienen datos\n",
    "aire = aire.dropna(axis=0)\n",
    "\n",
    "final_length = len(aire)\n",
    "\n",
    "for i in range(2, 333):\n",
    "    if i < 10:\n",
    "        filename = '00' + str(i) + '.csv'\n",
    "    elif i < 100:\n",
    "        filename = '0' + str(i) + '.csv'\n",
    "    else:\n",
    "        filename = str(i) + '.csv'\n",
    "    \n",
    "    file = filepath + filename\n",
    "    \n",
    "    temp = pd.read_csv(file)\n",
    "    temp = temp.dropna(axis=0)\n",
    "    final_length += len(temp)\n",
    "    \n",
    "    aire = pd.concat([aire, temp], axis=0)\n",
    "    "
   ]
  },
  {
   "cell_type": "code",
   "execution_count": 34,
   "metadata": {},
   "outputs": [
    {
     "name": "stdout",
     "output_type": "stream",
     "text": [
      "Total de filas no nulas 111802\n",
      "Forma dataSet (111802, 4)\n"
     ]
    }
   ],
   "source": [
    "print('Total de filas no nulas', final_length)\n",
    "print('Forma dataSet', aire.shape)"
   ]
  },
  {
   "cell_type": "code",
   "execution_count": 35,
   "metadata": {},
   "outputs": [
    {
     "data": {
      "image/png": "[encoded data removed]",
      "text/plain": [
       "<Figure size 432x288 with 1 Axes>"
      ]
     },
     "metadata": {
      "needs_background": "light"
     },
     "output_type": "display_data"
    }
   ],
   "source": [
    "plt.hist(aire['ID']);"
   ]
  },
  {
   "cell_type": "markdown",
   "metadata": {},
   "source": [
    "<div class='alert alert-success'>\n",
    "    <h3>Joins DataSets\n",
    "    </h3>\n",
    "</div>"
   ]
  },
  {
   "cell_type": "code",
   "execution_count": 41,
   "metadata": {},
   "outputs": [
    {
     "data": {
      "text/html": [
       "<div>\n",
       "<style scoped>\n",
       "    .dataframe tbody tr th:only-of-type {\n",
       "        vertical-align: middle;\n",
       "    }\n",
       "\n",
       "    .dataframe tbody tr th {\n",
       "        vertical-align: top;\n",
       "    }\n",
       "\n",
       "    .dataframe thead th {\n",
       "        text-align: right;\n",
       "    }\n",
       "</style>\n",
       "<table border=\"1\" class=\"dataframe\">\n",
       "  <thead>\n",
       "    <tr style=\"text-align: right;\">\n",
       "      <th></th>\n",
       "      <th>Athlete</th>\n",
       "      <th>Age</th>\n",
       "      <th>Year</th>\n",
       "      <th>Closing Ceremony Date</th>\n",
       "      <th>Gold Medals</th>\n",
       "      <th>Silver Medals</th>\n",
       "      <th>Bronze Medals</th>\n",
       "      <th>Total Medals</th>\n",
       "    </tr>\n",
       "  </thead>\n",
       "  <tbody>\n",
       "    <tr>\n",
       "      <th>0</th>\n",
       "      <td>Michael Phelps</td>\n",
       "      <td>23.0</td>\n",
       "      <td>2008</td>\n",
       "      <td>08/24/2008</td>\n",
       "      <td>8</td>\n",
       "      <td>0</td>\n",
       "      <td>0</td>\n",
       "      <td>8</td>\n",
       "    </tr>\n",
       "    <tr>\n",
       "      <th>1</th>\n",
       "      <td>Michael Phelps</td>\n",
       "      <td>19.0</td>\n",
       "      <td>2004</td>\n",
       "      <td>08/29/2004</td>\n",
       "      <td>6</td>\n",
       "      <td>0</td>\n",
       "      <td>2</td>\n",
       "      <td>8</td>\n",
       "    </tr>\n",
       "    <tr>\n",
       "      <th>2</th>\n",
       "      <td>Michael Phelps</td>\n",
       "      <td>27.0</td>\n",
       "      <td>2012</td>\n",
       "      <td>08/12/2012</td>\n",
       "      <td>4</td>\n",
       "      <td>2</td>\n",
       "      <td>0</td>\n",
       "      <td>6</td>\n",
       "    </tr>\n",
       "    <tr>\n",
       "      <th>3</th>\n",
       "      <td>Natalie Coughlin</td>\n",
       "      <td>25.0</td>\n",
       "      <td>2008</td>\n",
       "      <td>08/24/2008</td>\n",
       "      <td>1</td>\n",
       "      <td>2</td>\n",
       "      <td>3</td>\n",
       "      <td>6</td>\n",
       "    </tr>\n",
       "    <tr>\n",
       "      <th>4</th>\n",
       "      <td>Aleksey Nemov</td>\n",
       "      <td>24.0</td>\n",
       "      <td>2000</td>\n",
       "      <td>10/01/2000</td>\n",
       "      <td>2</td>\n",
       "      <td>1</td>\n",
       "      <td>3</td>\n",
       "      <td>6</td>\n",
       "    </tr>\n",
       "  </tbody>\n",
       "</table>\n",
       "</div>"
      ],
      "text/plain": [
       "            Athlete   Age  Year Closing Ceremony Date  Gold Medals  \\\n",
       "0    Michael Phelps  23.0  2008            08/24/2008            8   \n",
       "1    Michael Phelps  19.0  2004            08/29/2004            6   \n",
       "2    Michael Phelps  27.0  2012            08/12/2012            4   \n",
       "3  Natalie Coughlin  25.0  2008            08/24/2008            1   \n",
       "4     Aleksey Nemov  24.0  2000            10/01/2000            2   \n",
       "\n",
       "   Silver Medals  Bronze Medals  Total Medals  \n",
       "0              0              0             8  \n",
       "1              0              2             8  \n",
       "2              2              0             6  \n",
       "3              2              3             6  \n",
       "4              1              3             6  "
      ]
     },
     "execution_count": 41,
     "metadata": {},
     "output_type": "execute_result"
    }
   ],
   "source": [
    "filepath = '../datasets/athletes/'\n",
    "\n",
    "medals = pd.read_csv(filepath + 'Medals.csv', encoding='ISO-8859-1')\n",
    "medals.head()"
   ]
  },
  {
   "cell_type": "code",
   "execution_count": 38,
   "metadata": {},
   "outputs": [
    {
     "data": {
      "text/plain": [
       "(6970, 2)"
      ]
     },
     "execution_count": 38,
     "metadata": {},
     "output_type": "execute_result"
    }
   ],
   "source": [
    "country = pd.read_csv(filepath + 'Athelete_Country_Map.csv', encoding='ISO-8859-1')\n",
    "country.shape"
   ]
  },
  {
   "cell_type": "code",
   "execution_count": 39,
   "metadata": {},
   "outputs": [
    {
     "data": {
      "text/plain": [
       "(6975, 2)"
      ]
     },
     "execution_count": 39,
     "metadata": {},
     "output_type": "execute_result"
    }
   ],
   "source": [
    "sport = pd.read_csv(filepath + 'Athelete_Sports_Map.csv', encoding='ISO-8859-1')\n",
    "sport.shape"
   ]
  },
  {
   "cell_type": "code",
   "execution_count": 40,
   "metadata": {},
   "outputs": [
    {
     "data": {
      "text/html": [
       "<div>\n",
       "<style scoped>\n",
       "    .dataframe tbody tr th:only-of-type {\n",
       "        vertical-align: middle;\n",
       "    }\n",
       "\n",
       "    .dataframe tbody tr th {\n",
       "        vertical-align: top;\n",
       "    }\n",
       "\n",
       "    .dataframe thead th {\n",
       "        text-align: right;\n",
       "    }\n",
       "</style>\n",
       "<table border=\"1\" class=\"dataframe\">\n",
       "  <thead>\n",
       "    <tr style=\"text-align: right;\">\n",
       "      <th></th>\n",
       "      <th>Athlete</th>\n",
       "      <th>Age</th>\n",
       "      <th>Year</th>\n",
       "      <th>Closing Ceremony Date</th>\n",
       "      <th>Gold Medals</th>\n",
       "      <th>Silver Medals</th>\n",
       "      <th>Bronze Medals</th>\n",
       "      <th>Total Medals</th>\n",
       "      <th>Country</th>\n",
       "    </tr>\n",
       "  </thead>\n",
       "  <tbody>\n",
       "    <tr>\n",
       "      <th>0</th>\n",
       "      <td>Michael Phelps</td>\n",
       "      <td>23.0</td>\n",
       "      <td>2008</td>\n",
       "      <td>08/24/2008</td>\n",
       "      <td>8</td>\n",
       "      <td>0</td>\n",
       "      <td>0</td>\n",
       "      <td>8</td>\n",
       "      <td>United States</td>\n",
       "    </tr>\n",
       "    <tr>\n",
       "      <th>1</th>\n",
       "      <td>Michael Phelps</td>\n",
       "      <td>19.0</td>\n",
       "      <td>2004</td>\n",
       "      <td>08/29/2004</td>\n",
       "      <td>6</td>\n",
       "      <td>0</td>\n",
       "      <td>2</td>\n",
       "      <td>8</td>\n",
       "      <td>United States</td>\n",
       "    </tr>\n",
       "    <tr>\n",
       "      <th>2</th>\n",
       "      <td>Michael Phelps</td>\n",
       "      <td>27.0</td>\n",
       "      <td>2012</td>\n",
       "      <td>08/12/2012</td>\n",
       "      <td>4</td>\n",
       "      <td>2</td>\n",
       "      <td>0</td>\n",
       "      <td>6</td>\n",
       "      <td>United States</td>\n",
       "    </tr>\n",
       "    <tr>\n",
       "      <th>3</th>\n",
       "      <td>Natalie Coughlin</td>\n",
       "      <td>25.0</td>\n",
       "      <td>2008</td>\n",
       "      <td>08/24/2008</td>\n",
       "      <td>1</td>\n",
       "      <td>2</td>\n",
       "      <td>3</td>\n",
       "      <td>6</td>\n",
       "      <td>United States</td>\n",
       "    </tr>\n",
       "    <tr>\n",
       "      <th>4</th>\n",
       "      <td>Natalie Coughlin</td>\n",
       "      <td>21.0</td>\n",
       "      <td>2004</td>\n",
       "      <td>08/29/2004</td>\n",
       "      <td>2</td>\n",
       "      <td>2</td>\n",
       "      <td>1</td>\n",
       "      <td>5</td>\n",
       "      <td>United States</td>\n",
       "    </tr>\n",
       "  </tbody>\n",
       "</table>\n",
       "</div>"
      ],
      "text/plain": [
       "            Athlete   Age  Year Closing Ceremony Date  Gold Medals  \\\n",
       "0    Michael Phelps  23.0  2008            08/24/2008            8   \n",
       "1    Michael Phelps  19.0  2004            08/29/2004            6   \n",
       "2    Michael Phelps  27.0  2012            08/12/2012            4   \n",
       "3  Natalie Coughlin  25.0  2008            08/24/2008            1   \n",
       "4  Natalie Coughlin  21.0  2004            08/29/2004            2   \n",
       "\n",
       "   Silver Medals  Bronze Medals  Total Medals        Country  \n",
       "0              0              0             8  United States  \n",
       "1              0              2             8  United States  \n",
       "2              2              0             6  United States  \n",
       "3              2              3             6  United States  \n",
       "4              2              1             5  United States  "
      ]
     },
     "execution_count": 40,
     "metadata": {},
     "output_type": "execute_result"
    }
   ],
   "source": [
    "# Uniendo medallas con pais\n",
    "medals_country = pd.merge(left=medals, right=country, left_on='Athlete', right_on='Athlete')\n",
    "medals_country.head()"
   ]
  },
  {
   "cell_type": "code",
   "execution_count": 42,
   "metadata": {},
   "outputs": [
    {
     "data": {
      "text/plain": [
       "(8657, 9)"
      ]
     },
     "execution_count": 42,
     "metadata": {},
     "output_type": "execute_result"
    }
   ],
   "source": [
    "medals_country.shape"
   ]
  },
  {
   "cell_type": "markdown",
   "metadata": {},
   "source": [
    "Como hay atletas que pertenecen a más de un país, tenemos que el \"merge\" duplica en esos casos la información como podemos ver a continuación."
   ]
  },
  {
   "cell_type": "code",
   "execution_count": 44,
   "metadata": {},
   "outputs": [
    {
     "data": {
      "text/html": [
       "<div>\n",
       "<style scoped>\n",
       "    .dataframe tbody tr th:only-of-type {\n",
       "        vertical-align: middle;\n",
       "    }\n",
       "\n",
       "    .dataframe tbody tr th {\n",
       "        vertical-align: top;\n",
       "    }\n",
       "\n",
       "    .dataframe thead th {\n",
       "        text-align: right;\n",
       "    }\n",
       "</style>\n",
       "<table border=\"1\" class=\"dataframe\">\n",
       "  <thead>\n",
       "    <tr style=\"text-align: right;\">\n",
       "      <th></th>\n",
       "      <th>Athlete</th>\n",
       "      <th>Age</th>\n",
       "      <th>Year</th>\n",
       "      <th>Closing Ceremony Date</th>\n",
       "      <th>Gold Medals</th>\n",
       "      <th>Silver Medals</th>\n",
       "      <th>Bronze Medals</th>\n",
       "      <th>Total Medals</th>\n",
       "      <th>Country</th>\n",
       "    </tr>\n",
       "  </thead>\n",
       "  <tbody>\n",
       "    <tr>\n",
       "      <th>1503</th>\n",
       "      <td>Aleksandar Ciric</td>\n",
       "      <td>30.0</td>\n",
       "      <td>2008</td>\n",
       "      <td>08/24/2008</td>\n",
       "      <td>0</td>\n",
       "      <td>0</td>\n",
       "      <td>1</td>\n",
       "      <td>1</td>\n",
       "      <td>Serbia</td>\n",
       "    </tr>\n",
       "    <tr>\n",
       "      <th>1504</th>\n",
       "      <td>Aleksandar Ciric</td>\n",
       "      <td>30.0</td>\n",
       "      <td>2008</td>\n",
       "      <td>08/24/2008</td>\n",
       "      <td>0</td>\n",
       "      <td>0</td>\n",
       "      <td>1</td>\n",
       "      <td>1</td>\n",
       "      <td>Serbia and Montenegro</td>\n",
       "    </tr>\n",
       "    <tr>\n",
       "      <th>1505</th>\n",
       "      <td>Aleksandar Ciric</td>\n",
       "      <td>26.0</td>\n",
       "      <td>2004</td>\n",
       "      <td>08/29/2004</td>\n",
       "      <td>0</td>\n",
       "      <td>1</td>\n",
       "      <td>0</td>\n",
       "      <td>1</td>\n",
       "      <td>Serbia</td>\n",
       "    </tr>\n",
       "    <tr>\n",
       "      <th>1506</th>\n",
       "      <td>Aleksandar Ciric</td>\n",
       "      <td>26.0</td>\n",
       "      <td>2004</td>\n",
       "      <td>08/29/2004</td>\n",
       "      <td>0</td>\n",
       "      <td>1</td>\n",
       "      <td>0</td>\n",
       "      <td>1</td>\n",
       "      <td>Serbia and Montenegro</td>\n",
       "    </tr>\n",
       "    <tr>\n",
       "      <th>1507</th>\n",
       "      <td>Aleksandar Ciric</td>\n",
       "      <td>22.0</td>\n",
       "      <td>2000</td>\n",
       "      <td>10/01/2000</td>\n",
       "      <td>0</td>\n",
       "      <td>0</td>\n",
       "      <td>1</td>\n",
       "      <td>1</td>\n",
       "      <td>Serbia</td>\n",
       "    </tr>\n",
       "    <tr>\n",
       "      <th>1508</th>\n",
       "      <td>Aleksandar Ciric</td>\n",
       "      <td>22.0</td>\n",
       "      <td>2000</td>\n",
       "      <td>10/01/2000</td>\n",
       "      <td>0</td>\n",
       "      <td>0</td>\n",
       "      <td>1</td>\n",
       "      <td>1</td>\n",
       "      <td>Serbia and Montenegro</td>\n",
       "    </tr>\n",
       "  </tbody>\n",
       "</table>\n",
       "</div>"
      ],
      "text/plain": [
       "               Athlete   Age  Year Closing Ceremony Date  Gold Medals  \\\n",
       "1503  Aleksandar Ciric  30.0  2008            08/24/2008            0   \n",
       "1504  Aleksandar Ciric  30.0  2008            08/24/2008            0   \n",
       "1505  Aleksandar Ciric  26.0  2004            08/29/2004            0   \n",
       "1506  Aleksandar Ciric  26.0  2004            08/29/2004            0   \n",
       "1507  Aleksandar Ciric  22.0  2000            10/01/2000            0   \n",
       "1508  Aleksandar Ciric  22.0  2000            10/01/2000            0   \n",
       "\n",
       "      Silver Medals  Bronze Medals  Total Medals                Country  \n",
       "1503              0              1             1                 Serbia  \n",
       "1504              0              1             1  Serbia and Montenegro  \n",
       "1505              1              0             1                 Serbia  \n",
       "1506              1              0             1  Serbia and Montenegro  \n",
       "1507              0              1             1                 Serbia  \n",
       "1508              0              1             1  Serbia and Montenegro  "
      ]
     },
     "execution_count": 44,
     "metadata": {},
     "output_type": "execute_result"
    }
   ],
   "source": [
    "medals_country[medals_country['Athlete'] == 'Aleksandar Ciric']"
   ]
  },
  {
   "cell_type": "markdown",
   "metadata": {},
   "source": [
    "Como vemos dice que jugo en el mismo año por dos paises distintos.  Para evitar eso, necesitamos que los dataset tengan relaciones uno a uno, así que eliminamos los datos donde no sea así en el dataset original."
   ]
  },
  {
   "cell_type": "code",
   "execution_count": 45,
   "metadata": {},
   "outputs": [],
   "source": [
    "country = country.drop_duplicates(subset='Athlete')"
   ]
  },
  {
   "cell_type": "code",
   "execution_count": 46,
   "metadata": {},
   "outputs": [
    {
     "data": {
      "text/html": [
       "<div>\n",
       "<style scoped>\n",
       "    .dataframe tbody tr th:only-of-type {\n",
       "        vertical-align: middle;\n",
       "    }\n",
       "\n",
       "    .dataframe tbody tr th {\n",
       "        vertical-align: top;\n",
       "    }\n",
       "\n",
       "    .dataframe thead th {\n",
       "        text-align: right;\n",
       "    }\n",
       "</style>\n",
       "<table border=\"1\" class=\"dataframe\">\n",
       "  <thead>\n",
       "    <tr style=\"text-align: right;\">\n",
       "      <th></th>\n",
       "      <th>Athlete</th>\n",
       "      <th>Age</th>\n",
       "      <th>Year</th>\n",
       "      <th>Closing Ceremony Date</th>\n",
       "      <th>Gold Medals</th>\n",
       "      <th>Silver Medals</th>\n",
       "      <th>Bronze Medals</th>\n",
       "      <th>Total Medals</th>\n",
       "      <th>Country</th>\n",
       "    </tr>\n",
       "  </thead>\n",
       "  <tbody>\n",
       "    <tr>\n",
       "      <th>0</th>\n",
       "      <td>Michael Phelps</td>\n",
       "      <td>23.0</td>\n",
       "      <td>2008</td>\n",
       "      <td>08/24/2008</td>\n",
       "      <td>8</td>\n",
       "      <td>0</td>\n",
       "      <td>0</td>\n",
       "      <td>8</td>\n",
       "      <td>United States</td>\n",
       "    </tr>\n",
       "    <tr>\n",
       "      <th>1</th>\n",
       "      <td>Michael Phelps</td>\n",
       "      <td>19.0</td>\n",
       "      <td>2004</td>\n",
       "      <td>08/29/2004</td>\n",
       "      <td>6</td>\n",
       "      <td>0</td>\n",
       "      <td>2</td>\n",
       "      <td>8</td>\n",
       "      <td>United States</td>\n",
       "    </tr>\n",
       "    <tr>\n",
       "      <th>2</th>\n",
       "      <td>Michael Phelps</td>\n",
       "      <td>27.0</td>\n",
       "      <td>2012</td>\n",
       "      <td>08/12/2012</td>\n",
       "      <td>4</td>\n",
       "      <td>2</td>\n",
       "      <td>0</td>\n",
       "      <td>6</td>\n",
       "      <td>United States</td>\n",
       "    </tr>\n",
       "    <tr>\n",
       "      <th>3</th>\n",
       "      <td>Natalie Coughlin</td>\n",
       "      <td>25.0</td>\n",
       "      <td>2008</td>\n",
       "      <td>08/24/2008</td>\n",
       "      <td>1</td>\n",
       "      <td>2</td>\n",
       "      <td>3</td>\n",
       "      <td>6</td>\n",
       "      <td>United States</td>\n",
       "    </tr>\n",
       "    <tr>\n",
       "      <th>4</th>\n",
       "      <td>Natalie Coughlin</td>\n",
       "      <td>21.0</td>\n",
       "      <td>2004</td>\n",
       "      <td>08/29/2004</td>\n",
       "      <td>2</td>\n",
       "      <td>2</td>\n",
       "      <td>1</td>\n",
       "      <td>5</td>\n",
       "      <td>United States</td>\n",
       "    </tr>\n",
       "  </tbody>\n",
       "</table>\n",
       "</div>"
      ],
      "text/plain": [
       "            Athlete   Age  Year Closing Ceremony Date  Gold Medals  \\\n",
       "0    Michael Phelps  23.0  2008            08/24/2008            8   \n",
       "1    Michael Phelps  19.0  2004            08/29/2004            6   \n",
       "2    Michael Phelps  27.0  2012            08/12/2012            4   \n",
       "3  Natalie Coughlin  25.0  2008            08/24/2008            1   \n",
       "4  Natalie Coughlin  21.0  2004            08/29/2004            2   \n",
       "\n",
       "   Silver Medals  Bronze Medals  Total Medals        Country  \n",
       "0              0              0             8  United States  \n",
       "1              0              2             8  United States  \n",
       "2              2              0             6  United States  \n",
       "3              2              3             6  United States  \n",
       "4              2              1             5  United States  "
      ]
     },
     "execution_count": 46,
     "metadata": {},
     "output_type": "execute_result"
    }
   ],
   "source": [
    "medals_country = pd.merge(left=medals, right=country, left_on='Athlete', right_on='Athlete')\n",
    "medals_country.head()"
   ]
  },
  {
   "cell_type": "code",
   "execution_count": 47,
   "metadata": {},
   "outputs": [
    {
     "data": {
      "text/plain": [
       "(8618, 9)"
      ]
     },
     "execution_count": 47,
     "metadata": {},
     "output_type": "execute_result"
    }
   ],
   "source": [
    "medals_country.shape"
   ]
  },
  {
   "cell_type": "markdown",
   "metadata": {},
   "source": [
    "Vemos que ahora tenemos menos datos."
   ]
  },
  {
   "cell_type": "markdown",
   "metadata": {},
   "source": [
    "Hacemos lo mismo con los deportes"
   ]
  },
  {
   "cell_type": "code",
   "execution_count": 48,
   "metadata": {},
   "outputs": [],
   "source": [
    "sport = sport.drop_duplicates(subset='Athlete')"
   ]
  },
  {
   "cell_type": "code",
   "execution_count": 50,
   "metadata": {},
   "outputs": [
    {
     "name": "stdout",
     "output_type": "stream",
     "text": [
      "(8618, 10)\n"
     ]
    },
    {
     "data": {
      "text/html": [
       "<div>\n",
       "<style scoped>\n",
       "    .dataframe tbody tr th:only-of-type {\n",
       "        vertical-align: middle;\n",
       "    }\n",
       "\n",
       "    .dataframe tbody tr th {\n",
       "        vertical-align: top;\n",
       "    }\n",
       "\n",
       "    .dataframe thead th {\n",
       "        text-align: right;\n",
       "    }\n",
       "</style>\n",
       "<table border=\"1\" class=\"dataframe\">\n",
       "  <thead>\n",
       "    <tr style=\"text-align: right;\">\n",
       "      <th></th>\n",
       "      <th>Athlete</th>\n",
       "      <th>Age</th>\n",
       "      <th>Year</th>\n",
       "      <th>Closing Ceremony Date</th>\n",
       "      <th>Gold Medals</th>\n",
       "      <th>Silver Medals</th>\n",
       "      <th>Bronze Medals</th>\n",
       "      <th>Total Medals</th>\n",
       "      <th>Country</th>\n",
       "      <th>Sport</th>\n",
       "    </tr>\n",
       "  </thead>\n",
       "  <tbody>\n",
       "    <tr>\n",
       "      <th>0</th>\n",
       "      <td>Michael Phelps</td>\n",
       "      <td>23.0</td>\n",
       "      <td>2008</td>\n",
       "      <td>08/24/2008</td>\n",
       "      <td>8</td>\n",
       "      <td>0</td>\n",
       "      <td>0</td>\n",
       "      <td>8</td>\n",
       "      <td>United States</td>\n",
       "      <td>Swimming</td>\n",
       "    </tr>\n",
       "    <tr>\n",
       "      <th>1</th>\n",
       "      <td>Michael Phelps</td>\n",
       "      <td>19.0</td>\n",
       "      <td>2004</td>\n",
       "      <td>08/29/2004</td>\n",
       "      <td>6</td>\n",
       "      <td>0</td>\n",
       "      <td>2</td>\n",
       "      <td>8</td>\n",
       "      <td>United States</td>\n",
       "      <td>Swimming</td>\n",
       "    </tr>\n",
       "    <tr>\n",
       "      <th>2</th>\n",
       "      <td>Michael Phelps</td>\n",
       "      <td>27.0</td>\n",
       "      <td>2012</td>\n",
       "      <td>08/12/2012</td>\n",
       "      <td>4</td>\n",
       "      <td>2</td>\n",
       "      <td>0</td>\n",
       "      <td>6</td>\n",
       "      <td>United States</td>\n",
       "      <td>Swimming</td>\n",
       "    </tr>\n",
       "    <tr>\n",
       "      <th>3</th>\n",
       "      <td>Natalie Coughlin</td>\n",
       "      <td>25.0</td>\n",
       "      <td>2008</td>\n",
       "      <td>08/24/2008</td>\n",
       "      <td>1</td>\n",
       "      <td>2</td>\n",
       "      <td>3</td>\n",
       "      <td>6</td>\n",
       "      <td>United States</td>\n",
       "      <td>Swimming</td>\n",
       "    </tr>\n",
       "    <tr>\n",
       "      <th>4</th>\n",
       "      <td>Natalie Coughlin</td>\n",
       "      <td>21.0</td>\n",
       "      <td>2004</td>\n",
       "      <td>08/29/2004</td>\n",
       "      <td>2</td>\n",
       "      <td>2</td>\n",
       "      <td>1</td>\n",
       "      <td>5</td>\n",
       "      <td>United States</td>\n",
       "      <td>Swimming</td>\n",
       "    </tr>\n",
       "  </tbody>\n",
       "</table>\n",
       "</div>"
      ],
      "text/plain": [
       "            Athlete   Age  Year Closing Ceremony Date  Gold Medals  \\\n",
       "0    Michael Phelps  23.0  2008            08/24/2008            8   \n",
       "1    Michael Phelps  19.0  2004            08/29/2004            6   \n",
       "2    Michael Phelps  27.0  2012            08/12/2012            4   \n",
       "3  Natalie Coughlin  25.0  2008            08/24/2008            1   \n",
       "4  Natalie Coughlin  21.0  2004            08/29/2004            2   \n",
       "\n",
       "   Silver Medals  Bronze Medals  Total Medals        Country     Sport  \n",
       "0              0              0             8  United States  Swimming  \n",
       "1              0              2             8  United States  Swimming  \n",
       "2              2              0             6  United States  Swimming  \n",
       "3              2              3             6  United States  Swimming  \n",
       "4              2              1             5  United States  Swimming  "
      ]
     },
     "execution_count": 50,
     "metadata": {},
     "output_type": "execute_result"
    }
   ],
   "source": [
    "atletas = pd.merge(left=medals_country, right=sport, left_on='Athlete', right_on='Athlete')\n",
    "print(atletas.shape)\n",
    "atletas.head()"
   ]
  },
  {
   "cell_type": "markdown",
   "metadata": {},
   "source": [
    "<div class='alert alert-success'>\n",
    "    <h3>Tipos de Join</h3>\n",
    "</div>"
   ]
  },
  {
   "cell_type": "code",
   "execution_count": 51,
   "metadata": {},
   "outputs": [],
   "source": [
    "from IPython.display import Image"
   ]
  },
  {
   "cell_type": "markdown",
   "metadata": {},
   "source": [
    "### INNER JOIN\n",
    "* Devuelve un data frame con las filas que tienen valor en ambos data frames que estamos uniendo.\n",
    "* El número de filas será igual al número de filas comunes que tengan ambos data sets.\n",
    "    * Data set A tiene 60 filas.\n",
    "    * Data set B tiene 50 filas.\n",
    "    * Ambos comparten 30 filas.\n",
    "    * Entonces A inner join B tendrá 30 filas.\n",
    "* Se trata de una intersección de conjuntos."
   ]
  },
  {
   "cell_type": "code",
   "execution_count": 53,
   "metadata": {},
   "outputs": [
    {
     "data": {
      "image/png": "[encoded data removed]",
      "text/plain": [
       "<IPython.core.display.Image object>"
      ]
     },
     "execution_count": 53,
     "metadata": {},
     "output_type": "execute_result"
    }
   ],
   "source": [
    "Image(filename='../resourses/inner-join.png')"
   ]
  },
  {
   "cell_type": "code",
   "execution_count": null,
   "metadata": {},
   "outputs": [],
   "source": []
  },
  {
   "cell_type": "markdown",
   "metadata": {},
   "source": [
    "### LEFT JOIN\n",
    "* Devuelve un dataframe con las filas que tuvieran valor en el dataset de la izquierda sin importar si tienen correspondencia en el de la derecha.\n",
    "* LAs filas del dataframe final que no correspondan a ninguna fila del dataframe derecho, tendran NaN en las columnas del dataframe derecho.\n",
    "* El número de filas será igual al del dataframe izquierdo.\n",
    "* Es el dataframde izquierdo más la intersección."
   ]
  },
  {
   "cell_type": "code",
   "execution_count": 54,
   "metadata": {},
   "outputs": [
    {
     "data": {
      "image/png": "[encoded data removed]",
      "text/plain": [
       "<IPython.core.display.Image object>"
      ]
     },
     "execution_count": 54,
     "metadata": {},
     "output_type": "execute_result"
    }
   ],
   "source": [
    "Image(filename='../resourses/left-join.png')"
   ]
  },
  {
   "cell_type": "code",
   "execution_count": null,
   "metadata": {},
   "outputs": [],
   "source": []
  },
  {
   "cell_type": "markdown",
   "metadata": {},
   "source": [
    "### RIGHT JOIN\n",
    "Lo mismo que el Left join pero esta vez a la derecha."
   ]
  },
  {
   "cell_type": "code",
   "execution_count": 55,
   "metadata": {},
   "outputs": [
    {
     "data": {
      "image/png": "[encoded data removed]",
      "text/plain": [
       "<IPython.core.display.Image object>"
      ]
     },
     "execution_count": 55,
     "metadata": {},
     "output_type": "execute_result"
    }
   ],
   "source": [
    "Image(filename='../resourses/right-join.png')"
   ]
  },
  {
   "cell_type": "code",
   "execution_count": null,
   "metadata": {},
   "outputs": [],
   "source": []
  },
  {
   "cell_type": "markdown",
   "metadata": {},
   "source": [
    "### OUTER JOIN (full join)\n",
    "* Devuelve un dataframe con todas las filas de ambos, reemplazando las ausencias de uno u otro con NaN.\n",
    "* El número de filas será igual al máximo número de filas de ambos.\n",
    "    * Data set A con 60 filas.\n",
    "    * Data set B con 50 filas.\n",
    "    * Ambos comparte 30 filas.\n",
    "    * Entonces A outer join B tendrá 60 + 50 - 30 = 80 filas\n",
    "* Se trata de una unión de conjuntos."
   ]
  },
  {
   "cell_type": "code",
   "execution_count": 56,
   "metadata": {},
   "outputs": [
    {
     "data": {
      "image/png": "[encoded data removed]",
      "text/plain": [
       "<IPython.core.display.Image object>"
      ]
     },
     "execution_count": 56,
     "metadata": {},
     "output_type": "execute_result"
    }
   ],
   "source": [
    "Image(filename='../resourses/outer-join.png')"
   ]
  },
  {
   "cell_type": "code",
   "execution_count": null,
   "metadata": {},
   "outputs": [],
   "source": []
  }
 ],
 "metadata": {
  "kernelspec": {
   "display_name": "Python 3",
   "language": "python",
   "name": "python3"
  },
  "language_info": {
   "codemirror_mode": {
    "name": "ipython",
    "version": 3
   },
   "file_extension": ".py",
   "mimetype": "text/x-python",
   "name": "python",
   "nbconvert_exporter": "python",
   "pygments_lexer": "ipython3",
   "version": "3.7.3"
  }
 },
 "nbformat": 4,
 "nbformat_minor": 2
}
