{
 "cells": [
  {
   "cell_type": "markdown",
   "id": "1a0ccd5d",
   "metadata": {},
   "source": [
    "### Conjunto de entrenamiento y de testing"
   ]
  },
  {
   "cell_type": "code",
   "execution_count": 1,
   "id": "c86788e3",
   "metadata": {},
   "outputs": [],
   "source": [
    "import numpy as np\n",
    "import pandas as pd\n",
    "import matplotlib.pyplot as plt"
   ]
  },
  {
   "cell_type": "code",
   "execution_count": 2,
   "id": "569b6e26",
   "metadata": {},
   "outputs": [
    {
     "data": {
      "text/html": [
       "<div>\n",
       "<style scoped>\n",
       "    .dataframe tbody tr th:only-of-type {\n",
       "        vertical-align: middle;\n",
       "    }\n",
       "\n",
       "    .dataframe tbody tr th {\n",
       "        vertical-align: top;\n",
       "    }\n",
       "\n",
       "    .dataframe thead th {\n",
       "        text-align: right;\n",
       "    }\n",
       "</style>\n",
       "<table border=\"1\" class=\"dataframe\">\n",
       "  <thead>\n",
       "    <tr style=\"text-align: right;\">\n",
       "      <th></th>\n",
       "      <th>State</th>\n",
       "      <th>Account Length</th>\n",
       "      <th>Area Code</th>\n",
       "      <th>Phone</th>\n",
       "      <th>Int'l Plan</th>\n",
       "      <th>VMail Plan</th>\n",
       "      <th>VMail Message</th>\n",
       "      <th>Day Mins</th>\n",
       "      <th>Day Calls</th>\n",
       "      <th>Day Charge</th>\n",
       "      <th>...</th>\n",
       "      <th>Eve Calls</th>\n",
       "      <th>Eve Charge</th>\n",
       "      <th>Night Mins</th>\n",
       "      <th>Night Calls</th>\n",
       "      <th>Night Charge</th>\n",
       "      <th>Intl Mins</th>\n",
       "      <th>Intl Calls</th>\n",
       "      <th>Intl Charge</th>\n",
       "      <th>CustServ Calls</th>\n",
       "      <th>Churn?</th>\n",
       "    </tr>\n",
       "  </thead>\n",
       "  <tbody>\n",
       "    <tr>\n",
       "      <th>435</th>\n",
       "      <td>MT</td>\n",
       "      <td>58</td>\n",
       "      <td>510</td>\n",
       "      <td>387-9301</td>\n",
       "      <td>no</td>\n",
       "      <td>yes</td>\n",
       "      <td>29</td>\n",
       "      <td>240.4</td>\n",
       "      <td>80</td>\n",
       "      <td>40.87</td>\n",
       "      <td>...</td>\n",
       "      <td>91</td>\n",
       "      <td>10.11</td>\n",
       "      <td>164.2</td>\n",
       "      <td>108</td>\n",
       "      <td>7.39</td>\n",
       "      <td>11.2</td>\n",
       "      <td>3</td>\n",
       "      <td>3.02</td>\n",
       "      <td>1</td>\n",
       "      <td>False.</td>\n",
       "    </tr>\n",
       "    <tr>\n",
       "      <th>2133</th>\n",
       "      <td>MN</td>\n",
       "      <td>129</td>\n",
       "      <td>510</td>\n",
       "      <td>368-6892</td>\n",
       "      <td>no</td>\n",
       "      <td>yes</td>\n",
       "      <td>31</td>\n",
       "      <td>193.0</td>\n",
       "      <td>99</td>\n",
       "      <td>32.81</td>\n",
       "      <td>...</td>\n",
       "      <td>87</td>\n",
       "      <td>19.11</td>\n",
       "      <td>197.6</td>\n",
       "      <td>91</td>\n",
       "      <td>8.89</td>\n",
       "      <td>10.3</td>\n",
       "      <td>8</td>\n",
       "      <td>2.78</td>\n",
       "      <td>2</td>\n",
       "      <td>False.</td>\n",
       "    </tr>\n",
       "    <tr>\n",
       "      <th>1981</th>\n",
       "      <td>ME</td>\n",
       "      <td>66</td>\n",
       "      <td>510</td>\n",
       "      <td>331-6270</td>\n",
       "      <td>no</td>\n",
       "      <td>no</td>\n",
       "      <td>0</td>\n",
       "      <td>118.0</td>\n",
       "      <td>133</td>\n",
       "      <td>20.06</td>\n",
       "      <td>...</td>\n",
       "      <td>99</td>\n",
       "      <td>21.09</td>\n",
       "      <td>214.4</td>\n",
       "      <td>122</td>\n",
       "      <td>9.65</td>\n",
       "      <td>5.3</td>\n",
       "      <td>5</td>\n",
       "      <td>1.43</td>\n",
       "      <td>1</td>\n",
       "      <td>False.</td>\n",
       "    </tr>\n",
       "    <tr>\n",
       "      <th>1108</th>\n",
       "      <td>WY</td>\n",
       "      <td>151</td>\n",
       "      <td>510</td>\n",
       "      <td>381-4712</td>\n",
       "      <td>no</td>\n",
       "      <td>no</td>\n",
       "      <td>0</td>\n",
       "      <td>235.9</td>\n",
       "      <td>104</td>\n",
       "      <td>40.10</td>\n",
       "      <td>...</td>\n",
       "      <td>91</td>\n",
       "      <td>6.85</td>\n",
       "      <td>212.8</td>\n",
       "      <td>116</td>\n",
       "      <td>9.58</td>\n",
       "      <td>5.8</td>\n",
       "      <td>2</td>\n",
       "      <td>1.57</td>\n",
       "      <td>3</td>\n",
       "      <td>False.</td>\n",
       "    </tr>\n",
       "  </tbody>\n",
       "</table>\n",
       "<p>4 rows × 21 columns</p>\n",
       "</div>"
      ],
      "text/plain": [
       "     State  Account Length  Area Code     Phone Int'l Plan VMail Plan  \\\n",
       "435     MT              58        510  387-9301         no        yes   \n",
       "2133    MN             129        510  368-6892         no        yes   \n",
       "1981    ME              66        510  331-6270         no         no   \n",
       "1108    WY             151        510  381-4712         no         no   \n",
       "\n",
       "      VMail Message  Day Mins  Day Calls  Day Charge  ...  Eve Calls  \\\n",
       "435              29     240.4         80       40.87  ...         91   \n",
       "2133             31     193.0         99       32.81  ...         87   \n",
       "1981              0     118.0        133       20.06  ...         99   \n",
       "1108              0     235.9        104       40.10  ...         91   \n",
       "\n",
       "      Eve Charge  Night Mins  Night Calls  Night Charge  Intl Mins  \\\n",
       "435        10.11       164.2          108          7.39       11.2   \n",
       "2133       19.11       197.6           91          8.89       10.3   \n",
       "1981       21.09       214.4          122          9.65        5.3   \n",
       "1108        6.85       212.8          116          9.58        5.8   \n",
       "\n",
       "      Intl Calls  Intl Charge  CustServ Calls  Churn?  \n",
       "435            3         3.02               1  False.  \n",
       "2133           8         2.78               2  False.  \n",
       "1981           5         1.43               1  False.  \n",
       "1108           2         1.57               3  False.  \n",
       "\n",
       "[4 rows x 21 columns]"
      ]
     },
     "execution_count": 2,
     "metadata": {},
     "output_type": "execute_result"
    }
   ],
   "source": [
    "data = pd.read_csv('../datasets/customer-churn-model/Customer Churn Model.txt')\n",
    "data.sample(4)"
   ]
  },
  {
   "cell_type": "markdown",
   "id": "fe810a74",
   "metadata": {},
   "source": [
    "### Dividir usando la distribución normal"
   ]
  },
  {
   "cell_type": "code",
   "execution_count": 3,
   "id": "1f7bc86a",
   "metadata": {},
   "outputs": [
    {
     "data": {
      "text/plain": [
       "(array([ 19., 111., 343., 681., 895., 739., 370., 153.,  19.,   3.]),\n",
       " array([-3.20689175, -2.51004171, -1.81319168, -1.11634164, -0.41949161,\n",
       "         0.27735843,  0.97420846,  1.67105849,  2.36790853,  3.06475856,\n",
       "         3.7616086 ]),\n",
       " <BarContainer object of 10 artists>)"
      ]
     },
     "execution_count": 3,
     "metadata": {},
     "output_type": "execute_result"
    },
    {
     "data": {
      "image/png": "[encoded data removed]",
      "text/plain": [
       "<Figure size 640x480 with 1 Axes>"
      ]
     },
     "metadata": {},
     "output_type": "display_data"
    }
   ],
   "source": [
    "a = np.random.randn(len(data))\n",
    "plt.hist(a, rwidth=0.9)"
   ]
  },
  {
   "cell_type": "code",
   "execution_count": 4,
   "id": "b73c6876",
   "metadata": {},
   "outputs": [],
   "source": [
    "check = (a<0.8)\n",
    "\n",
    "training = data[check]\n",
    "testing = data[~check]"
   ]
  },
  {
   "cell_type": "markdown",
   "id": "40c72fc5",
   "metadata": {},
   "source": [
    "### Dividir usando sklearn"
   ]
  },
  {
   "cell_type": "code",
   "execution_count": 5,
   "id": "6a3d163a",
   "metadata": {},
   "outputs": [],
   "source": [
    "from sklearn.model_selection import train_test_split"
   ]
  },
  {
   "cell_type": "code",
   "execution_count": 6,
   "id": "34a7d5f2",
   "metadata": {},
   "outputs": [],
   "source": [
    "train, test = train_test_split(data, test_size=0.2)"
   ]
  },
  {
   "cell_type": "markdown",
   "id": "c1efe705",
   "metadata": {},
   "source": [
    "### Dividir usando función shuffle"
   ]
  },
  {
   "cell_type": "code",
   "execution_count": 7,
   "id": "faab96c3",
   "metadata": {},
   "outputs": [],
   "source": [
    "from sklearn.utils import shuffle"
   ]
  },
  {
   "cell_type": "code",
   "execution_count": 8,
   "id": "215c5136",
   "metadata": {},
   "outputs": [],
   "source": [
    "data = shuffle(data)"
   ]
  },
  {
   "cell_type": "code",
   "execution_count": 9,
   "id": "81003bc1",
   "metadata": {},
   "outputs": [],
   "source": [
    "cut_id = int(0.8*len(data))\n",
    "training = data[:cut_id]\n",
    "testing = data[cut_id+1:]"
   ]
  },
  {
   "cell_type": "markdown",
   "id": "2da4adb3",
   "metadata": {},
   "source": [
    "### Concatenar dataset"
   ]
  },
  {
   "cell_type": "code",
   "execution_count": null,
   "id": "bfac778e",
   "metadata": {},
   "outputs": [],
   "source": [
    "data = pd.read"
   ]
  }
 ],
 "metadata": {
  "kernelspec": {
   "display_name": "Python 3 (ipykernel)",
   "language": "python",
   "name": "python3"
  },
  "language_info": {
   "codemirror_mode": {
    "name": "ipython",
    "version": 3
   },
   "file_extension": ".py",
   "mimetype": "text/x-python",
   "name": "python",
   "nbconvert_exporter": "python",
   "pygments_lexer": "ipython3",
   "version": "3.9.13"
  }
 },
 "nbformat": 4,
 "nbformat_minor": 5
}
