{
 "cells": [
  {
   "cell_type": "markdown",
   "metadata": {},
   "source": [
    "<div class='alert alert-info'>\n",
    "    <h3> Modelo con datos simulados</h3>\n",
    "    <p>y = a + b*x</p>\n",
    "    <p>y: 100 valores distribuidos según una N(1.5, 2.5)</p>\n",
    "    <p>ye = 2 + 0.3*x + e</p>\n",
    "    <p><b>e</b> estará distribuida según N(0, 0.8)</p>\n",
    "<div>"
   ]
  },
  {
   "cell_type": "code",
   "execution_count": 1,
   "metadata": {},
   "outputs": [],
   "source": [
    "import numpy as np\n",
    "import matplotlib.pyplot as plt\n",
    "import pandas as pd"
   ]
  },
  {
   "cell_type": "code",
   "execution_count": 10,
   "metadata": {},
   "outputs": [],
   "source": [
    "x = 1.5 + 2.5*np.random.randn(100)\n",
    "res = 0 + 0.8*np.random.randn(100)\n",
    "y_pred = 5 + 1.3*x\n",
    "y_act = 5 + 1.3*x + res\n",
    "\n",
    "x_list = x.tolist()\n",
    "y_pred_list = y_pred.tolist()\n",
    "y_act_list = y_act.tolist()"
   ]
  },
  {
   "cell_type": "code",
   "execution_count": 11,
   "metadata": {},
   "outputs": [
    {
     "data": {
      "text/html": [
       "<div>\n",
       "<style scoped>\n",
       "    .dataframe tbody tr th:only-of-type {\n",
       "        vertical-align: middle;\n",
       "    }\n",
       "\n",
       "    .dataframe tbody tr th {\n",
       "        vertical-align: top;\n",
       "    }\n",
       "\n",
       "    .dataframe thead th {\n",
       "        text-align: right;\n",
       "    }\n",
       "</style>\n",
       "<table border=\"1\" class=\"dataframe\">\n",
       "  <thead>\n",
       "    <tr style=\"text-align: right;\">\n",
       "      <th></th>\n",
       "      <th>x</th>\n",
       "      <th>y</th>\n",
       "      <th>y_pred</th>\n",
       "    </tr>\n",
       "  </thead>\n",
       "  <tbody>\n",
       "    <tr>\n",
       "      <th>0</th>\n",
       "      <td>0.308305</td>\n",
       "      <td>5.572167</td>\n",
       "      <td>5.400796</td>\n",
       "    </tr>\n",
       "    <tr>\n",
       "      <th>1</th>\n",
       "      <td>-0.049110</td>\n",
       "      <td>6.006921</td>\n",
       "      <td>4.936156</td>\n",
       "    </tr>\n",
       "    <tr>\n",
       "      <th>2</th>\n",
       "      <td>2.504837</td>\n",
       "      <td>5.774658</td>\n",
       "      <td>8.256288</td>\n",
       "    </tr>\n",
       "    <tr>\n",
       "      <th>3</th>\n",
       "      <td>1.801851</td>\n",
       "      <td>8.325054</td>\n",
       "      <td>7.342406</td>\n",
       "    </tr>\n",
       "    <tr>\n",
       "      <th>4</th>\n",
       "      <td>-3.464260</td>\n",
       "      <td>-1.103861</td>\n",
       "      <td>0.496462</td>\n",
       "    </tr>\n",
       "  </tbody>\n",
       "</table>\n",
       "</div>"
      ],
      "text/plain": [
       "          x         y    y_pred\n",
       "0  0.308305  5.572167  5.400796\n",
       "1 -0.049110  6.006921  4.936156\n",
       "2  2.504837  5.774658  8.256288\n",
       "3  1.801851  8.325054  7.342406\n",
       "4 -3.464260 -1.103861  0.496462"
      ]
     },
     "execution_count": 11,
     "metadata": {},
     "output_type": "execute_result"
    }
   ],
   "source": [
    "data = pd.DataFrame({\n",
    "    'x': x_list,\n",
    "    'y': y_act_list,\n",
    "    'y_pred': y_pred_list,\n",
    "})\n",
    "\n",
    "data.head()"
   ]
  },
  {
   "cell_type": "code",
   "execution_count": 15,
   "metadata": {},
   "outputs": [],
   "source": [
    "y_mean = [np.mean(y_act) for i in range(len(x))]"
   ]
  },
  {
   "cell_type": "code",
   "execution_count": 18,
   "metadata": {},
   "outputs": [
    {
     "data": {
      "image/png": "[encoded data removed]",
      "text/plain": [
       "<Figure size 432x288 with 1 Axes>"
      ]
     },
     "metadata": {
      "needs_background": "light"
     },
     "output_type": "display_data"
    }
   ],
   "source": [
    "plt.plot(x, y_pred, label='Predicción')\n",
    "plt.plot(x, y_mean, 'g', label='Media')\n",
    "plt.plot(x, y_act, 'ro', label='Medidas')\n",
    "plt.title('Valor medido VS predicción')\n",
    "plt.legend(loc=0)\n",
    "plt.show()"
   ]
  },
  {
   "cell_type": "markdown",
   "metadata": {},
   "source": [
    "<div class='alert alert-success'>\n",
    "  <ul>\n",
    "      <li>SST = SSR + SSD</li>\n",
    "      <li>SST --> diferencia de los datos respecto a su media.</li>                                    \n",
    "      <li>SSD --> diferencia entre los datos y las predicciones.</li>                                    \n",
    "      <li>SSR --> diferencia entre la prediccion y la media.</li>                                    \n",
    "      <li>R2 = SSR / SST coefficiente de determinación entre 0 y 1</li>                                    \n",
    "  </ul>                                \n",
    "<div>       "
   ]
  },
  {
   "cell_type": "code",
   "execution_count": 20,
   "metadata": {},
   "outputs": [
    {
     "data": {
      "text/html": [
       "<div>\n",
       "<style scoped>\n",
       "    .dataframe tbody tr th:only-of-type {\n",
       "        vertical-align: middle;\n",
       "    }\n",
       "\n",
       "    .dataframe tbody tr th {\n",
       "        vertical-align: top;\n",
       "    }\n",
       "\n",
       "    .dataframe thead th {\n",
       "        text-align: right;\n",
       "    }\n",
       "</style>\n",
       "<table border=\"1\" class=\"dataframe\">\n",
       "  <thead>\n",
       "    <tr style=\"text-align: right;\">\n",
       "      <th></th>\n",
       "      <th>x</th>\n",
       "      <th>y</th>\n",
       "      <th>y_pred</th>\n",
       "      <th>SSR</th>\n",
       "      <th>SSD</th>\n",
       "      <th>SST</th>\n",
       "    </tr>\n",
       "  </thead>\n",
       "  <tbody>\n",
       "    <tr>\n",
       "      <th>0</th>\n",
       "      <td>0.308305</td>\n",
       "      <td>5.572167</td>\n",
       "      <td>5.400796</td>\n",
       "      <td>2.152904</td>\n",
       "      <td>0.029368</td>\n",
       "      <td>1.679376</td>\n",
       "    </tr>\n",
       "    <tr>\n",
       "      <th>1</th>\n",
       "      <td>-0.049110</td>\n",
       "      <td>6.006921</td>\n",
       "      <td>4.936156</td>\n",
       "      <td>3.732305</td>\n",
       "      <td>1.146536</td>\n",
       "      <td>0.741585</td>\n",
       "    </tr>\n",
       "    <tr>\n",
       "      <th>2</th>\n",
       "      <td>2.504837</td>\n",
       "      <td>5.774658</td>\n",
       "      <td>8.256288</td>\n",
       "      <td>1.927139</td>\n",
       "      <td>6.158488</td>\n",
       "      <td>1.195558</td>\n",
       "    </tr>\n",
       "    <tr>\n",
       "      <th>3</th>\n",
       "      <td>1.801851</td>\n",
       "      <td>8.325054</td>\n",
       "      <td>7.342406</td>\n",
       "      <td>0.224991</td>\n",
       "      <td>0.965598</td>\n",
       "      <td>2.122792</td>\n",
       "    </tr>\n",
       "    <tr>\n",
       "      <th>4</th>\n",
       "      <td>-3.464260</td>\n",
       "      <td>-1.103861</td>\n",
       "      <td>0.496462</td>\n",
       "      <td>40.597440</td>\n",
       "      <td>2.561035</td>\n",
       "      <td>63.551753</td>\n",
       "    </tr>\n",
       "  </tbody>\n",
       "</table>\n",
       "</div>"
      ],
      "text/plain": [
       "          x         y    y_pred        SSR       SSD        SST\n",
       "0  0.308305  5.572167  5.400796   2.152904  0.029368   1.679376\n",
       "1 -0.049110  6.006921  4.936156   3.732305  1.146536   0.741585\n",
       "2  2.504837  5.774658  8.256288   1.927139  6.158488   1.195558\n",
       "3  1.801851  8.325054  7.342406   0.224991  0.965598   2.122792\n",
       "4 -3.464260 -1.103861  0.496462  40.597440  2.561035  63.551753"
      ]
     },
     "execution_count": 20,
     "metadata": {},
     "output_type": "execute_result"
    }
   ],
   "source": [
    "data['SSR'] = (data['y_pred'] - np.mean(y_act))**2\n",
    "data['SSD'] = (data['y_pred'] - data['y'])**2\n",
    "data['SST'] = (data['y'] - np.mean(y_act))**2\n",
    "data.head()"
   ]
  },
  {
   "cell_type": "code",
   "execution_count": 22,
   "metadata": {},
   "outputs": [
    {
     "name": "stdout",
     "output_type": "stream",
     "text": [
      "SSR --> 892.340611508111\n",
      "SSD --> 66.7244192152887\n",
      "SST --> 1001.5517264380645\n"
     ]
    }
   ],
   "source": [
    "SSR = sum(data['SSR'])\n",
    "SSD = sum(data['SSD'])\n",
    "SST = sum(data['SST'])\n",
    "print('SSR -->', SSR)\n",
    "print('SSD -->', SSD)\n",
    "print('SST -->', SST)"
   ]
  },
  {
   "cell_type": "code",
   "execution_count": 23,
   "metadata": {},
   "outputs": [
    {
     "data": {
      "text/plain": [
       "0.8909580882873082"
      ]
     },
     "execution_count": 23,
     "metadata": {},
     "output_type": "execute_result"
    }
   ],
   "source": [
    "# Entre más cercano a 1, mejor será el modelo\n",
    "r2 = SSR/SST\n",
    "r2"
   ]
  },
  {
   "cell_type": "markdown",
   "metadata": {},
   "source": [
    "<div class='alert alert-success'>\n",
    "    <h3>Recta de regreción</h3>\n",
    "    <br />\n",
    "    <li>y = a + bx</li>\n",
    "    <li>b = sum( (xi - xm)*(yi - xm) ) / sum( (xi - xm)**2 )</li>\n",
    "    <li>a = ym - b*xm</li>\n",
    "</div>"
   ]
  },
  {
   "cell_type": "code",
   "execution_count": 24,
   "metadata": {},
   "outputs": [
    {
     "data": {
      "text/plain": [
       "(4.981384455139859, 1.3310443640596032)"
      ]
     },
     "execution_count": 24,
     "metadata": {},
     "output_type": "execute_result"
    }
   ],
   "source": [
    "xm = np.mean(data['x'])\n",
    "ym = np.mean(data['y'])\n",
    "\n",
    "num = sum((data['x'] - xm) * (data['y'] - ym))\n",
    "den = sum((data['x'] - xm)**2)\n",
    "\n",
    "b = num / den\n",
    "a = ym - b*xm\n",
    "\n",
    "a, b"
   ]
  },
  {
   "cell_type": "code",
   "execution_count": 25,
   "metadata": {},
   "outputs": [],
   "source": [
    "data['y_model'] = a + b*x"
   ]
  },
  {
   "cell_type": "code",
   "execution_count": 27,
   "metadata": {},
   "outputs": [
    {
     "data": {
      "image/png": "[encoded data removed]",
      "text/plain": [
       "<Figure size 432x288 with 1 Axes>"
      ]
     },
     "metadata": {
      "needs_background": "light"
     },
     "output_type": "display_data"
    }
   ],
   "source": [
    "plt.plot(x, data['y_model'], label='Modelo')\n",
    "plt.plot(x, y_mean, 'g', label='Media')\n",
    "plt.plot(x, y_act, 'ro', label='Medidas')\n",
    "plt.title('Valor medido VS modelo')\n",
    "plt.legend(loc=0)\n",
    "plt.show()"
   ]
  },
  {
   "cell_type": "markdown",
   "metadata": {},
   "source": [
    "<div class='alert alert-success'>\n",
    "    <p>Los valores <u>t-estadistico</u> y <u>p-valor</u></p> \n",
    "    <h4>Error estandar de los residuos RSE</h4>\n",
    "</div>    "
   ]
  },
  {
   "cell_type": "code",
   "execution_count": 28,
   "metadata": {},
   "outputs": [
    {
     "data": {
      "text/plain": [
       "0.8251432727497513"
      ]
     },
     "execution_count": 28,
     "metadata": {},
     "output_type": "execute_result"
    }
   ],
   "source": [
    "#  Entre mas pequeño, mejor el modelo\n",
    "rse = np.sqrt(SSD / (len(data) - 2))\n",
    "rse"
   ]
  },
  {
   "cell_type": "code",
   "execution_count": 29,
   "metadata": {},
   "outputs": [
    {
     "data": {
      "text/plain": [
       "0.12014187363866487"
      ]
     },
     "execution_count": 29,
     "metadata": {},
     "output_type": "execute_result"
    }
   ],
   "source": [
    "error = rse / np.mean(data['y'])\n",
    "error"
   ]
  },
  {
   "cell_type": "code",
   "execution_count": null,
   "metadata": {},
   "outputs": [],
   "source": []
  }
 ],
 "metadata": {
  "kernelspec": {
   "display_name": "Python 3",
   "language": "python",
   "name": "python3"
  },
  "language_info": {
   "codemirror_mode": {
    "name": "ipython",
    "version": 3
   },
   "file_extension": ".py",
   "mimetype": "text/x-python",
   "name": "python",
   "nbconvert_exporter": "python",
   "pygments_lexer": "ipython3",
   "version": "3.7.3"
  }
 },
 "nbformat": 4,
 "nbformat_minor": 2
}
