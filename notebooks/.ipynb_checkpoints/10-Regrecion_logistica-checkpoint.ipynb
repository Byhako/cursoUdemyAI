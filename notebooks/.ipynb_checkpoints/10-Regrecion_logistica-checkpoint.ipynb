{
 "cells": [
  {
   "cell_type": "markdown",
   "metadata": {},
   "source": [
    "<div class='alert alert-info'>\n",
    "    <h1>Definiciones</h1>\n",
    "    <p>La regresión logística nos ayuda a clasificar nuestros registros en dos o mas categorías</p>\n",
    "    <code>y = 1 / 1 + exp[-(a + bx)]</code>\n",
    "    <table border=\"1\">\n",
    "\t\t<tr>\n",
    "\t\t\t<th></th>\n",
    "\t\t\t<th>Regresion Lineal</th>\n",
    "\t\t\t<th>Regresion Logistica</th>\n",
    "\t\t</tr>\n",
    "\t\t<tr>\n",
    "\t\t\t<td>Variables Predictoras</td>\n",
    "\t\t\t<td>Numericas continuas y categoricas</td>\n",
    "\t\t\t<td>Numericas continuas y categoricas</td>\n",
    "\t\t</tr>\n",
    "        <tr>\n",
    "\t\t\t<td>Predicciones</td>\n",
    "\t\t\t<td>Numericas</td>\n",
    "\t\t\t<td>Categoricas</td>\n",
    "\t\t</tr>\n",
    "        <tr>\n",
    "\t\t\t<td>Relacion</td>\n",
    "\t\t\t<td>Lineal</td>\n",
    "\t\t\t<td>Lineal con modificacion</td>\n",
    "\t\t</tr>\n",
    "\t</table>\n",
    "    \n",
    "</div>"
   ]
  },
  {
   "cell_type": "code",
   "execution_count": null,
   "metadata": {},
   "outputs": [],
   "source": []
  }
 ],
 "metadata": {
  "kernelspec": {
   "display_name": "Python 3",
   "language": "python",
   "name": "python3"
  },
  "language_info": {
   "codemirror_mode": {
    "name": "ipython",
    "version": 3
   },
   "file_extension": ".py",
   "mimetype": "text/x-python",
   "name": "python",
   "nbconvert_exporter": "python",
   "pygments_lexer": "ipython3",
   "version": "3.7.4"
  }
 },
 "nbformat": 4,
 "nbformat_minor": 2
}
