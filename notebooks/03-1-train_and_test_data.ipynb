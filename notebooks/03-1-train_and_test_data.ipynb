{
 "cells": [
  {
   "cell_type": "markdown",
   "id": "1a0ccd5d",
   "metadata": {},
   "source": [
    "### Conjunto de entrenamiento y de testing"
   ]
  },
  {
   "cell_type": "code",
   "execution_count": 1,
   "id": "c86788e3",
   "metadata": {},
   "outputs": [],
   "source": [
    "import numpy as np\n",
    "import pandas as pd\n",
    "import matplotlib.pyplot as plt"
   ]
  },
  {
   "cell_type": "code",
   "execution_count": 2,
   "id": "569b6e26",
   "metadata": {},
   "outputs": [
    {
     "data": {
      "text/html": [
       "<div>\n",
       "<style scoped>\n",
       "    .dataframe tbody tr th:only-of-type {\n",
       "        vertical-align: middle;\n",
       "    }\n",
       "\n",
       "    .dataframe tbody tr th {\n",
       "        vertical-align: top;\n",
       "    }\n",
       "\n",
       "    .dataframe thead th {\n",
       "        text-align: right;\n",
       "    }\n",
       "</style>\n",
       "<table border=\"1\" class=\"dataframe\">\n",
       "  <thead>\n",
       "    <tr style=\"text-align: right;\">\n",
       "      <th></th>\n",
       "      <th>State</th>\n",
       "      <th>Account Length</th>\n",
       "      <th>Area Code</th>\n",
       "      <th>Phone</th>\n",
       "      <th>Int'l Plan</th>\n",
       "      <th>VMail Plan</th>\n",
       "      <th>VMail Message</th>\n",
       "      <th>Day Mins</th>\n",
       "      <th>Day Calls</th>\n",
       "      <th>Day Charge</th>\n",
       "      <th>...</th>\n",
       "      <th>Eve Calls</th>\n",
       "      <th>Eve Charge</th>\n",
       "      <th>Night Mins</th>\n",
       "      <th>Night Calls</th>\n",
       "      <th>Night Charge</th>\n",
       "      <th>Intl Mins</th>\n",
       "      <th>Intl Calls</th>\n",
       "      <th>Intl Charge</th>\n",
       "      <th>CustServ Calls</th>\n",
       "      <th>Churn?</th>\n",
       "    </tr>\n",
       "  </thead>\n",
       "  <tbody>\n",
       "    <tr>\n",
       "      <th>2673</th>\n",
       "      <td>ND</td>\n",
       "      <td>180</td>\n",
       "      <td>415</td>\n",
       "      <td>369-1929</td>\n",
       "      <td>no</td>\n",
       "      <td>no</td>\n",
       "      <td>0</td>\n",
       "      <td>224.9</td>\n",
       "      <td>105</td>\n",
       "      <td>38.23</td>\n",
       "      <td>...</td>\n",
       "      <td>101</td>\n",
       "      <td>21.25</td>\n",
       "      <td>216.1</td>\n",
       "      <td>73</td>\n",
       "      <td>9.72</td>\n",
       "      <td>6.7</td>\n",
       "      <td>5</td>\n",
       "      <td>1.81</td>\n",
       "      <td>3</td>\n",
       "      <td>True.</td>\n",
       "    </tr>\n",
       "    <tr>\n",
       "      <th>2598</th>\n",
       "      <td>TN</td>\n",
       "      <td>196</td>\n",
       "      <td>415</td>\n",
       "      <td>340-8291</td>\n",
       "      <td>no</td>\n",
       "      <td>no</td>\n",
       "      <td>0</td>\n",
       "      <td>133.1</td>\n",
       "      <td>80</td>\n",
       "      <td>22.63</td>\n",
       "      <td>...</td>\n",
       "      <td>120</td>\n",
       "      <td>17.55</td>\n",
       "      <td>221.6</td>\n",
       "      <td>96</td>\n",
       "      <td>9.97</td>\n",
       "      <td>10.3</td>\n",
       "      <td>8</td>\n",
       "      <td>2.78</td>\n",
       "      <td>1</td>\n",
       "      <td>False.</td>\n",
       "    </tr>\n",
       "    <tr>\n",
       "      <th>647</th>\n",
       "      <td>ME</td>\n",
       "      <td>88</td>\n",
       "      <td>415</td>\n",
       "      <td>420-5179</td>\n",
       "      <td>no</td>\n",
       "      <td>no</td>\n",
       "      <td>0</td>\n",
       "      <td>192.0</td>\n",
       "      <td>91</td>\n",
       "      <td>32.64</td>\n",
       "      <td>...</td>\n",
       "      <td>127</td>\n",
       "      <td>10.85</td>\n",
       "      <td>155.6</td>\n",
       "      <td>125</td>\n",
       "      <td>7.00</td>\n",
       "      <td>7.5</td>\n",
       "      <td>5</td>\n",
       "      <td>2.03</td>\n",
       "      <td>1</td>\n",
       "      <td>False.</td>\n",
       "    </tr>\n",
       "    <tr>\n",
       "      <th>1064</th>\n",
       "      <td>WY</td>\n",
       "      <td>185</td>\n",
       "      <td>415</td>\n",
       "      <td>405-7904</td>\n",
       "      <td>yes</td>\n",
       "      <td>yes</td>\n",
       "      <td>30</td>\n",
       "      <td>154.1</td>\n",
       "      <td>114</td>\n",
       "      <td>26.20</td>\n",
       "      <td>...</td>\n",
       "      <td>106</td>\n",
       "      <td>10.09</td>\n",
       "      <td>258.4</td>\n",
       "      <td>105</td>\n",
       "      <td>11.63</td>\n",
       "      <td>12.9</td>\n",
       "      <td>3</td>\n",
       "      <td>3.48</td>\n",
       "      <td>2</td>\n",
       "      <td>False.</td>\n",
       "    </tr>\n",
       "  </tbody>\n",
       "</table>\n",
       "<p>4 rows × 21 columns</p>\n",
       "</div>"
      ],
      "text/plain": [
       "     State  Account Length  Area Code     Phone Int'l Plan VMail Plan  \\\n",
       "2673    ND             180        415  369-1929         no         no   \n",
       "2598    TN             196        415  340-8291         no         no   \n",
       "647     ME              88        415  420-5179         no         no   \n",
       "1064    WY             185        415  405-7904        yes        yes   \n",
       "\n",
       "      VMail Message  Day Mins  Day Calls  Day Charge  ...  Eve Calls  \\\n",
       "2673              0     224.9        105       38.23  ...        101   \n",
       "2598              0     133.1         80       22.63  ...        120   \n",
       "647               0     192.0         91       32.64  ...        127   \n",
       "1064             30     154.1        114       26.20  ...        106   \n",
       "\n",
       "      Eve Charge  Night Mins  Night Calls  Night Charge  Intl Mins  \\\n",
       "2673       21.25       216.1           73          9.72        6.7   \n",
       "2598       17.55       221.6           96          9.97       10.3   \n",
       "647        10.85       155.6          125          7.00        7.5   \n",
       "1064       10.09       258.4          105         11.63       12.9   \n",
       "\n",
       "      Intl Calls  Intl Charge  CustServ Calls  Churn?  \n",
       "2673           5         1.81               3   True.  \n",
       "2598           8         2.78               1  False.  \n",
       "647            5         2.03               1  False.  \n",
       "1064           3         3.48               2  False.  \n",
       "\n",
       "[4 rows x 21 columns]"
      ]
     },
     "execution_count": 2,
     "metadata": {},
     "output_type": "execute_result"
    }
   ],
   "source": [
    "data = pd.read_csv('../datasets/customer-churn-model/Customer Churn Model.txt')\n",
    "data.sample(4)"
   ]
  },
  {
   "cell_type": "markdown",
   "id": "fe810a74",
   "metadata": {},
   "source": [
    "### Dividir usando la distribución normal"
   ]
  },
  {
   "cell_type": "code",
   "execution_count": 3,
   "id": "1f7bc86a",
   "metadata": {},
   "outputs": [
    {
     "data": {
      "text/plain": [
       "(array([  7.,  38., 187., 496., 825., 918., 556., 246.,  51.,   9.]),\n",
       " array([-3.54355225, -2.85015976, -2.15676727, -1.46337477, -0.76998228,\n",
       "        -0.07658978,  0.61680271,  1.31019521,  2.0035877 ,  2.6969802 ,\n",
       "         3.39037269]),\n",
       " <BarContainer object of 10 artists>)"
      ]
     },
     "execution_count": 3,
     "metadata": {},
     "output_type": "execute_result"
    },
    {
     "data": {
      "image/png": "[encoded data removed]",
      "text/plain": [
       "<Figure size 640x480 with 1 Axes>"
      ]
     },
     "metadata": {},
     "output_type": "display_data"
    }
   ],
   "source": [
    "a = np.random.randn(len(data))\n",
    "plt.hist(a, rwidth=0.9)"
   ]
  },
  {
   "cell_type": "code",
   "execution_count": 7,
   "id": "b73c6876",
   "metadata": {},
   "outputs": [],
   "source": [
    "check = (a<0.8)\n",
    "\n",
    "training = data[check]\n",
    "testing = data[~check]"
   ]
  },
  {
   "cell_type": "markdown",
   "id": "40c72fc5",
   "metadata": {},
   "source": [
    "### Dividir usando sklearn"
   ]
  },
  {
   "cell_type": "code",
   "execution_count": 4,
   "id": "6a3d163a",
   "metadata": {},
   "outputs": [],
   "source": [
    "from sklearn.model_selection import train_test_split"
   ]
  },
  {
   "cell_type": "code",
   "execution_count": 5,
   "id": "34a7d5f2",
   "metadata": {},
   "outputs": [],
   "source": [
    "train, test = train_test_split(data, test_size=0.2)"
   ]
  },
  {
   "cell_type": "markdown",
   "id": "c1efe705",
   "metadata": {},
   "source": [
    "### Dividir usando función shuffle"
   ]
  },
  {
   "cell_type": "code",
   "execution_count": 7,
   "id": "faab96c3",
   "metadata": {},
   "outputs": [],
   "source": [
    "from sklearn.utils import shuffle"
   ]
  },
  {
   "cell_type": "code",
   "execution_count": 8,
   "id": "215c5136",
   "metadata": {},
   "outputs": [],
   "source": [
    "data = shuffle(data)"
   ]
  },
  {
   "cell_type": "code",
   "execution_count": 9,
   "id": "81003bc1",
   "metadata": {},
   "outputs": [],
   "source": [
    "cut_id = int(0.8*len(data))\n",
    "training = data[:cut_id]\n",
    "testing = data[cut_id+1:]"
   ]
  },
  {
   "cell_type": "code",
   "execution_count": null,
   "id": "df52ecde",
   "metadata": {},
   "outputs": [],
   "source": []
  }
 ],
 "metadata": {
  "kernelspec": {
   "display_name": "Python 3 (ipykernel)",
   "language": "python",
   "name": "python3"
  },
  "language_info": {
   "codemirror_mode": {
    "name": "ipython",
    "version": 3
   },
   "file_extension": ".py",
   "mimetype": "text/x-python",
   "name": "python",
   "nbconvert_exporter": "python",
   "pygments_lexer": "ipython3",
   "version": "3.9.13"
  }
 },
 "nbformat": 4,
 "nbformat_minor": 5
}
